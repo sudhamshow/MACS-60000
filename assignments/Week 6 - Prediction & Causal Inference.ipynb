{
 "cells": [
  {
   "cell_type": "markdown",
   "metadata": {},
   "source": [
    "# Week 6 - Prediction & Causal Inference\n",
    "\n",
    "Last week, we explored (supervised) text classification, where we train a model to learn associations between text and some classification or value connected with it (e.g., what distinguishes a winning argument before the Supreme Court; can we extend our judgment regarding what documents are relevant to my thesis project to all of Google News; etc.) Classification often uses a representative sample of text about which we want to make inferences and then we use machine learning to learn \"true\" assignments and classify the rest.\n",
    "\n",
    "This week, we explore two different types of inferences to out-of-sample populations. _Prediction_ involves our reasoned expectation regarding an unobserved state of the world, given the world in which we live and on which we have trained our prediction algorithm. Often this prediction is about the future world. We don't expect the U.S. Congress to talk about the identical things today and tomorrow, but today should contain some useful information. by contrast _causal inference_ poses the related by distinct challenge of our reasoned expectations regarding an unobserved state of the world IF we intervene in some way. In other words, what does the intervention cause, and how can we predict it to change the world. Causality has a deeply contested history in social science and philosophy, but it usually involves an \"if,\" a difference between two counterfactual worlds, one where an event occurs and one where it doesn't.\n",
    "\n",
    "Causal questions in text analysis may place the text in one or more of many positions we explore below: as cause, effect, confounder, mediator (or moderator), or collider. For example, assuming that everything spoken can be transcribed into text, saying something mean might hurt someone's feelings (text as cause). Doing something mean might cause someone to say something angry (text as effect). Apologizing might change the influence of doing something mean (text as mediator/moderator). A compliment might obscure the effect of doing something mean (text as confounder). And yelling something audaciously mean might yield a loud, emotional response, which both influence the likelihood that the interaction was recorded and subjected to analysis (text as collider). As you can see, in a single conversation, text can play all of these roles. Why do we care about cause and effect with text? Because while words appear to exert power in the world, which words spoken under what circumstances by whom? Causal analysis attempts to get at the question, if _X_ was written or spoken, _Y_ would happen."
   ]
  },
  {
   "cell_type": "code",
   "execution_count": 2,
   "metadata": {},
   "outputs": [],
   "source": [
    "#Special module written for this class\n",
    "#This provides access to data and to helper functions from previous weeks\n",
    "#Make sure you update it before starting this notebook\n",
    "import lucem_illud #pip install -U git+git://github.com/UChicago-Computational-Content-Analysis/lucem_illud.git\n",
    "\n",
    "#All these packages need to be installed from pip\n",
    "import os #For managing the operating system\n",
    "import requests #For getting files\n",
    "import zipfile #For managing zips\n",
    "import numpy as np #For arrays\n",
    "import scipy as sp #For some stats\n",
    "import pandas as pd #Gives us DataFrames\n",
    "import numpy as np #Math and matrices\n",
    "import matplotlib.pyplot as plt #For graphics\n",
    "\n",
    "# statsmodels is a popular Python statistics package\n",
    "import statsmodels.api as sm\n",
    "# Let's also import its graphics module\n",
    "import statsmodels.graphics.api as smg\n",
    "# And the mediation module\n",
    "from statsmodels.stats.mediation import Mediation\n",
    "\n",
    "# Pipelines to add text-based quantiative variables for regressions\n",
    "from transformers import pipeline\n",
    "\n",
    "# We have a lot of features, so let's set Pandas to show all of them.\n",
    "pd.set_option('display.max_columns', None)"
   ]
  },
  {
   "cell_type": "markdown",
   "metadata": {},
   "source": [
    "# Prediction\n",
    "We can make predictions about a range of different text 'populations'. We can use texts in English to predict their translations in French. We can use newspaper articles from 2012 to 2022 to forecast the contents of 2023 newspaper articles (e.g., a [time series](https://en.wikipedia.org/wiki/Time_series)). Or we can \"nowcast\" by using real-time social information such as Tweets to predict when an important event is happening, such as a riot.\n",
    "\n",
    "If we don't have any information about how the new population will vary from the population we modeled, then prediction is implemented in the same way as in-sample inference. E.g., if you have a categorization of 2022 emails as spam or ham, you could predict whether 2023 emails are spam the same way you predicted 2022 emails. On the other hand, if you have new information, such as a trend beginning in December 2022 for spam emails to have \"Urgent:\" in the subject line, your 2023 prediction may differ by putting more weight on that indicator relative to others.\n",
    "\n",
    "In this way, prediction is similar to the classifications we performed last last week, incorporating multidimensional trends (e.g., time, place, source) learnable from your current corpus. We encourage you to think more about this if you are interested in predicting the future of your corpus!"
   ]
  },
  {
   "cell_type": "markdown",
   "metadata": {},
   "source": [
    "## <font color=\"red\">*Exercise 1*</font>\n",
    "\n",
    "<font color=\"red\">Describe 2 separate predictions relevant to your project and associated texts, which involve predicting text that has not been observed based on patterns that have. Then, in a single, short paragraph, describe a research design through which you could use textual features and the tools of classification and regression to evaluate these predictions."
   ]
  },
  {
   "cell_type": "markdown",
   "source": [
    "In my project, I'll be using text as a source, and as a predictor of social event. I am trying to study\n",
    "how echo chambers arise as a result of conflicts and content moderation on social media platforms leading them\n",
    "to shift base to other platforms that are less restrictive.\n",
    "Prediction 1 - Assuming 2 groups are at loggerheads in a debate, although the username does not reveal much\n",
    "information about the person, the activity (like, share) and the text in comment can provide us insights about\n",
    "who belongs to which group, who has whose back and who attacks whom based on these activities. And when a new\n",
    "activity is recorded, the group the user is closely affiliated/ inclined towards can be predicted based\n",
    "on similar previous activities recorded.\n",
    "Prediction 2 - Based on the content of the comments made, and the previous knowledge of the effects of such activities,\n",
    "one could predict social events like the start of a debate, volunteer moderation stepping in, users leaving the\n",
    "community. It is important to learn the composition and diversity of the community to be able to predict such events\n",
    "effectively."
   ],
   "metadata": {
    "collapsed": false
   }
  },
  {
   "cell_type": "markdown",
   "source": [
    "I plan to use topic modelling to identify relevant topics to characterise what usually causes conflicts\n",
    "given a particular population. Distinguishing or fighting words could also be used to identify animosity\n",
    "and based on a user's new activity, the user can be classified using K- nearest neighbours to fit to a community\n",
    "they are inclined to support.\n",
    "I also plan to build a logistic regressor with sentiment analysis and other recorded activities for a given community\n",
    "to model if a particular comment can cause the user to be banned, or if it can start a debate or make another user\n",
    "quit the community if targeted."
   ],
   "metadata": {
    "collapsed": false
   }
  },
  {
   "cell_type": "markdown",
   "metadata": {},
   "source": [
    "# Text in causal inference\n",
    "\n",
    "In causal inference, we are interested in the effect of a _treatment_ on an _outcome_. There are five types of variables that could be directly involved in our causal model, and any could be a text variable. This figure from [Keith et al. 2020](https://aclanthology.org/2020.acl-main.474.pdf) concisely shows the five positions for variables in acyclic (i.e., no arrows flow back into themselves) causal inference: treatment, mediator, outcome, confounder, and collider.\n",
    "\n",
    "<img src=\"https://raw.githubusercontent.com/UChicago-Computational-Content-Analysis/Homework-Notebooks/main/week-6/img/causal_diagram.png\" alt=\"https://raw.githubusercontent.com/UChicago-Computational-Content-Analysis/Homework-Notebooks/main/week-6/img/causal_diagram.png\" style=\"width:500px\">\n",
    "\n",
    "\"Text as treatment\" means the effect of text on other variables. For example, how does the news coverage of a politician affect their election chance? How does the sentiment of a Reddit post affect its upvotes?\n",
    "\n",
    "Whether we're interested in text as treatment, mediator, outcome, or confounder, we have at our disposal the same causal inference strategies used with other forms of data, such as matching, difference in difference, regression discontinuity, and instrumental variables. Each of these methods usually gives you a more precise conditional identification of the causal influence than regressing an effect on a singular (purported) cause. For example, one of the readings for this week, [Saha 2019](https://doi.org/10.1145/3292522.3326032), uses propensity score matching, which is a straightforward method that works on most datasets (see Professor Gary King on [coarsened exact matching](https://www.youtube.com/watch?v=tvMyjDi4dyg)). For this assignment, we do not detail each of these causal strategies, but note several courses at UChicago that introduce these methods, as well as online textbooks (e.g., Scott Cunningham's [Causal Inference: The Mixtape](https://mixtape.scunning.com/)).\n",
    "\n",
    "You can do causal inference on any sort of text data as long as you have a plausible _identification_ strategy, meaning an argument that you can correctly identify a causal effect if one exists using your data and analysis. For example, if you have a data from a randomized controlled trial (RCT) where you intervene randomly with some treatment, you can identify a causal effect with relative ease. Text exhibits a wide array of dependencies making unconditional randomization impossible, but we will attempt strategies that approach it. "
   ]
  },
  {
   "cell_type": "markdown",
   "metadata": {},
   "source": [
    "# Text as treatment and outcome\n",
    "\n",
    "To illustrate text as treatment and outcome, we will analyze a dataset of internet arguments. We have 8,895 pairs of comments, where one person makes a statement and the other responds. Our research question is thus: _How does the text of the first commenter affect the text of the respondent?_\n",
    "\n",
    "The data comes from the [Internet Argument Corpus](https://nlds.soe.ucsc.edu/iac). Let's load the data and take a look."
   ]
  },
  {
   "cell_type": "code",
   "execution_count": 3,
   "metadata": {},
   "outputs": [
    {
     "name": "stdout",
     "output_type": "stream",
     "text": [
      "Downloaded file: http://nldslab.soe.ucsc.edu/iac/iac_v1.1.zip\n"
     ]
    }
   ],
   "source": [
    "url = 'http://nldslab.soe.ucsc.edu/iac/iac_v1.1.zip'\n",
    "\n",
    "req = requests.get(url)\n",
    "\n",
    "filename = url.split('/')[-1]\n",
    "with open(filename,'wb') as output_file:\n",
    "    output_file.write(req.content)\n",
    "print('Downloaded file: ' + url)"
   ]
  },
  {
   "cell_type": "code",
   "execution_count": 5,
   "metadata": {},
   "outputs": [
    {
     "data": {
      "text/plain": "             key  discussion_id_x  agree-disagree  agreement  \\\n0       (731, 1)             6032        0.333333  -1.333333   \n1       (660, 3)            10217        0.600000   0.285714   \n2       (114, 5)             3462        0.600000  -1.500000   \n3        (43, 3)             9930        0.166667  -0.833333   \n4      (1314, 0)             5352        0.142857  -1.666667   \n...          ...              ...             ...        ...   \n9995    (580, 4)              821        0.800000  -2.000000   \n9997    (694, 4)             9258        0.000000  -3.200000   \n9998    (916, 6)            10301        0.000000  -3.000000   \n9999   (1348, 1)             6032        0.857143   0.800000   \n10000   (484, 0)             3426        0.142857  -2.833333   \n\n       agreement_unsure    attack  attack_unsure  defeater-undercutter  \\\n0              0.333333  0.333333       0.000000              0.500000   \n1              0.000000  0.714286       0.000000             -2.500000   \n2              0.000000  1.333333       0.000000              1.000000   \n3              0.333333  1.500000       0.000000              0.400000   \n4              0.166667  0.000000       0.166667             -1.166667   \n...                 ...       ...            ...                   ...   \n9995           0.166667 -0.500000       0.166667              1.000000   \n9997           0.200000  0.200000       0.200000             -1.800000   \n9998           0.000000 -2.400000       0.000000             -2.400000   \n9999           0.600000  0.600000       0.200000              3.000000   \n10000          0.166667  0.833333       0.166667             -1.000000   \n\n       defeater-undercutter_unsure  fact-feeling  fact-feeling_unsure  \\\n0                         0.000000      0.333333             0.333333   \n1                         0.000000      1.000000             0.000000   \n2                         0.000000      1.500000             0.000000   \n3                         0.000000      1.500000             0.166667   \n4                         0.166667     -0.833333             0.333333   \n...                            ...           ...                  ...   \n9995                      0.000000      1.333333             0.166667   \n9997                      0.000000      1.600000             0.400000   \n9998                      0.000000     -2.400000             0.000000   \n9999                      0.000000     -0.600000             0.400000   \n10000                     0.000000      0.833333             0.333333   \n\n       negotiate-attack  negotiate-attack_unsure  nicenasty  nicenasty_unsure  \\\n0              3.000000                 0.250000   0.666667          0.166667   \n1             -2.000000                 0.000000   1.142857          0.000000   \n2             -1.500000                 0.000000   2.166667          0.000000   \n3             -2.000000                 0.000000   1.666667          0.000000   \n4              0.833333                 0.333333   0.166667          0.166667   \n...                 ...                      ...        ...               ...   \n9995          -1.000000                 0.000000   0.500000          0.166667   \n9997          -1.200000                 0.200000   0.600000          0.200000   \n9998           2.800000                 0.000000  -2.400000          0.000000   \n9999          -3.000000                 0.000000   0.600000          0.200000   \n10000         -2.000000                 0.000000   1.500000          0.333333   \n\n       personal-audience  personal-audience_unsure  questioning-asserting  \\\n0              -2.250000                  0.250000              -4.250000   \n1              -1.500000                  0.000000               0.500000   \n2              -4.000000                  0.000000              -1.500000   \n3              -2.800000                  0.000000               0.000000   \n4              -3.333333                  0.166667              -0.166667   \n...                  ...                       ...                    ...   \n9995            0.000000                  0.000000               0.000000   \n9997           -1.600000                  0.000000               1.800000   \n9998           -4.200000                  0.000000               1.800000   \n9999            3.000000                  0.000000               3.000000   \n10000           2.333333                  0.000000               0.833333   \n\n       questioning-asserting_unsure   sarcasm  sarcasm_unsure  \\\n0                          0.000000  0.200000        0.166667   \n1                          0.000000  0.142857        0.000000   \n2                          0.000000  0.000000        0.000000   \n3                          0.000000  0.000000        0.000000   \n4                          0.166667  0.600000        0.166667   \n...                             ...       ...             ...   \n9995                       0.000000  0.200000        0.166667   \n9997                       0.000000  0.000000        0.200000   \n9998                       0.000000  0.000000        0.200000   \n9999                       0.000000  0.000000        0.200000   \n10000                      0.000000  0.000000        0.166667   \n\n       discussion_id_y  response_post_id  quote_post_id                  term  \\\n0                 6032            149609       149552.0                  None   \n1                10217            277697       277459.0                   yes   \n2                 3462             76012        75976.0  No terms in first 10   \n3                 9930            264824       264697.0                  well   \n4                 5352            128326       128325.0                   you   \n...                ...               ...            ...                   ...   \n9995               821             67788        67785.0                    oh   \n9997              9258            241951       241848.0                   but   \n9998             10301            281530       281509.0                  None   \n9999              6032            149609       149552.0  No terms in first 10   \n10000             3426             71284        71253.0  No terms in first 10   \n\n       task1 num annot  task2 num annot  task2 num disagree  \\\n0                    6                6                   4   \n1                    7                5                   2   \n2                    6                5                   2   \n3                    6                6                   5   \n4                    6                7                   6   \n...                ...              ...                 ...   \n9995                 6                5                   1   \n9997                 5                5                   5   \n9998                 5                5                   5   \n9999                 5                7                   1   \n10000                6                7                   6   \n\n                                                   quote  \\\n0      I remember looking at the classic evolutionary...   \n1      So they (pro-life peeps) say abortion is murde...   \n2      'If the solar system was brought about by an a...   \n3      ...to ToE because it means genetic evolution i...   \n4      Sir Issac Newton was an idiot and you are a ge...   \n...                                                  ...   \n9995   Why do some of you guys insist on being rabid ...   \n9997   But I see two people involved here. Whether th...   \n9998   I disagree with you because the logic you have...   \n9999   What I don't understand is why YEC's want to L...   \n10000  Perhaps also you might want to consider where ...   \n\n                                                response  \n0      Why do you find it necessary to fit observatio...  \n1      Yes, you are missing something. How come age d...  \n2      C.S.Lewis believes things on faith, yet we are...  \n3      Well, it might help if you could propose a mec...  \n4      You really think so? Im flattered, but I think...  \n...                                                  ...  \n9995   oh because for the past decade or so they have...  \n9997   But the embryo is a mere clump of flesh inside...  \n9998   **\\n Sez u. Your problem being that when you a...  \n9999     That's what faith does. It limits your options.  \n10000  On the contrary... These individuals (or indiv...  \n\n[8895 rows x 30 columns]",
      "text/html": "<div>\n<style scoped>\n    .dataframe tbody tr th:only-of-type {\n        vertical-align: middle;\n    }\n\n    .dataframe tbody tr th {\n        vertical-align: top;\n    }\n\n    .dataframe thead th {\n        text-align: right;\n    }\n</style>\n<table border=\"1\" class=\"dataframe\">\n  <thead>\n    <tr style=\"text-align: right;\">\n      <th></th>\n      <th>key</th>\n      <th>discussion_id_x</th>\n      <th>agree-disagree</th>\n      <th>agreement</th>\n      <th>agreement_unsure</th>\n      <th>attack</th>\n      <th>attack_unsure</th>\n      <th>defeater-undercutter</th>\n      <th>defeater-undercutter_unsure</th>\n      <th>fact-feeling</th>\n      <th>fact-feeling_unsure</th>\n      <th>negotiate-attack</th>\n      <th>negotiate-attack_unsure</th>\n      <th>nicenasty</th>\n      <th>nicenasty_unsure</th>\n      <th>personal-audience</th>\n      <th>personal-audience_unsure</th>\n      <th>questioning-asserting</th>\n      <th>questioning-asserting_unsure</th>\n      <th>sarcasm</th>\n      <th>sarcasm_unsure</th>\n      <th>discussion_id_y</th>\n      <th>response_post_id</th>\n      <th>quote_post_id</th>\n      <th>term</th>\n      <th>task1 num annot</th>\n      <th>task2 num annot</th>\n      <th>task2 num disagree</th>\n      <th>quote</th>\n      <th>response</th>\n    </tr>\n  </thead>\n  <tbody>\n    <tr>\n      <th>0</th>\n      <td>(731, 1)</td>\n      <td>6032</td>\n      <td>0.333333</td>\n      <td>-1.333333</td>\n      <td>0.333333</td>\n      <td>0.333333</td>\n      <td>0.000000</td>\n      <td>0.500000</td>\n      <td>0.000000</td>\n      <td>0.333333</td>\n      <td>0.333333</td>\n      <td>3.000000</td>\n      <td>0.250000</td>\n      <td>0.666667</td>\n      <td>0.166667</td>\n      <td>-2.250000</td>\n      <td>0.250000</td>\n      <td>-4.250000</td>\n      <td>0.000000</td>\n      <td>0.200000</td>\n      <td>0.166667</td>\n      <td>6032</td>\n      <td>149609</td>\n      <td>149552.0</td>\n      <td>None</td>\n      <td>6</td>\n      <td>6</td>\n      <td>4</td>\n      <td>I remember looking at the classic evolutionary...</td>\n      <td>Why do you find it necessary to fit observatio...</td>\n    </tr>\n    <tr>\n      <th>1</th>\n      <td>(660, 3)</td>\n      <td>10217</td>\n      <td>0.600000</td>\n      <td>0.285714</td>\n      <td>0.000000</td>\n      <td>0.714286</td>\n      <td>0.000000</td>\n      <td>-2.500000</td>\n      <td>0.000000</td>\n      <td>1.000000</td>\n      <td>0.000000</td>\n      <td>-2.000000</td>\n      <td>0.000000</td>\n      <td>1.142857</td>\n      <td>0.000000</td>\n      <td>-1.500000</td>\n      <td>0.000000</td>\n      <td>0.500000</td>\n      <td>0.000000</td>\n      <td>0.142857</td>\n      <td>0.000000</td>\n      <td>10217</td>\n      <td>277697</td>\n      <td>277459.0</td>\n      <td>yes</td>\n      <td>7</td>\n      <td>5</td>\n      <td>2</td>\n      <td>So they (pro-life peeps) say abortion is murde...</td>\n      <td>Yes, you are missing something. How come age d...</td>\n    </tr>\n    <tr>\n      <th>2</th>\n      <td>(114, 5)</td>\n      <td>3462</td>\n      <td>0.600000</td>\n      <td>-1.500000</td>\n      <td>0.000000</td>\n      <td>1.333333</td>\n      <td>0.000000</td>\n      <td>1.000000</td>\n      <td>0.000000</td>\n      <td>1.500000</td>\n      <td>0.000000</td>\n      <td>-1.500000</td>\n      <td>0.000000</td>\n      <td>2.166667</td>\n      <td>0.000000</td>\n      <td>-4.000000</td>\n      <td>0.000000</td>\n      <td>-1.500000</td>\n      <td>0.000000</td>\n      <td>0.000000</td>\n      <td>0.000000</td>\n      <td>3462</td>\n      <td>76012</td>\n      <td>75976.0</td>\n      <td>No terms in first 10</td>\n      <td>6</td>\n      <td>5</td>\n      <td>2</td>\n      <td>'If the solar system was brought about by an a...</td>\n      <td>C.S.Lewis believes things on faith, yet we are...</td>\n    </tr>\n    <tr>\n      <th>3</th>\n      <td>(43, 3)</td>\n      <td>9930</td>\n      <td>0.166667</td>\n      <td>-0.833333</td>\n      <td>0.333333</td>\n      <td>1.500000</td>\n      <td>0.000000</td>\n      <td>0.400000</td>\n      <td>0.000000</td>\n      <td>1.500000</td>\n      <td>0.166667</td>\n      <td>-2.000000</td>\n      <td>0.000000</td>\n      <td>1.666667</td>\n      <td>0.000000</td>\n      <td>-2.800000</td>\n      <td>0.000000</td>\n      <td>0.000000</td>\n      <td>0.000000</td>\n      <td>0.000000</td>\n      <td>0.000000</td>\n      <td>9930</td>\n      <td>264824</td>\n      <td>264697.0</td>\n      <td>well</td>\n      <td>6</td>\n      <td>6</td>\n      <td>5</td>\n      <td>...to ToE because it means genetic evolution i...</td>\n      <td>Well, it might help if you could propose a mec...</td>\n    </tr>\n    <tr>\n      <th>4</th>\n      <td>(1314, 0)</td>\n      <td>5352</td>\n      <td>0.142857</td>\n      <td>-1.666667</td>\n      <td>0.166667</td>\n      <td>0.000000</td>\n      <td>0.166667</td>\n      <td>-1.166667</td>\n      <td>0.166667</td>\n      <td>-0.833333</td>\n      <td>0.333333</td>\n      <td>0.833333</td>\n      <td>0.333333</td>\n      <td>0.166667</td>\n      <td>0.166667</td>\n      <td>-3.333333</td>\n      <td>0.166667</td>\n      <td>-0.166667</td>\n      <td>0.166667</td>\n      <td>0.600000</td>\n      <td>0.166667</td>\n      <td>5352</td>\n      <td>128326</td>\n      <td>128325.0</td>\n      <td>you</td>\n      <td>6</td>\n      <td>7</td>\n      <td>6</td>\n      <td>Sir Issac Newton was an idiot and you are a ge...</td>\n      <td>You really think so? Im flattered, but I think...</td>\n    </tr>\n    <tr>\n      <th>...</th>\n      <td>...</td>\n      <td>...</td>\n      <td>...</td>\n      <td>...</td>\n      <td>...</td>\n      <td>...</td>\n      <td>...</td>\n      <td>...</td>\n      <td>...</td>\n      <td>...</td>\n      <td>...</td>\n      <td>...</td>\n      <td>...</td>\n      <td>...</td>\n      <td>...</td>\n      <td>...</td>\n      <td>...</td>\n      <td>...</td>\n      <td>...</td>\n      <td>...</td>\n      <td>...</td>\n      <td>...</td>\n      <td>...</td>\n      <td>...</td>\n      <td>...</td>\n      <td>...</td>\n      <td>...</td>\n      <td>...</td>\n      <td>...</td>\n      <td>...</td>\n    </tr>\n    <tr>\n      <th>9995</th>\n      <td>(580, 4)</td>\n      <td>821</td>\n      <td>0.800000</td>\n      <td>-2.000000</td>\n      <td>0.166667</td>\n      <td>-0.500000</td>\n      <td>0.166667</td>\n      <td>1.000000</td>\n      <td>0.000000</td>\n      <td>1.333333</td>\n      <td>0.166667</td>\n      <td>-1.000000</td>\n      <td>0.000000</td>\n      <td>0.500000</td>\n      <td>0.166667</td>\n      <td>0.000000</td>\n      <td>0.000000</td>\n      <td>0.000000</td>\n      <td>0.000000</td>\n      <td>0.200000</td>\n      <td>0.166667</td>\n      <td>821</td>\n      <td>67788</td>\n      <td>67785.0</td>\n      <td>oh</td>\n      <td>6</td>\n      <td>5</td>\n      <td>1</td>\n      <td>Why do some of you guys insist on being rabid ...</td>\n      <td>oh because for the past decade or so they have...</td>\n    </tr>\n    <tr>\n      <th>9997</th>\n      <td>(694, 4)</td>\n      <td>9258</td>\n      <td>0.000000</td>\n      <td>-3.200000</td>\n      <td>0.200000</td>\n      <td>0.200000</td>\n      <td>0.200000</td>\n      <td>-1.800000</td>\n      <td>0.000000</td>\n      <td>1.600000</td>\n      <td>0.400000</td>\n      <td>-1.200000</td>\n      <td>0.200000</td>\n      <td>0.600000</td>\n      <td>0.200000</td>\n      <td>-1.600000</td>\n      <td>0.000000</td>\n      <td>1.800000</td>\n      <td>0.000000</td>\n      <td>0.000000</td>\n      <td>0.200000</td>\n      <td>9258</td>\n      <td>241951</td>\n      <td>241848.0</td>\n      <td>but</td>\n      <td>5</td>\n      <td>5</td>\n      <td>5</td>\n      <td>But I see two people involved here. Whether th...</td>\n      <td>But the embryo is a mere clump of flesh inside...</td>\n    </tr>\n    <tr>\n      <th>9998</th>\n      <td>(916, 6)</td>\n      <td>10301</td>\n      <td>0.000000</td>\n      <td>-3.000000</td>\n      <td>0.000000</td>\n      <td>-2.400000</td>\n      <td>0.000000</td>\n      <td>-2.400000</td>\n      <td>0.000000</td>\n      <td>-2.400000</td>\n      <td>0.000000</td>\n      <td>2.800000</td>\n      <td>0.000000</td>\n      <td>-2.400000</td>\n      <td>0.000000</td>\n      <td>-4.200000</td>\n      <td>0.000000</td>\n      <td>1.800000</td>\n      <td>0.000000</td>\n      <td>0.000000</td>\n      <td>0.200000</td>\n      <td>10301</td>\n      <td>281530</td>\n      <td>281509.0</td>\n      <td>None</td>\n      <td>5</td>\n      <td>5</td>\n      <td>5</td>\n      <td>I disagree with you because the logic you have...</td>\n      <td>**\\n Sez u. Your problem being that when you a...</td>\n    </tr>\n    <tr>\n      <th>9999</th>\n      <td>(1348, 1)</td>\n      <td>6032</td>\n      <td>0.857143</td>\n      <td>0.800000</td>\n      <td>0.600000</td>\n      <td>0.600000</td>\n      <td>0.200000</td>\n      <td>3.000000</td>\n      <td>0.000000</td>\n      <td>-0.600000</td>\n      <td>0.400000</td>\n      <td>-3.000000</td>\n      <td>0.000000</td>\n      <td>0.600000</td>\n      <td>0.200000</td>\n      <td>3.000000</td>\n      <td>0.000000</td>\n      <td>3.000000</td>\n      <td>0.000000</td>\n      <td>0.000000</td>\n      <td>0.200000</td>\n      <td>6032</td>\n      <td>149609</td>\n      <td>149552.0</td>\n      <td>No terms in first 10</td>\n      <td>5</td>\n      <td>7</td>\n      <td>1</td>\n      <td>What I don't understand is why YEC's want to L...</td>\n      <td>That's what faith does. It limits your options.</td>\n    </tr>\n    <tr>\n      <th>10000</th>\n      <td>(484, 0)</td>\n      <td>3426</td>\n      <td>0.142857</td>\n      <td>-2.833333</td>\n      <td>0.166667</td>\n      <td>0.833333</td>\n      <td>0.166667</td>\n      <td>-1.000000</td>\n      <td>0.000000</td>\n      <td>0.833333</td>\n      <td>0.333333</td>\n      <td>-2.000000</td>\n      <td>0.000000</td>\n      <td>1.500000</td>\n      <td>0.333333</td>\n      <td>2.333333</td>\n      <td>0.000000</td>\n      <td>0.833333</td>\n      <td>0.000000</td>\n      <td>0.000000</td>\n      <td>0.166667</td>\n      <td>3426</td>\n      <td>71284</td>\n      <td>71253.0</td>\n      <td>No terms in first 10</td>\n      <td>6</td>\n      <td>7</td>\n      <td>6</td>\n      <td>Perhaps also you might want to consider where ...</td>\n      <td>On the contrary... These individuals (or indiv...</td>\n    </tr>\n  </tbody>\n</table>\n<p>8895 rows × 30 columns</p>\n</div>"
     },
     "execution_count": 5,
     "metadata": {},
     "output_type": "execute_result"
    }
   ],
   "source": [
    "with zipfile.ZipFile('iac_v1.1.zip') as z:\n",
    "   with z.open('iac_v1.1/data/fourforums/annotations/mechanical_turk/qr_averages.csv') as f:\n",
    "      qr = pd.read_csv(f)\n",
    "\n",
    "   with z.open('iac_v1.1/data/fourforums/annotations/mechanical_turk/qr_meta.csv') as f:\n",
    "      md = pd.read_csv(f)\n",
    "\n",
    "# columns = ['key', 'nicenasty', 'questioning-asserting', 'negotiate-attack', 'fact-feeling']\n",
    "# qr_sub = qr[columns]\n",
    "# qr_sub = qr\n",
    "\n",
    "pairs = qr.merge(md, how='inner', on='key')\n",
    "pairs = pairs[~pairs.quote_post_id.isnull() & ~pairs.response_post_id.isnull()]\n",
    "pairs"
   ]
  },
  {
   "cell_type": "markdown",
   "metadata": {},
   "source": [
    "Note that each comment and response were annotated by workers on Amazon Mechanical Turk, which we piloted last week. Variables like \"agree-disagree\" are the averages of annotations made by workers on Mechanical Turk on an 11-point Likert scale (-5 to 5) using a slider. Workers were asked questions, and then had the opportunity to note whether or not their were \"unsure\" about their assessment (Boolean - Y/N):\n",
    "\n",
    "* __agree/disagree__ (Boolean -- Y/N): Does the respondent agree (0) OR disagree (1) with the prior post?\n",
    "* __sarcasm__ (Boolean -- Y/N): Is the respondent using sarcasm (1 - Y; 0 - N)?\n",
    "* __fact/feeling__  (-5 to 5): Is the respondent attempting to make a fact based argument (-5) OR appealing to feelings and emotions (+5)?\n",
    "* __attack/insult__ (-5 to 5): Is the respondent being supportive/respectful (-5) OR are they attacking/insulting in their writing (+5)?\n",
    "* __nice/nasty__ (-5 to 5): Is the respondent attempting to be nice (-5) OR is their attitude fairly nasty (+5)?\n",
    "* __audience__ (-5 to 5): Is the respondent's arguments intended more to be interacting directly with the original poster (-5) OR with a wider audience (+5)?\n",
    "* __undercutting__ (-5 to 5): Is the argument of the respondent targeted at the entirety of the original poster's argument (-5) OR is the argument of the respondent targed at a more specific idea within the post (+5)?\n",
    "* __negotiate/attack__ (-5 to 5): Does the respondent seem to have an argument of their own (-5) OR is the respondent simply attacking the original poster's argument (+5)?\n",
    "* __question/assert__ (-5 to 5): Is the respondent questioning the original poster (-5) OR is the respondent asserting their own ideas (+5)?\n",
    "\n",
    "Unfortunately the dataset only has the \"response\" annotated, not the original \"quote.\" However, some \"responses\" in this dataset are also \"quotes,\" meaning we can form triples of quote-response-response. Let's self-merge this dataframe to get these \"r1\" and \"r2\" pairs where both texts have annotations."
   ]
  },
  {
   "cell_type": "code",
   "execution_count": 11,
   "metadata": {},
   "outputs": [
    {
     "data": {
      "text/plain": "                                                  quote  \\\n0     I remember looking at the classic evolutionary...   \n1                              What is the fun in that?   \n2     First off, the scientific method goes:\\n \\n 1)...   \n3     You can ignore the obvious question. This is w...   \n4     Its really sad what these gay predator priests...   \n...                                                 ...   \n1341                      1. Did she do anything wrong?   \n1342  this is also the reason why atheism is more li...   \n1343  Assault weapons? first of all, what are assaul...   \n1344  And without a gun you're defenseless, why can'...   \n1345  What I don't understand is why YEC's want to L...   \n\n                                              response1  \\\n0     Why do you find it necessary to fit observatio...   \n1     Seriously? Well, I come here hoping for someth...   \n2     You guys know me. Always happy to correct anyo...   \n3     Actually what they are really doing is ignorin...   \n4     Homosexuals are attracted to adults of the sam...   \n...                                                 ...   \n1341  Yes, she walked down the wrong alley, alone. W...   \n1342  It is curious how lately christians have been ...   \n1343  Thanks Patriot for the well researched respons...   \n1344  Hardly any criminals go armed in England, and ...   \n1345    That's what faith does. It limits your options.   \n\n                                              response2  attack_r1  \\\n0     Evolution has no goals, it is merely a beautif...   0.333333   \n1     nah, I was just poking fun because I can! Pers...  -0.600000   \n2     Ah, thanks for the correction, although there ...   2.400000   \n3     Really, then show me how I'm wrong - without d...  -3.500000   \n4     Homosexuals are attracted to people of the sam...   0.166667   \n...                                                 ...        ...   \n1341  So it was wrong for her to walk down a public ...   0.166667   \n1342  Well, the type of atheism you are talking abou...   1.200000   \n1343  The ban on assault weapons stands on such polt...   2.000000   \n1344  All of the British papers keep going on about ...   2.400000   \n1345  Here's a nice little Google def: A convinced b...   0.600000   \n\n      fact-feeling_r1  nicenasty_r1  sarcasm_r1  agreement_r2     key_r1  \\\n0            0.333333      0.666667    0.200000     -2.833333   (731, 1)   \n1           -2.200000      0.000000    0.000000     -2.166667   (697, 2)   \n2            2.800000      2.200000    0.000000     -0.400000     (9, 0)   \n3           -3.166667     -3.166667    0.166667     -1.833333  (1077, 1)   \n4            2.166667     -0.166667    0.400000     -2.666667   (611, 0)   \n...               ...           ...         ...           ...        ...   \n1341         0.166667      0.500000    0.333333     -3.333333    (27, 4)   \n1342         0.800000      0.600000    0.250000     -2.250000  (1382, 6)   \n1343         2.000000      2.500000    0.000000      0.200000   (897, 4)   \n1344         2.000000      2.600000    0.000000     -2.800000  (1231, 1)   \n1345        -0.600000      0.600000    0.000000     -2.400000  (1348, 1)   \n\n      discussion_id_x_r1  agree-disagree_r1  agreement_r1  \\\n0                   6032           0.333333     -1.333333   \n1                   5205           0.833333     -2.400000   \n2                   9449           0.400000      0.600000   \n3                   3467           0.400000     -4.333333   \n4                   4337           0.333333     -2.000000   \n...                  ...                ...           ...   \n1341               13306           0.800000      0.666667   \n1342                3982           0.000000     -1.000000   \n1343                  50           0.833333      0.500000   \n1344               11999           0.285714     -1.600000   \n1345                6032           0.857143      0.800000   \n\n      agreement_unsure_r1  attack_unsure_r1  defeater-undercutter_r1  \\\n0                0.333333          0.000000                 0.500000   \n1                0.000000          0.000000                -5.000000   \n2                0.200000          0.200000                -2.666667   \n3                0.000000          0.000000                -4.666667   \n4                0.166667          0.166667                -0.750000   \n...                   ...               ...                      ...   \n1341             0.166667          0.166667                 0.000000   \n1342             0.200000          0.200000                -1.285714   \n1343             0.000000          0.000000                 1.000000   \n1344             0.000000          0.000000                 1.200000   \n1345             0.600000          0.200000                 3.000000   \n\n      defeater-undercutter_unsure_r1  fact-feeling_unsure_r1  \\\n0                                0.0                0.333333   \n1                                0.0                0.000000   \n2                                0.0                0.200000   \n3                                0.0                0.000000   \n4                                0.0                0.166667   \n...                              ...                     ...   \n1341                             0.0                0.166667   \n1342                             0.0                0.200000   \n1343                             0.0                0.000000   \n1344                             0.0                0.000000   \n1345                             0.0                0.400000   \n\n      negotiate-attack_r1  negotiate-attack_unsure_r1  nicenasty_unsure_r1  \\\n0                3.000000                        0.25             0.166667   \n1                2.000000                        0.00             0.000000   \n2               -3.666667                        0.00             0.200000   \n3               -0.666667                        0.00             0.000000   \n4               -2.000000                        0.00             0.166667   \n...                   ...                         ...                  ...   \n1341            -1.000000                        0.00             0.166667   \n1342            -0.428571                        0.00             0.200000   \n1343             1.000000                        0.00             0.000000   \n1344            -1.000000                        0.00             0.000000   \n1345            -3.000000                        0.00             0.200000   \n\n      personal-audience_r1  personal-audience_unsure_r1  \\\n0                -2.250000                         0.25   \n1                 0.000000                         0.00   \n2                 0.333333                         0.00   \n3                -2.000000                         0.00   \n4                 0.000000                         0.00   \n...                    ...                          ...   \n1341              0.000000                         0.00   \n1342              0.857143                         0.00   \n1343              4.000000                         0.00   \n1344              0.000000                         0.00   \n1345              3.000000                         0.00   \n\n      questioning-asserting_r1  questioning-asserting_unsure_r1  \\\n0                    -4.250000                              0.0   \n1                    -2.000000                              0.0   \n2                     3.666667                              0.0   \n3                     3.000000                              0.0   \n4                     3.750000                              0.0   \n...                        ...                              ...   \n1341                  0.000000                              0.0   \n1342                  1.714286                              0.0   \n1343                  1.000000                              0.0   \n1344                 -0.200000                              0.0   \n1345                  3.000000                              0.0   \n\n      sarcasm_unsure_r1  discussion_id_y_r1  response_post_id_r1  \\\n0              0.166667                6032               149609   \n1              0.000000                5205               122800   \n2              0.200000                9449               247240   \n3              0.000000                3467                73741   \n4              0.166667                4337               112008   \n...                 ...                 ...                  ...   \n1341           0.500000               13306               370461   \n1342           0.200000                3982                83610   \n1343           0.000000                  50                33286   \n1344           0.000000               11999               333578   \n1345           0.200000                6032               149609   \n\n      quote_post_id_r1               term_r1  task1 num annot_r1  \\\n0             149552.0                  None                   6   \n1             122780.0                  None                   5   \n2             247225.0                   you                   5   \n3              73738.0              actually                   6   \n4             111931.0  No terms in first 10                   6   \n...                ...                   ...                 ...   \n1341          370385.0                   yes                   6   \n1342           83594.0  No terms in first 10                   5   \n1343             173.0                  None                   4   \n1344          333574.0                  None                   5   \n1345          149552.0  No terms in first 10                   5   \n\n      task2 num annot_r1  task2 num disagree_r1     key_r2  \\\n0                      6                      4   (610, 2)   \n1                      6                      1  (1267, 0)   \n2                      5                      3  (1393, 1)   \n3                      5                      3   (622, 1)   \n4                      6                      4  (1350, 0)   \n...                  ...                    ...        ...   \n1341                   5                      1    (83, 5)   \n1342                   7                      7   (974, 6)   \n1343                   6                      1   (398, 4)   \n1344                   7                      5  (1393, 2)   \n1345                   7                      1   (402, 2)   \n\n      discussion_id_x_r2  agree-disagree_r2  agreement_unsure_r2  attack_r2  \\\n0                   6032           0.600000             0.166667   0.333333   \n1                   5205           0.600000             0.333333   0.833333   \n2                   9449           1.000000             0.200000   0.800000   \n3                   3467           0.600000             0.166667  -1.333333   \n4                   4337           0.428571             0.000000   1.166667   \n...                  ...                ...                  ...        ...   \n1341               13306           0.200000             0.166667  -3.166667   \n1342                3982           0.600000             0.250000   0.750000   \n1343                  50           0.000000             0.600000   2.200000   \n1344               11999           0.571429             0.200000   0.200000   \n1345                6032           0.428571             0.200000   1.000000   \n\n      attack_unsure_r2  defeater-undercutter_r2  \\\n0             0.166667                    -3.50   \n1             0.166667                    -1.50   \n2             0.200000                      NaN   \n3             0.166667                     2.50   \n4             0.000000                    -2.50   \n...                ...                      ...   \n1341          0.166667                    -2.75   \n1342          0.250000                     2.50   \n1343          0.400000                    -2.60   \n1344          0.200000                    -3.00   \n1345          0.000000                    -0.25   \n\n      defeater-undercutter_unsure_r2  fact-feeling_r2  fact-feeling_unsure_r2  \\\n0                                0.0         1.333333                0.166667   \n1                                0.0        -1.333333                0.500000   \n2                                NaN         1.200000                0.200000   \n3                                0.0         0.333333                0.166667   \n4                                0.0         0.666667                0.000000   \n...                              ...              ...                     ...   \n1341                             0.0        -3.500000                0.166667   \n1342                             0.0         1.000000                0.250000   \n1343                             0.0         1.800000                0.400000   \n1344                             0.0         0.400000                0.200000   \n1345                             0.0         0.600000                0.000000   \n\n      negotiate-attack_r2  negotiate-attack_unsure_r2  nicenasty_r2  \\\n0                3.500000                         0.0      0.500000   \n1                2.000000                         0.0      0.500000   \n2                     NaN                         NaN      1.000000   \n3                1.500000                         0.0      0.000000   \n4               -1.750000                         0.0      1.166667   \n...                   ...                         ...           ...   \n1341             1.500000                         0.0     -2.666667   \n1342            -3.000000                         0.0      1.750000   \n1343            -1.200000                         0.0      1.200000   \n1344            -0.333333                         0.0      0.200000   \n1345            -3.000000                         0.0      1.200000   \n\n      nicenasty_unsure_r2  personal-audience_r2  personal-audience_unsure_r2  \\\n0                0.333333             -4.000000                          0.0   \n1                0.166667             -3.000000                          0.0   \n2                0.400000                   NaN                          NaN   \n3                0.166667              0.000000                          0.0   \n4                0.000000             -1.250000                          0.0   \n...                   ...                   ...                          ...   \n1341             0.166667             -2.250000                          0.0   \n1342             0.250000             -3.000000                          0.0   \n1343             0.400000             -0.800000                          0.0   \n1344             0.200000             -2.666667                          0.0   \n1345             0.000000             -0.500000                          0.0   \n\n      questioning-asserting_r2  questioning-asserting_unsure_r2  sarcasm_r2  \\\n0                     1.500000                              0.0         0.0   \n1                    -1.500000                              0.0         0.2   \n2                          NaN                              NaN         0.0   \n3                    -1.500000                              0.0         0.2   \n4                     3.250000                              0.0         0.0   \n...                        ...                              ...         ...   \n1341                 -0.750000                              0.0         0.2   \n1342                  2.500000                              0.0         0.0   \n1343                  2.000000                              0.0         0.0   \n1344                 -0.333333                              0.0         0.0   \n1345                  3.250000                              0.0         0.2   \n\n      sarcasm_unsure_r2  discussion_id_y_r2  response_post_id_r2  \\\n0              0.166667                6032               149673   \n1              0.166667                5205               123129   \n2              0.400000                9449               247243   \n3              0.166667                3467                73783   \n4              0.000000                4337               112012   \n...                 ...                 ...                  ...   \n1341           0.166667               13306               370646   \n1342           0.000000                3982                83636   \n1343           0.200000                  50                33347   \n1344           0.400000               11999               333583   \n1345           0.000000                6032               149673   \n\n      quote_post_id_r2               term_r2  task1 num annot_r2  \\\n0             149609.0                  None                   6   \n1             122800.0                  None                   6   \n2             247240.0  No terms in first 10                   5   \n3              73741.0                really                   6   \n4             112008.0  No terms in first 10                   6   \n...                ...                   ...                 ...   \n1341          370461.0                    so                   6   \n1342           83610.0                  well                   4   \n1343           33286.0  No terms in first 10                   5   \n1344          333578.0  No terms in first 10                   5   \n1345          149609.0  No terms in first 10                   5   \n\n      task2 num annot_r2  task2 num disagree_r2  \n0                      5                      2  \n1                      5                      2  \n2                      7                      0  \n3                      5                      2  \n4                      7                      4  \n...                  ...                    ...  \n1341                   5                      4  \n1342                   5                      2  \n1343                   5                      5  \n1344                   7                      3  \n1345                   7                      4  \n\n[1340 rows x 59 columns]",
      "text/html": "<div>\n<style scoped>\n    .dataframe tbody tr th:only-of-type {\n        vertical-align: middle;\n    }\n\n    .dataframe tbody tr th {\n        vertical-align: top;\n    }\n\n    .dataframe thead th {\n        text-align: right;\n    }\n</style>\n<table border=\"1\" class=\"dataframe\">\n  <thead>\n    <tr style=\"text-align: right;\">\n      <th></th>\n      <th>quote</th>\n      <th>response1</th>\n      <th>response2</th>\n      <th>attack_r1</th>\n      <th>fact-feeling_r1</th>\n      <th>nicenasty_r1</th>\n      <th>sarcasm_r1</th>\n      <th>agreement_r2</th>\n      <th>key_r1</th>\n      <th>discussion_id_x_r1</th>\n      <th>agree-disagree_r1</th>\n      <th>agreement_r1</th>\n      <th>agreement_unsure_r1</th>\n      <th>attack_unsure_r1</th>\n      <th>defeater-undercutter_r1</th>\n      <th>defeater-undercutter_unsure_r1</th>\n      <th>fact-feeling_unsure_r1</th>\n      <th>negotiate-attack_r1</th>\n      <th>negotiate-attack_unsure_r1</th>\n      <th>nicenasty_unsure_r1</th>\n      <th>personal-audience_r1</th>\n      <th>personal-audience_unsure_r1</th>\n      <th>questioning-asserting_r1</th>\n      <th>questioning-asserting_unsure_r1</th>\n      <th>sarcasm_unsure_r1</th>\n      <th>discussion_id_y_r1</th>\n      <th>response_post_id_r1</th>\n      <th>quote_post_id_r1</th>\n      <th>term_r1</th>\n      <th>task1 num annot_r1</th>\n      <th>task2 num annot_r1</th>\n      <th>task2 num disagree_r1</th>\n      <th>key_r2</th>\n      <th>discussion_id_x_r2</th>\n      <th>agree-disagree_r2</th>\n      <th>agreement_unsure_r2</th>\n      <th>attack_r2</th>\n      <th>attack_unsure_r2</th>\n      <th>defeater-undercutter_r2</th>\n      <th>defeater-undercutter_unsure_r2</th>\n      <th>fact-feeling_r2</th>\n      <th>fact-feeling_unsure_r2</th>\n      <th>negotiate-attack_r2</th>\n      <th>negotiate-attack_unsure_r2</th>\n      <th>nicenasty_r2</th>\n      <th>nicenasty_unsure_r2</th>\n      <th>personal-audience_r2</th>\n      <th>personal-audience_unsure_r2</th>\n      <th>questioning-asserting_r2</th>\n      <th>questioning-asserting_unsure_r2</th>\n      <th>sarcasm_r2</th>\n      <th>sarcasm_unsure_r2</th>\n      <th>discussion_id_y_r2</th>\n      <th>response_post_id_r2</th>\n      <th>quote_post_id_r2</th>\n      <th>term_r2</th>\n      <th>task1 num annot_r2</th>\n      <th>task2 num annot_r2</th>\n      <th>task2 num disagree_r2</th>\n    </tr>\n  </thead>\n  <tbody>\n    <tr>\n      <th>0</th>\n      <td>I remember looking at the classic evolutionary...</td>\n      <td>Why do you find it necessary to fit observatio...</td>\n      <td>Evolution has no goals, it is merely a beautif...</td>\n      <td>0.333333</td>\n      <td>0.333333</td>\n      <td>0.666667</td>\n      <td>0.200000</td>\n      <td>-2.833333</td>\n      <td>(731, 1)</td>\n      <td>6032</td>\n      <td>0.333333</td>\n      <td>-1.333333</td>\n      <td>0.333333</td>\n      <td>0.000000</td>\n      <td>0.500000</td>\n      <td>0.0</td>\n      <td>0.333333</td>\n      <td>3.000000</td>\n      <td>0.25</td>\n      <td>0.166667</td>\n      <td>-2.250000</td>\n      <td>0.25</td>\n      <td>-4.250000</td>\n      <td>0.0</td>\n      <td>0.166667</td>\n      <td>6032</td>\n      <td>149609</td>\n      <td>149552.0</td>\n      <td>None</td>\n      <td>6</td>\n      <td>6</td>\n      <td>4</td>\n      <td>(610, 2)</td>\n      <td>6032</td>\n      <td>0.600000</td>\n      <td>0.166667</td>\n      <td>0.333333</td>\n      <td>0.166667</td>\n      <td>-3.50</td>\n      <td>0.0</td>\n      <td>1.333333</td>\n      <td>0.166667</td>\n      <td>3.500000</td>\n      <td>0.0</td>\n      <td>0.500000</td>\n      <td>0.333333</td>\n      <td>-4.000000</td>\n      <td>0.0</td>\n      <td>1.500000</td>\n      <td>0.0</td>\n      <td>0.0</td>\n      <td>0.166667</td>\n      <td>6032</td>\n      <td>149673</td>\n      <td>149609.0</td>\n      <td>None</td>\n      <td>6</td>\n      <td>5</td>\n      <td>2</td>\n    </tr>\n    <tr>\n      <th>1</th>\n      <td>What is the fun in that?</td>\n      <td>Seriously? Well, I come here hoping for someth...</td>\n      <td>nah, I was just poking fun because I can! Pers...</td>\n      <td>-0.600000</td>\n      <td>-2.200000</td>\n      <td>0.000000</td>\n      <td>0.000000</td>\n      <td>-2.166667</td>\n      <td>(697, 2)</td>\n      <td>5205</td>\n      <td>0.833333</td>\n      <td>-2.400000</td>\n      <td>0.000000</td>\n      <td>0.000000</td>\n      <td>-5.000000</td>\n      <td>0.0</td>\n      <td>0.000000</td>\n      <td>2.000000</td>\n      <td>0.00</td>\n      <td>0.000000</td>\n      <td>0.000000</td>\n      <td>0.00</td>\n      <td>-2.000000</td>\n      <td>0.0</td>\n      <td>0.000000</td>\n      <td>5205</td>\n      <td>122800</td>\n      <td>122780.0</td>\n      <td>None</td>\n      <td>5</td>\n      <td>6</td>\n      <td>1</td>\n      <td>(1267, 0)</td>\n      <td>5205</td>\n      <td>0.600000</td>\n      <td>0.333333</td>\n      <td>0.833333</td>\n      <td>0.166667</td>\n      <td>-1.50</td>\n      <td>0.0</td>\n      <td>-1.333333</td>\n      <td>0.500000</td>\n      <td>2.000000</td>\n      <td>0.0</td>\n      <td>0.500000</td>\n      <td>0.166667</td>\n      <td>-3.000000</td>\n      <td>0.0</td>\n      <td>-1.500000</td>\n      <td>0.0</td>\n      <td>0.2</td>\n      <td>0.166667</td>\n      <td>5205</td>\n      <td>123129</td>\n      <td>122800.0</td>\n      <td>None</td>\n      <td>6</td>\n      <td>5</td>\n      <td>2</td>\n    </tr>\n    <tr>\n      <th>2</th>\n      <td>First off, the scientific method goes:\\n \\n 1)...</td>\n      <td>You guys know me. Always happy to correct anyo...</td>\n      <td>Ah, thanks for the correction, although there ...</td>\n      <td>2.400000</td>\n      <td>2.800000</td>\n      <td>2.200000</td>\n      <td>0.000000</td>\n      <td>-0.400000</td>\n      <td>(9, 0)</td>\n      <td>9449</td>\n      <td>0.400000</td>\n      <td>0.600000</td>\n      <td>0.200000</td>\n      <td>0.200000</td>\n      <td>-2.666667</td>\n      <td>0.0</td>\n      <td>0.200000</td>\n      <td>-3.666667</td>\n      <td>0.00</td>\n      <td>0.200000</td>\n      <td>0.333333</td>\n      <td>0.00</td>\n      <td>3.666667</td>\n      <td>0.0</td>\n      <td>0.200000</td>\n      <td>9449</td>\n      <td>247240</td>\n      <td>247225.0</td>\n      <td>you</td>\n      <td>5</td>\n      <td>5</td>\n      <td>3</td>\n      <td>(1393, 1)</td>\n      <td>9449</td>\n      <td>1.000000</td>\n      <td>0.200000</td>\n      <td>0.800000</td>\n      <td>0.200000</td>\n      <td>NaN</td>\n      <td>NaN</td>\n      <td>1.200000</td>\n      <td>0.200000</td>\n      <td>NaN</td>\n      <td>NaN</td>\n      <td>1.000000</td>\n      <td>0.400000</td>\n      <td>NaN</td>\n      <td>NaN</td>\n      <td>NaN</td>\n      <td>NaN</td>\n      <td>0.0</td>\n      <td>0.400000</td>\n      <td>9449</td>\n      <td>247243</td>\n      <td>247240.0</td>\n      <td>No terms in first 10</td>\n      <td>5</td>\n      <td>7</td>\n      <td>0</td>\n    </tr>\n    <tr>\n      <th>3</th>\n      <td>You can ignore the obvious question. This is w...</td>\n      <td>Actually what they are really doing is ignorin...</td>\n      <td>Really, then show me how I'm wrong - without d...</td>\n      <td>-3.500000</td>\n      <td>-3.166667</td>\n      <td>-3.166667</td>\n      <td>0.166667</td>\n      <td>-1.833333</td>\n      <td>(1077, 1)</td>\n      <td>3467</td>\n      <td>0.400000</td>\n      <td>-4.333333</td>\n      <td>0.000000</td>\n      <td>0.000000</td>\n      <td>-4.666667</td>\n      <td>0.0</td>\n      <td>0.000000</td>\n      <td>-0.666667</td>\n      <td>0.00</td>\n      <td>0.000000</td>\n      <td>-2.000000</td>\n      <td>0.00</td>\n      <td>3.000000</td>\n      <td>0.0</td>\n      <td>0.000000</td>\n      <td>3467</td>\n      <td>73741</td>\n      <td>73738.0</td>\n      <td>actually</td>\n      <td>6</td>\n      <td>5</td>\n      <td>3</td>\n      <td>(622, 1)</td>\n      <td>3467</td>\n      <td>0.600000</td>\n      <td>0.166667</td>\n      <td>-1.333333</td>\n      <td>0.166667</td>\n      <td>2.50</td>\n      <td>0.0</td>\n      <td>0.333333</td>\n      <td>0.166667</td>\n      <td>1.500000</td>\n      <td>0.0</td>\n      <td>0.000000</td>\n      <td>0.166667</td>\n      <td>0.000000</td>\n      <td>0.0</td>\n      <td>-1.500000</td>\n      <td>0.0</td>\n      <td>0.2</td>\n      <td>0.166667</td>\n      <td>3467</td>\n      <td>73783</td>\n      <td>73741.0</td>\n      <td>really</td>\n      <td>6</td>\n      <td>5</td>\n      <td>2</td>\n    </tr>\n    <tr>\n      <th>4</th>\n      <td>Its really sad what these gay predator priests...</td>\n      <td>Homosexuals are attracted to adults of the sam...</td>\n      <td>Homosexuals are attracted to people of the sam...</td>\n      <td>0.166667</td>\n      <td>2.166667</td>\n      <td>-0.166667</td>\n      <td>0.400000</td>\n      <td>-2.666667</td>\n      <td>(611, 0)</td>\n      <td>4337</td>\n      <td>0.333333</td>\n      <td>-2.000000</td>\n      <td>0.166667</td>\n      <td>0.166667</td>\n      <td>-0.750000</td>\n      <td>0.0</td>\n      <td>0.166667</td>\n      <td>-2.000000</td>\n      <td>0.00</td>\n      <td>0.166667</td>\n      <td>0.000000</td>\n      <td>0.00</td>\n      <td>3.750000</td>\n      <td>0.0</td>\n      <td>0.166667</td>\n      <td>4337</td>\n      <td>112008</td>\n      <td>111931.0</td>\n      <td>No terms in first 10</td>\n      <td>6</td>\n      <td>6</td>\n      <td>4</td>\n      <td>(1350, 0)</td>\n      <td>4337</td>\n      <td>0.428571</td>\n      <td>0.000000</td>\n      <td>1.166667</td>\n      <td>0.000000</td>\n      <td>-2.50</td>\n      <td>0.0</td>\n      <td>0.666667</td>\n      <td>0.000000</td>\n      <td>-1.750000</td>\n      <td>0.0</td>\n      <td>1.166667</td>\n      <td>0.000000</td>\n      <td>-1.250000</td>\n      <td>0.0</td>\n      <td>3.250000</td>\n      <td>0.0</td>\n      <td>0.0</td>\n      <td>0.000000</td>\n      <td>4337</td>\n      <td>112012</td>\n      <td>112008.0</td>\n      <td>No terms in first 10</td>\n      <td>6</td>\n      <td>7</td>\n      <td>4</td>\n    </tr>\n    <tr>\n      <th>...</th>\n      <td>...</td>\n      <td>...</td>\n      <td>...</td>\n      <td>...</td>\n      <td>...</td>\n      <td>...</td>\n      <td>...</td>\n      <td>...</td>\n      <td>...</td>\n      <td>...</td>\n      <td>...</td>\n      <td>...</td>\n      <td>...</td>\n      <td>...</td>\n      <td>...</td>\n      <td>...</td>\n      <td>...</td>\n      <td>...</td>\n      <td>...</td>\n      <td>...</td>\n      <td>...</td>\n      <td>...</td>\n      <td>...</td>\n      <td>...</td>\n      <td>...</td>\n      <td>...</td>\n      <td>...</td>\n      <td>...</td>\n      <td>...</td>\n      <td>...</td>\n      <td>...</td>\n      <td>...</td>\n      <td>...</td>\n      <td>...</td>\n      <td>...</td>\n      <td>...</td>\n      <td>...</td>\n      <td>...</td>\n      <td>...</td>\n      <td>...</td>\n      <td>...</td>\n      <td>...</td>\n      <td>...</td>\n      <td>...</td>\n      <td>...</td>\n      <td>...</td>\n      <td>...</td>\n      <td>...</td>\n      <td>...</td>\n      <td>...</td>\n      <td>...</td>\n      <td>...</td>\n      <td>...</td>\n      <td>...</td>\n      <td>...</td>\n      <td>...</td>\n      <td>...</td>\n      <td>...</td>\n      <td>...</td>\n    </tr>\n    <tr>\n      <th>1341</th>\n      <td>1. Did she do anything wrong?</td>\n      <td>Yes, she walked down the wrong alley, alone. W...</td>\n      <td>So it was wrong for her to walk down a public ...</td>\n      <td>0.166667</td>\n      <td>0.166667</td>\n      <td>0.500000</td>\n      <td>0.333333</td>\n      <td>-3.333333</td>\n      <td>(27, 4)</td>\n      <td>13306</td>\n      <td>0.800000</td>\n      <td>0.666667</td>\n      <td>0.166667</td>\n      <td>0.166667</td>\n      <td>0.000000</td>\n      <td>0.0</td>\n      <td>0.166667</td>\n      <td>-1.000000</td>\n      <td>0.00</td>\n      <td>0.166667</td>\n      <td>0.000000</td>\n      <td>0.00</td>\n      <td>0.000000</td>\n      <td>0.0</td>\n      <td>0.500000</td>\n      <td>13306</td>\n      <td>370461</td>\n      <td>370385.0</td>\n      <td>yes</td>\n      <td>6</td>\n      <td>5</td>\n      <td>1</td>\n      <td>(83, 5)</td>\n      <td>13306</td>\n      <td>0.200000</td>\n      <td>0.166667</td>\n      <td>-3.166667</td>\n      <td>0.166667</td>\n      <td>-2.75</td>\n      <td>0.0</td>\n      <td>-3.500000</td>\n      <td>0.166667</td>\n      <td>1.500000</td>\n      <td>0.0</td>\n      <td>-2.666667</td>\n      <td>0.166667</td>\n      <td>-2.250000</td>\n      <td>0.0</td>\n      <td>-0.750000</td>\n      <td>0.0</td>\n      <td>0.2</td>\n      <td>0.166667</td>\n      <td>13306</td>\n      <td>370646</td>\n      <td>370461.0</td>\n      <td>so</td>\n      <td>6</td>\n      <td>5</td>\n      <td>4</td>\n    </tr>\n    <tr>\n      <th>1342</th>\n      <td>this is also the reason why atheism is more li...</td>\n      <td>It is curious how lately christians have been ...</td>\n      <td>Well, the type of atheism you are talking abou...</td>\n      <td>1.200000</td>\n      <td>0.800000</td>\n      <td>0.600000</td>\n      <td>0.250000</td>\n      <td>-2.250000</td>\n      <td>(1382, 6)</td>\n      <td>3982</td>\n      <td>0.000000</td>\n      <td>-1.000000</td>\n      <td>0.200000</td>\n      <td>0.200000</td>\n      <td>-1.285714</td>\n      <td>0.0</td>\n      <td>0.200000</td>\n      <td>-0.428571</td>\n      <td>0.00</td>\n      <td>0.200000</td>\n      <td>0.857143</td>\n      <td>0.00</td>\n      <td>1.714286</td>\n      <td>0.0</td>\n      <td>0.200000</td>\n      <td>3982</td>\n      <td>83610</td>\n      <td>83594.0</td>\n      <td>No terms in first 10</td>\n      <td>5</td>\n      <td>7</td>\n      <td>7</td>\n      <td>(974, 6)</td>\n      <td>3982</td>\n      <td>0.600000</td>\n      <td>0.250000</td>\n      <td>0.750000</td>\n      <td>0.250000</td>\n      <td>2.50</td>\n      <td>0.0</td>\n      <td>1.000000</td>\n      <td>0.250000</td>\n      <td>-3.000000</td>\n      <td>0.0</td>\n      <td>1.750000</td>\n      <td>0.250000</td>\n      <td>-3.000000</td>\n      <td>0.0</td>\n      <td>2.500000</td>\n      <td>0.0</td>\n      <td>0.0</td>\n      <td>0.000000</td>\n      <td>3982</td>\n      <td>83636</td>\n      <td>83610.0</td>\n      <td>well</td>\n      <td>4</td>\n      <td>5</td>\n      <td>2</td>\n    </tr>\n    <tr>\n      <th>1343</th>\n      <td>Assault weapons? first of all, what are assaul...</td>\n      <td>Thanks Patriot for the well researched respons...</td>\n      <td>The ban on assault weapons stands on such polt...</td>\n      <td>2.000000</td>\n      <td>2.000000</td>\n      <td>2.500000</td>\n      <td>0.000000</td>\n      <td>0.200000</td>\n      <td>(897, 4)</td>\n      <td>50</td>\n      <td>0.833333</td>\n      <td>0.500000</td>\n      <td>0.000000</td>\n      <td>0.000000</td>\n      <td>1.000000</td>\n      <td>0.0</td>\n      <td>0.000000</td>\n      <td>1.000000</td>\n      <td>0.00</td>\n      <td>0.000000</td>\n      <td>4.000000</td>\n      <td>0.00</td>\n      <td>1.000000</td>\n      <td>0.0</td>\n      <td>0.000000</td>\n      <td>50</td>\n      <td>33286</td>\n      <td>173.0</td>\n      <td>None</td>\n      <td>4</td>\n      <td>6</td>\n      <td>1</td>\n      <td>(398, 4)</td>\n      <td>50</td>\n      <td>0.000000</td>\n      <td>0.600000</td>\n      <td>2.200000</td>\n      <td>0.400000</td>\n      <td>-2.60</td>\n      <td>0.0</td>\n      <td>1.800000</td>\n      <td>0.400000</td>\n      <td>-1.200000</td>\n      <td>0.0</td>\n      <td>1.200000</td>\n      <td>0.400000</td>\n      <td>-0.800000</td>\n      <td>0.0</td>\n      <td>2.000000</td>\n      <td>0.0</td>\n      <td>0.0</td>\n      <td>0.200000</td>\n      <td>50</td>\n      <td>33347</td>\n      <td>33286.0</td>\n      <td>No terms in first 10</td>\n      <td>5</td>\n      <td>5</td>\n      <td>5</td>\n    </tr>\n    <tr>\n      <th>1344</th>\n      <td>And without a gun you're defenseless, why can'...</td>\n      <td>Hardly any criminals go armed in England, and ...</td>\n      <td>All of the British papers keep going on about ...</td>\n      <td>2.400000</td>\n      <td>2.000000</td>\n      <td>2.600000</td>\n      <td>0.000000</td>\n      <td>-2.800000</td>\n      <td>(1231, 1)</td>\n      <td>11999</td>\n      <td>0.285714</td>\n      <td>-1.600000</td>\n      <td>0.000000</td>\n      <td>0.000000</td>\n      <td>1.200000</td>\n      <td>0.0</td>\n      <td>0.000000</td>\n      <td>-1.000000</td>\n      <td>0.00</td>\n      <td>0.000000</td>\n      <td>0.000000</td>\n      <td>0.00</td>\n      <td>-0.200000</td>\n      <td>0.0</td>\n      <td>0.000000</td>\n      <td>11999</td>\n      <td>333578</td>\n      <td>333574.0</td>\n      <td>None</td>\n      <td>5</td>\n      <td>7</td>\n      <td>5</td>\n      <td>(1393, 2)</td>\n      <td>11999</td>\n      <td>0.571429</td>\n      <td>0.200000</td>\n      <td>0.200000</td>\n      <td>0.200000</td>\n      <td>-3.00</td>\n      <td>0.0</td>\n      <td>0.400000</td>\n      <td>0.200000</td>\n      <td>-0.333333</td>\n      <td>0.0</td>\n      <td>0.200000</td>\n      <td>0.200000</td>\n      <td>-2.666667</td>\n      <td>0.0</td>\n      <td>-0.333333</td>\n      <td>0.0</td>\n      <td>0.0</td>\n      <td>0.400000</td>\n      <td>11999</td>\n      <td>333583</td>\n      <td>333578.0</td>\n      <td>No terms in first 10</td>\n      <td>5</td>\n      <td>7</td>\n      <td>3</td>\n    </tr>\n    <tr>\n      <th>1345</th>\n      <td>What I don't understand is why YEC's want to L...</td>\n      <td>That's what faith does. It limits your options.</td>\n      <td>Here's a nice little Google def: A convinced b...</td>\n      <td>0.600000</td>\n      <td>-0.600000</td>\n      <td>0.600000</td>\n      <td>0.000000</td>\n      <td>-2.400000</td>\n      <td>(1348, 1)</td>\n      <td>6032</td>\n      <td>0.857143</td>\n      <td>0.800000</td>\n      <td>0.600000</td>\n      <td>0.200000</td>\n      <td>3.000000</td>\n      <td>0.0</td>\n      <td>0.400000</td>\n      <td>-3.000000</td>\n      <td>0.00</td>\n      <td>0.200000</td>\n      <td>3.000000</td>\n      <td>0.00</td>\n      <td>3.000000</td>\n      <td>0.0</td>\n      <td>0.200000</td>\n      <td>6032</td>\n      <td>149609</td>\n      <td>149552.0</td>\n      <td>No terms in first 10</td>\n      <td>5</td>\n      <td>7</td>\n      <td>1</td>\n      <td>(402, 2)</td>\n      <td>6032</td>\n      <td>0.428571</td>\n      <td>0.200000</td>\n      <td>1.000000</td>\n      <td>0.000000</td>\n      <td>-0.25</td>\n      <td>0.0</td>\n      <td>0.600000</td>\n      <td>0.000000</td>\n      <td>-3.000000</td>\n      <td>0.0</td>\n      <td>1.200000</td>\n      <td>0.000000</td>\n      <td>-0.500000</td>\n      <td>0.0</td>\n      <td>3.250000</td>\n      <td>0.0</td>\n      <td>0.2</td>\n      <td>0.000000</td>\n      <td>6032</td>\n      <td>149673</td>\n      <td>149609.0</td>\n      <td>No terms in first 10</td>\n      <td>5</td>\n      <td>7</td>\n      <td>4</td>\n    </tr>\n  </tbody>\n</table>\n<p>1340 rows × 59 columns</p>\n</div>"
     },
     "execution_count": 11,
     "metadata": {},
     "output_type": "execute_result"
    }
   ],
   "source": [
    "# Self-merge where the 'response' matches another 'quote' in the DataFrame\n",
    "triples = pairs.merge(pairs,left_on='response',right_on='quote',how='inner',suffixes=('_r1','_r2'))\n",
    "\n",
    "# Rename and reorder columns\n",
    "triples = triples.rename(columns={'quote_r1':'quote', 'quote_r2':'response1', 'response_r2':'response2'})\n",
    "triples = triples.drop(columns=['response_r1'])\n",
    "front_columns = [\n",
    "                 'quote','response1','response2','attack_r1','fact-feeling_r1','nicenasty_r1','sarcasm_r1',\n",
    "                 'agreement_r2'\n",
    "                ]\n",
    "triples = triples.dropna(subset=front_columns)\n",
    "triples = triples[front_columns].join(triples.drop(columns=front_columns))\n",
    "\n",
    "# Display triples\n",
    "triples"
   ]
  },
  {
   "cell_type": "markdown",
   "metadata": {},
   "source": [
    "Now we have 1,346 triples of quote-response1-response2, several text variables of response1 (e.g., \"Is the respondent using sarcasm?\") that may predict the agreement of response2. In other words: _Does a sarcastic comment lead to more agreement?_ Of course, as with almost all observational data, there are a number of confounders that make our identification difficult, but for now, let's explore how to run a simple regression in Python of agreement_r2 (dependent variable, commonly known as Y) on sarcasm_r1. Fortunately, we do have a strong case for identifying the direction of causality: Because response1 comes before response2, we can rule out the possibility that response2 affects response1."
   ]
  },
  {
   "cell_type": "code",
   "execution_count": 7,
   "outputs": [
    {
     "data": {
      "text/plain": "Index(['quote', 'response1', 'response2', 'attack_r1', 'fact-feeling_r1',\n       'nicenasty_r1', 'sarcasm_r1', 'agreement_r2', 'key_r1',\n       'discussion_id_x_r1', 'agree-disagree_r1', 'agreement_r1',\n       'agreement_unsure_r1', 'attack_unsure_r1', 'defeater-undercutter_r1',\n       'defeater-undercutter_unsure_r1', 'fact-feeling_unsure_r1',\n       'negotiate-attack_r1', 'negotiate-attack_unsure_r1',\n       'nicenasty_unsure_r1', 'personal-audience_r1',\n       'personal-audience_unsure_r1', 'questioning-asserting_r1',\n       'questioning-asserting_unsure_r1', 'sarcasm_unsure_r1',\n       'discussion_id_y_r1', 'response_post_id_r1', 'quote_post_id_r1',\n       'term_r1', 'task1 num annot_r1', 'task2 num annot_r1',\n       'task2 num disagree_r1', 'key_r2', 'discussion_id_x_r2',\n       'agree-disagree_r2', 'agreement_unsure_r2', 'attack_r2',\n       'attack_unsure_r2', 'defeater-undercutter_r2',\n       'defeater-undercutter_unsure_r2', 'fact-feeling_r2',\n       'fact-feeling_unsure_r2', 'negotiate-attack_r2',\n       'negotiate-attack_unsure_r2', 'nicenasty_r2', 'nicenasty_unsure_r2',\n       'personal-audience_r2', 'personal-audience_unsure_r2',\n       'questioning-asserting_r2', 'questioning-asserting_unsure_r2',\n       'sarcasm_r2', 'sarcasm_unsure_r2', 'discussion_id_y_r2',\n       'response_post_id_r2', 'quote_post_id_r2', 'term_r2',\n       'task1 num annot_r2', 'task2 num annot_r2', 'task2 num disagree_r2'],\n      dtype='object')"
     },
     "execution_count": 7,
     "metadata": {},
     "output_type": "execute_result"
    }
   ],
   "source": [
    "triples.keys()"
   ],
   "metadata": {
    "collapsed": false,
    "pycharm": {
     "name": "#%%\n"
    }
   }
  },
  {
   "cell_type": "code",
   "execution_count": 5,
   "metadata": {},
   "outputs": [
    {
     "data": {
      "text/plain": "<class 'statsmodels.iolib.summary.Summary'>\n\"\"\"\n                            OLS Regression Results                            \n==============================================================================\nDep. Variable:           agreement_r2   R-squared:                       0.000\nModel:                            OLS   Adj. R-squared:                 -0.001\nMethod:                 Least Squares   F-statistic:                   0.03364\nDate:                Tue, 22 Feb 2022   Prob (F-statistic):              0.855\nTime:                        10:03:20   Log-Likelihood:                -2581.1\nNo. Observations:                1340   AIC:                             5166.\nDf Residuals:                    1338   BIC:                             5177.\nDf Model:                           1                                         \nCovariance Type:            nonrobust                                         \n==============================================================================\n                 coef    std err          t      P>|t|      [0.025      0.975]\n------------------------------------------------------------------------------\nconst         -1.2805      0.058    -22.263      0.000      -1.393      -1.168\nsarcasm_r1    -0.0383      0.209     -0.183      0.855      -0.448       0.371\n==============================================================================\nOmnibus:                       86.710   Durbin-Watson:                   1.866\nProb(Omnibus):                  0.000   Jarque-Bera (JB):              102.903\nSkew:                           0.642   Prob(JB):                     4.52e-23\nKurtosis:                       3.443   Cond. No.                         4.73\n==============================================================================\n\nNotes:\n[1] Standard Errors assume that the covariance matrix of the errors is correctly specified.\n\"\"\"",
      "text/html": "<table class=\"simpletable\">\n<caption>OLS Regression Results</caption>\n<tr>\n  <th>Dep. Variable:</th>      <td>agreement_r2</td>   <th>  R-squared:         </th> <td>   0.000</td>\n</tr>\n<tr>\n  <th>Model:</th>                   <td>OLS</td>       <th>  Adj. R-squared:    </th> <td>  -0.001</td>\n</tr>\n<tr>\n  <th>Method:</th>             <td>Least Squares</td>  <th>  F-statistic:       </th> <td> 0.03364</td>\n</tr>\n<tr>\n  <th>Date:</th>             <td>Tue, 22 Feb 2022</td> <th>  Prob (F-statistic):</th>  <td> 0.855</td> \n</tr>\n<tr>\n  <th>Time:</th>                 <td>10:03:20</td>     <th>  Log-Likelihood:    </th> <td> -2581.1</td>\n</tr>\n<tr>\n  <th>No. Observations:</th>      <td>  1340</td>      <th>  AIC:               </th> <td>   5166.</td>\n</tr>\n<tr>\n  <th>Df Residuals:</th>          <td>  1338</td>      <th>  BIC:               </th> <td>   5177.</td>\n</tr>\n<tr>\n  <th>Df Model:</th>              <td>     1</td>      <th>                     </th>     <td> </td>   \n</tr>\n<tr>\n  <th>Covariance Type:</th>      <td>nonrobust</td>    <th>                     </th>     <td> </td>   \n</tr>\n</table>\n<table class=\"simpletable\">\n<tr>\n       <td></td>         <th>coef</th>     <th>std err</th>      <th>t</th>      <th>P>|t|</th>  <th>[0.025</th>    <th>0.975]</th>  \n</tr>\n<tr>\n  <th>const</th>      <td>   -1.2805</td> <td>    0.058</td> <td>  -22.263</td> <td> 0.000</td> <td>   -1.393</td> <td>   -1.168</td>\n</tr>\n<tr>\n  <th>sarcasm_r1</th> <td>   -0.0383</td> <td>    0.209</td> <td>   -0.183</td> <td> 0.855</td> <td>   -0.448</td> <td>    0.371</td>\n</tr>\n</table>\n<table class=\"simpletable\">\n<tr>\n  <th>Omnibus:</th>       <td>86.710</td> <th>  Durbin-Watson:     </th> <td>   1.866</td>\n</tr>\n<tr>\n  <th>Prob(Omnibus):</th> <td> 0.000</td> <th>  Jarque-Bera (JB):  </th> <td> 102.903</td>\n</tr>\n<tr>\n  <th>Skew:</th>          <td> 0.642</td> <th>  Prob(JB):          </th> <td>4.52e-23</td>\n</tr>\n<tr>\n  <th>Kurtosis:</th>      <td> 3.443</td> <th>  Cond. No.          </th> <td>    4.73</td>\n</tr>\n</table><br/><br/>Notes:<br/>[1] Standard Errors assume that the covariance matrix of the errors is correctly specified."
     },
     "execution_count": 5,
     "metadata": {},
     "output_type": "execute_result"
    }
   ],
   "source": [
    "# We build an Ordinary Least Squares (OLS) model of agreement_r2 on sarcasm_r1.\n",
    "# The function sm.add_constant() adds an intercept term to the regression (e.g., b in y = ax + b)\n",
    "y = triples['agreement_r2']\n",
    "X_cols = ['sarcasm_r1']\n",
    "X = sm.add_constant(triples[X_cols])\n",
    "\n",
    "lm1 = sm.OLS(y,X).fit()\n",
    "lm1.summary()"
   ]
  },
  {
   "cell_type": "markdown",
   "metadata": {},
   "source": [
    "The p-value for sarcasm_r1 is 0.855, which means that we fail to reject the null hypothesis that there is no effect of sarcasm on agreement. However, we have other variables that may be confounding the effect of pure \"attack\" or pure \"sarcasm.\" Let's try adding 3 other annotations to the regression model."
   ]
  },
  {
   "cell_type": "code",
   "execution_count": 6,
   "metadata": {},
   "outputs": [
    {
     "data": {
      "text/plain": "<class 'statsmodels.iolib.summary.Summary'>\n\"\"\"\n                            OLS Regression Results                            \n==============================================================================\nDep. Variable:           agreement_r2   R-squared:                       0.036\nModel:                            OLS   Adj. R-squared:                  0.034\nMethod:                 Least Squares   F-statistic:                     12.60\nDate:                Tue, 22 Feb 2022   Prob (F-statistic):           4.54e-10\nTime:                        10:03:20   Log-Likelihood:                -2556.3\nNo. Observations:                1340   AIC:                             5123.\nDf Residuals:                    1335   BIC:                             5149.\nDf Model:                           4                                         \nCovariance Type:            nonrobust                                         \n===================================================================================\n                      coef    std err          t      P>|t|      [0.025      0.975]\n-----------------------------------------------------------------------------------\nconst              -1.5276      0.075    -20.497      0.000      -1.674      -1.381\nattack_r1           0.1808      0.073      2.475      0.013       0.038       0.324\nfact-feeling_r1    -0.0248      0.033     -0.742      0.458      -0.090       0.041\nnicenasty_r1        0.0748      0.079      0.951      0.342      -0.079       0.229\nsarcasm_r1          0.6972      0.240      2.905      0.004       0.226       1.168\n==============================================================================\nOmnibus:                       86.269   Durbin-Watson:                   1.896\nProb(Omnibus):                  0.000   Jarque-Bera (JB):              103.200\nSkew:                           0.629   Prob(JB):                     3.89e-23\nKurtosis:                       3.517   Cond. No.                         12.8\n==============================================================================\n\nNotes:\n[1] Standard Errors assume that the covariance matrix of the errors is correctly specified.\n\"\"\"",
      "text/html": "<table class=\"simpletable\">\n<caption>OLS Regression Results</caption>\n<tr>\n  <th>Dep. Variable:</th>      <td>agreement_r2</td>   <th>  R-squared:         </th> <td>   0.036</td>\n</tr>\n<tr>\n  <th>Model:</th>                   <td>OLS</td>       <th>  Adj. R-squared:    </th> <td>   0.034</td>\n</tr>\n<tr>\n  <th>Method:</th>             <td>Least Squares</td>  <th>  F-statistic:       </th> <td>   12.60</td>\n</tr>\n<tr>\n  <th>Date:</th>             <td>Tue, 22 Feb 2022</td> <th>  Prob (F-statistic):</th> <td>4.54e-10</td>\n</tr>\n<tr>\n  <th>Time:</th>                 <td>10:03:20</td>     <th>  Log-Likelihood:    </th> <td> -2556.3</td>\n</tr>\n<tr>\n  <th>No. Observations:</th>      <td>  1340</td>      <th>  AIC:               </th> <td>   5123.</td>\n</tr>\n<tr>\n  <th>Df Residuals:</th>          <td>  1335</td>      <th>  BIC:               </th> <td>   5149.</td>\n</tr>\n<tr>\n  <th>Df Model:</th>              <td>     4</td>      <th>                     </th>     <td> </td>   \n</tr>\n<tr>\n  <th>Covariance Type:</th>      <td>nonrobust</td>    <th>                     </th>     <td> </td>   \n</tr>\n</table>\n<table class=\"simpletable\">\n<tr>\n         <td></td>            <th>coef</th>     <th>std err</th>      <th>t</th>      <th>P>|t|</th>  <th>[0.025</th>    <th>0.975]</th>  \n</tr>\n<tr>\n  <th>const</th>           <td>   -1.5276</td> <td>    0.075</td> <td>  -20.497</td> <td> 0.000</td> <td>   -1.674</td> <td>   -1.381</td>\n</tr>\n<tr>\n  <th>attack_r1</th>       <td>    0.1808</td> <td>    0.073</td> <td>    2.475</td> <td> 0.013</td> <td>    0.038</td> <td>    0.324</td>\n</tr>\n<tr>\n  <th>fact-feeling_r1</th> <td>   -0.0248</td> <td>    0.033</td> <td>   -0.742</td> <td> 0.458</td> <td>   -0.090</td> <td>    0.041</td>\n</tr>\n<tr>\n  <th>nicenasty_r1</th>    <td>    0.0748</td> <td>    0.079</td> <td>    0.951</td> <td> 0.342</td> <td>   -0.079</td> <td>    0.229</td>\n</tr>\n<tr>\n  <th>sarcasm_r1</th>      <td>    0.6972</td> <td>    0.240</td> <td>    2.905</td> <td> 0.004</td> <td>    0.226</td> <td>    1.168</td>\n</tr>\n</table>\n<table class=\"simpletable\">\n<tr>\n  <th>Omnibus:</th>       <td>86.269</td> <th>  Durbin-Watson:     </th> <td>   1.896</td>\n</tr>\n<tr>\n  <th>Prob(Omnibus):</th> <td> 0.000</td> <th>  Jarque-Bera (JB):  </th> <td> 103.200</td>\n</tr>\n<tr>\n  <th>Skew:</th>          <td> 0.629</td> <th>  Prob(JB):          </th> <td>3.89e-23</td>\n</tr>\n<tr>\n  <th>Kurtosis:</th>      <td> 3.517</td> <th>  Cond. No.          </th> <td>    12.8</td>\n</tr>\n</table><br/><br/>Notes:<br/>[1] Standard Errors assume that the covariance matrix of the errors is correctly specified."
     },
     "execution_count": 6,
     "metadata": {},
     "output_type": "execute_result"
    }
   ],
   "source": [
    "y = triples['agreement_r2']\n",
    "X_cols = ['attack_r1','fact-feeling_r1','nicenasty_r1','sarcasm_r1']\n",
    "X = sm.add_constant(triples[X_cols])\n",
    "\n",
    "lm2 = sm.OLS(y,X).fit()\n",
    "lm2.summary()"
   ]
  },
  {
   "cell_type": "markdown",
   "metadata": {},
   "source": [
    "The condition number (bottom-right of the output above) is 12.8, indicating high correlations between our predictors or collinearity. This is one of many issues to look out for when running regressions. Let's take a look at the correlations:"
   ]
  },
  {
   "cell_type": "code",
   "execution_count": 7,
   "metadata": {},
   "outputs": [
    {
     "data": {
      "text/plain": "<Figure size 432x288 with 2 Axes>",
      "image/png": "[encoded data removed]"
     },
     "metadata": {
      "needs_background": "light"
     },
     "output_type": "display_data"
    }
   ],
   "source": [
    "corr_matrix = np.corrcoef(triples[X_cols].T)\n",
    "smg.plot_corr(corr_matrix, xnames=X_cols)\n",
    "plt.show()"
   ]
  },
  {
   "cell_type": "markdown",
   "metadata": {},
   "source": [
    "That's very high correlation between attack_r1 and nicenasty_r1 (recall that nasty is +5...this should be no surprise)! We found a significant effect of attack_r1, but not of nicenasty_r1. If we remove attack_r1 from the model, do you think nicenasty_r1 will be significant?"
   ]
  },
  {
   "cell_type": "code",
   "execution_count": 8,
   "metadata": {},
   "outputs": [
    {
     "data": {
      "text/plain": "<class 'statsmodels.iolib.summary.Summary'>\n\"\"\"\n                            OLS Regression Results                            \n==============================================================================\nDep. Variable:           agreement_r2   R-squared:                       0.032\nModel:                            OLS   Adj. R-squared:                  0.030\nMethod:                 Least Squares   F-statistic:                     14.71\nDate:                Tue, 22 Feb 2022   Prob (F-statistic):           2.00e-09\nTime:                        10:03:20   Log-Likelihood:                -2559.3\nNo. Observations:                1340   AIC:                             5127.\nDf Residuals:                    1336   BIC:                             5147.\nDf Model:                           3                                         \nCovariance Type:            nonrobust                                         \n===================================================================================\n                      coef    std err          t      P>|t|      [0.025      0.975]\n-----------------------------------------------------------------------------------\nconst              -1.5744      0.072    -21.798      0.000      -1.716      -1.433\nfact-feeling_r1    -0.0183      0.033     -0.548      0.584      -0.084       0.047\nnicenasty_r1        0.2454      0.038      6.488      0.000       0.171       0.320\nsarcasm_r1          0.7113      0.240      2.959      0.003       0.240       1.183\n==============================================================================\nOmnibus:                       85.105   Durbin-Watson:                   1.893\nProb(Omnibus):                  0.000   Jarque-Bera (JB):              101.648\nSkew:                           0.623   Prob(JB):                     8.46e-23\nKurtosis:                       3.518   Cond. No.                         10.3\n==============================================================================\n\nNotes:\n[1] Standard Errors assume that the covariance matrix of the errors is correctly specified.\n\"\"\"",
      "text/html": "<table class=\"simpletable\">\n<caption>OLS Regression Results</caption>\n<tr>\n  <th>Dep. Variable:</th>      <td>agreement_r2</td>   <th>  R-squared:         </th> <td>   0.032</td>\n</tr>\n<tr>\n  <th>Model:</th>                   <td>OLS</td>       <th>  Adj. R-squared:    </th> <td>   0.030</td>\n</tr>\n<tr>\n  <th>Method:</th>             <td>Least Squares</td>  <th>  F-statistic:       </th> <td>   14.71</td>\n</tr>\n<tr>\n  <th>Date:</th>             <td>Tue, 22 Feb 2022</td> <th>  Prob (F-statistic):</th> <td>2.00e-09</td>\n</tr>\n<tr>\n  <th>Time:</th>                 <td>10:03:20</td>     <th>  Log-Likelihood:    </th> <td> -2559.3</td>\n</tr>\n<tr>\n  <th>No. Observations:</th>      <td>  1340</td>      <th>  AIC:               </th> <td>   5127.</td>\n</tr>\n<tr>\n  <th>Df Residuals:</th>          <td>  1336</td>      <th>  BIC:               </th> <td>   5147.</td>\n</tr>\n<tr>\n  <th>Df Model:</th>              <td>     3</td>      <th>                     </th>     <td> </td>   \n</tr>\n<tr>\n  <th>Covariance Type:</th>      <td>nonrobust</td>    <th>                     </th>     <td> </td>   \n</tr>\n</table>\n<table class=\"simpletable\">\n<tr>\n         <td></td>            <th>coef</th>     <th>std err</th>      <th>t</th>      <th>P>|t|</th>  <th>[0.025</th>    <th>0.975]</th>  \n</tr>\n<tr>\n  <th>const</th>           <td>   -1.5744</td> <td>    0.072</td> <td>  -21.798</td> <td> 0.000</td> <td>   -1.716</td> <td>   -1.433</td>\n</tr>\n<tr>\n  <th>fact-feeling_r1</th> <td>   -0.0183</td> <td>    0.033</td> <td>   -0.548</td> <td> 0.584</td> <td>   -0.084</td> <td>    0.047</td>\n</tr>\n<tr>\n  <th>nicenasty_r1</th>    <td>    0.2454</td> <td>    0.038</td> <td>    6.488</td> <td> 0.000</td> <td>    0.171</td> <td>    0.320</td>\n</tr>\n<tr>\n  <th>sarcasm_r1</th>      <td>    0.7113</td> <td>    0.240</td> <td>    2.959</td> <td> 0.003</td> <td>    0.240</td> <td>    1.183</td>\n</tr>\n</table>\n<table class=\"simpletable\">\n<tr>\n  <th>Omnibus:</th>       <td>85.105</td> <th>  Durbin-Watson:     </th> <td>   1.893</td>\n</tr>\n<tr>\n  <th>Prob(Omnibus):</th> <td> 0.000</td> <th>  Jarque-Bera (JB):  </th> <td> 101.648</td>\n</tr>\n<tr>\n  <th>Skew:</th>          <td> 0.623</td> <th>  Prob(JB):          </th> <td>8.46e-23</td>\n</tr>\n<tr>\n  <th>Kurtosis:</th>      <td> 3.518</td> <th>  Cond. No.          </th> <td>    10.3</td>\n</tr>\n</table><br/><br/>Notes:<br/>[1] Standard Errors assume that the covariance matrix of the errors is correctly specified."
     },
     "execution_count": 8,
     "metadata": {},
     "output_type": "execute_result"
    }
   ],
   "source": [
    "y = triples['agreement_r2']\n",
    "X_cols = ['fact-feeling_r1','nicenasty_r1','sarcasm_r1']\n",
    "X = sm.add_constant(triples[X_cols])\n",
    "\n",
    "lm2 = sm.OLS(y,X).fit()\n",
    "lm2.summary()"
   ]
  },
  {
   "cell_type": "markdown",
   "metadata": {},
   "source": [
    "Yes, it is! And the t-value is even larger (i.e., stronger evidence of an effect). With this new regression model, we see a significant effect from attack_r1/nicenasty_r1 and sarcasm_r1, indicating both of these dimensions affect whether the response2 agrees with response1. Note that the coefficients are both positive: For attack_r1/nicenasty_r1, this means that a more \"nasty\" comment led to more disagreement, and for sarcasm_r1, this means that a more sarcasistic comment led to more disagreement.\n",
    "\n",
    "For good measure, we can add other variables ourselves, such as sentiment and the character length of the comment. The length may be particularly important based on how it affects the annotations of Mechanical Turk workers. For example, as we were skimming through the data, it seemed like shorter comments were being rated as more nasty. For sentiment, let's use the convenient BERT pipeline we used last week and which we will detail and theorize in weeks to come."
   ]
  },
  {
   "cell_type": "code",
   "execution_count": 13,
   "metadata": {},
   "outputs": [
    {
     "name": "stderr",
     "output_type": "stream",
     "text": [
      "<ipython-input-13-b888f3d8c138>:1: SettingWithCopyWarning: \n",
      "A value is trying to be set on a copy of a slice from a DataFrame.\n",
      "Try using .loc[row_indexer,col_indexer] = value instead\n",
      "\n",
      "See the caveats in the documentation: https://pandas.pydata.org/pandas-docs/stable/user_guide/indexing.html#returning-a-view-versus-a-copy\n",
      "  triples['length_r1'] = triples['response1'].apply(lambda x: len(x))\n",
      "<ipython-input-13-b888f3d8c138>:2: SettingWithCopyWarning: \n",
      "A value is trying to be set on a copy of a slice from a DataFrame.\n",
      "Try using .loc[row_indexer,col_indexer] = value instead\n",
      "\n",
      "See the caveats in the documentation: https://pandas.pydata.org/pandas-docs/stable/user_guide/indexing.html#returning-a-view-versus-a-copy\n",
      "  triples['length_r2'] = triples['response2'].apply(lambda x: len(x))\n"
     ]
    }
   ],
   "source": [
    "triples['length_r1'] = triples['response1'].apply(lambda x: len(x))\n",
    "triples['length_r2'] = triples['response2'].apply(lambda x: len(x))"
   ]
  },
  {
   "cell_type": "code",
   "execution_count": 14,
   "metadata": {},
   "outputs": [
    {
     "name": "stderr",
     "output_type": "stream",
     "text": [
      "No model was supplied, defaulted to distilbert-base-uncased-finetuned-sst-2-english (https://huggingface.co/distilbert-base-uncased-finetuned-sst-2-english)\n"
     ]
    },
    {
     "name": "stdout",
     "output_type": "stream",
     "text": [
      "label: NEGATIVE, with score: 0.9991\n"
     ]
    }
   ],
   "source": [
    "sentiment = pipeline(\"sentiment-analysis\")\n",
    "result = sentiment(\"I hate you\")[0]\n",
    "print(f\"label: {result['label']}, with score: {round(result['score'], 4)}\")"
   ]
  },
  {
   "cell_type": "markdown",
   "metadata": {},
   "source": [
    "This version of BERT is built only for texts of up to 512 tokens, so for comments longer than that, we truncate."
   ]
  },
  {
   "cell_type": "code",
   "execution_count": 15,
   "metadata": {},
   "outputs": [
    {
     "name": "stderr",
     "output_type": "stream",
     "text": [
      "<timed exec>:1: SettingWithCopyWarning: \n",
      "A value is trying to be set on a copy of a slice from a DataFrame.\n",
      "Try using .loc[row_indexer,col_indexer] = value instead\n",
      "\n",
      "See the caveats in the documentation: https://pandas.pydata.org/pandas-docs/stable/user_guide/indexing.html#returning-a-view-versus-a-copy\n"
     ]
    },
    {
     "name": "stdout",
     "output_type": "stream",
     "text": [
      "CPU times: user 5min 57s, sys: 2.29 s, total: 5min 59s\n",
      "Wall time: 5min 51s\n"
     ]
    },
    {
     "name": "stderr",
     "output_type": "stream",
     "text": [
      "<timed exec>:2: SettingWithCopyWarning: \n",
      "A value is trying to be set on a copy of a slice from a DataFrame.\n",
      "Try using .loc[row_indexer,col_indexer] = value instead\n",
      "\n",
      "See the caveats in the documentation: https://pandas.pydata.org/pandas-docs/stable/user_guide/indexing.html#returning-a-view-versus-a-copy\n"
     ]
    }
   ],
   "source": [
    "%%time\n",
    "\n",
    "triples['sentiment_r1'] = triples['response1'].apply(lambda x: sentiment(x[:512])[0]['score'])\n",
    "triples['sentiment_r2'] = triples['response2'].apply(lambda x: sentiment(x[:512])[0]['score'])"
   ]
  },
  {
   "cell_type": "code",
   "execution_count": 16,
   "metadata": {},
   "outputs": [
    {
     "data": {
      "text/plain": "<class 'statsmodels.iolib.summary.Summary'>\n\"\"\"\n                            OLS Regression Results                            \n==============================================================================\nDep. Variable:           agreement_r2   R-squared:                       0.026\nModel:                            OLS   Adj. R-squared:                  0.022\nMethod:                 Least Squares   F-statistic:                     6.418\nDate:                Wed, 23 Feb 2022   Prob (F-statistic):           6.78e-06\nTime:                        22:49:55   Log-Likelihood:                -2184.4\nNo. Observations:                1207   AIC:                             4381.\nDf Residuals:                    1201   BIC:                             4411.\nDf Model:                           5                                         \nCovariance Type:            nonrobust                                         \n===================================================================================\n                      coef    std err          t      P>|t|      [0.025      0.975]\n-----------------------------------------------------------------------------------\nconst              -2.0018      0.504     -3.976      0.000      -2.990      -1.014\nfact-feeling_r1     0.0179      0.032      0.555      0.579      -0.045       0.081\nnicenasty_r1        0.1858      0.036      5.135      0.000       0.115       0.257\nsarcasm_r1          0.6765      0.229      2.956      0.003       0.227       1.126\nlength_r1          -0.0001      0.000     -0.933      0.351      -0.000       0.000\nsentiment_r1        0.2969      0.514      0.577      0.564      -0.712       1.306\n==============================================================================\nOmnibus:                       62.151   Durbin-Watson:                   1.891\nProb(Omnibus):                  0.000   Jarque-Bera (JB):               72.227\nSkew:                           0.544   Prob(JB):                     2.07e-16\nKurtosis:                       3.502   Cond. No.                     7.12e+03\n==============================================================================\n\nNotes:\n[1] Standard Errors assume that the covariance matrix of the errors is correctly specified.\n[2] The condition number is large, 7.12e+03. This might indicate that there are\nstrong multicollinearity or other numerical problems.\n\"\"\"",
      "text/html": "<table class=\"simpletable\">\n<caption>OLS Regression Results</caption>\n<tr>\n  <th>Dep. Variable:</th>      <td>agreement_r2</td>   <th>  R-squared:         </th> <td>   0.026</td>\n</tr>\n<tr>\n  <th>Model:</th>                   <td>OLS</td>       <th>  Adj. R-squared:    </th> <td>   0.022</td>\n</tr>\n<tr>\n  <th>Method:</th>             <td>Least Squares</td>  <th>  F-statistic:       </th> <td>   6.418</td>\n</tr>\n<tr>\n  <th>Date:</th>             <td>Wed, 23 Feb 2022</td> <th>  Prob (F-statistic):</th> <td>6.78e-06</td>\n</tr>\n<tr>\n  <th>Time:</th>                 <td>22:49:55</td>     <th>  Log-Likelihood:    </th> <td> -2184.4</td>\n</tr>\n<tr>\n  <th>No. Observations:</th>      <td>  1207</td>      <th>  AIC:               </th> <td>   4381.</td>\n</tr>\n<tr>\n  <th>Df Residuals:</th>          <td>  1201</td>      <th>  BIC:               </th> <td>   4411.</td>\n</tr>\n<tr>\n  <th>Df Model:</th>              <td>     5</td>      <th>                     </th>     <td> </td>   \n</tr>\n<tr>\n  <th>Covariance Type:</th>      <td>nonrobust</td>    <th>                     </th>     <td> </td>   \n</tr>\n</table>\n<table class=\"simpletable\">\n<tr>\n         <td></td>            <th>coef</th>     <th>std err</th>      <th>t</th>      <th>P>|t|</th>  <th>[0.025</th>    <th>0.975]</th>  \n</tr>\n<tr>\n  <th>const</th>           <td>   -2.0018</td> <td>    0.504</td> <td>   -3.976</td> <td> 0.000</td> <td>   -2.990</td> <td>   -1.014</td>\n</tr>\n<tr>\n  <th>fact-feeling_r1</th> <td>    0.0179</td> <td>    0.032</td> <td>    0.555</td> <td> 0.579</td> <td>   -0.045</td> <td>    0.081</td>\n</tr>\n<tr>\n  <th>nicenasty_r1</th>    <td>    0.1858</td> <td>    0.036</td> <td>    5.135</td> <td> 0.000</td> <td>    0.115</td> <td>    0.257</td>\n</tr>\n<tr>\n  <th>sarcasm_r1</th>      <td>    0.6765</td> <td>    0.229</td> <td>    2.956</td> <td> 0.003</td> <td>    0.227</td> <td>    1.126</td>\n</tr>\n<tr>\n  <th>length_r1</th>       <td>   -0.0001</td> <td>    0.000</td> <td>   -0.933</td> <td> 0.351</td> <td>   -0.000</td> <td>    0.000</td>\n</tr>\n<tr>\n  <th>sentiment_r1</th>    <td>    0.2969</td> <td>    0.514</td> <td>    0.577</td> <td> 0.564</td> <td>   -0.712</td> <td>    1.306</td>\n</tr>\n</table>\n<table class=\"simpletable\">\n<tr>\n  <th>Omnibus:</th>       <td>62.151</td> <th>  Durbin-Watson:     </th> <td>   1.891</td>\n</tr>\n<tr>\n  <th>Prob(Omnibus):</th> <td> 0.000</td> <th>  Jarque-Bera (JB):  </th> <td>  72.227</td>\n</tr>\n<tr>\n  <th>Skew:</th>          <td> 0.544</td> <th>  Prob(JB):          </th> <td>2.07e-16</td>\n</tr>\n<tr>\n  <th>Kurtosis:</th>      <td> 3.502</td> <th>  Cond. No.          </th> <td>7.12e+03</td>\n</tr>\n</table><br/><br/>Notes:<br/>[1] Standard Errors assume that the covariance matrix of the errors is correctly specified.<br/>[2] The condition number is large, 7.12e+03. This might indicate that there are<br/>strong multicollinearity or other numerical problems."
     },
     "execution_count": 16,
     "metadata": {},
     "output_type": "execute_result"
    }
   ],
   "source": [
    "triples = triples.dropna(subset=['personal-audience_r2'])\n",
    "y = triples['agreement_r2']\n",
    "X_cols = ['fact-feeling_r1','nicenasty_r1','sarcasm_r1','length_r1','sentiment_r1']\n",
    "X = sm.add_constant(triples[X_cols])\n",
    "\n",
    "lm2 = sm.OLS(y,X).fit()\n",
    "lm2.summary()"
   ]
  },
  {
   "cell_type": "code",
   "execution_count": 17,
   "metadata": {},
   "outputs": [
    {
     "data": {
      "text/plain": "<Figure size 432x288 with 2 Axes>",
      "image/png": "[encoded data removed]"
     },
     "metadata": {
      "needs_background": "light"
     },
     "output_type": "display_data"
    }
   ],
   "source": [
    "corr_matrix = np.corrcoef(triples[X_cols].T)\n",
    "smg.plot_corr(corr_matrix, xnames=X_cols)\n",
    "plt.show()"
   ]
  },
  {
   "cell_type": "markdown",
   "metadata": {},
   "source": [
    "The condition number is reasonably high, but our correlatons do not seem too strong. Overall, our finding of significant effects for attack_r1/nasty_r1 and sarcasm_r1 persists with these new controls! This sort of robustness or sensitivity analysis is important for making sure your finding is compelling to yourself and to your audience. Consider doing other robustness checks, such as standardizing these variables before running the regression or adding [robust standard errors](https://en.wikipedia.org/wiki/Heteroscedasticity-consistent_standard_errors). (To be clear, the analysis above would likely not be sufficient as proof of a causal effect for a peer-reviewed journal; you would likely need a more conditional approach using matching, instruments or differences in differences.)"
   ]
  },
  {
   "cell_type": "markdown",
   "metadata": {},
   "source": [
    "## <font color=\"red\">*Exercise 2*</font>\n",
    "\n",
    "<font color=\"red\">Propose a simple causal model in your data, or a different causal model in the annotated Internet Arguments Corpus (e.g., a different treatment, a different outcome), and test it using a linear or logistic regression model. If you are using social media data for your final project, we encourage you to classify or annotate a sample of that data (either compuationally or with human annotators) and examine the effect of texts on replies to that text (e.g., Reddit posts on Reddit comments, Tweets on Twitter replies, YouTube video transcripts on YouTube comments or ratings). You do not need to make a graph of the causal model, but please make it clear (e.g., \"X affects Y, and C affects both X and Y.\").\n",
    "    \n",
    "<font color=\"red\">Also consider using the [ConvoKit datasets](https://convokit.cornell.edu/documentation/datasets.html)! Anytime there is conversation, there is an opportunity to explore the effects of early parts of the conversation on later parts. We will explore this further in Week 8 on Text Generation and Conversation.\n",
    "    \n",
    "<font color=\"red\">***Stretch*** (not required): Propose a more robust identification strategy using either matching, difference in difference, regression discontinuity, or an instrumental variable. Each of these methods usually gives you a more precise identification of the causal effect than a unconditional regression. Scott Cunningham's [Causal Inference: The Mixtape](https://mixtape.scunning.com/) is a free textbook on these topics, and all have good YouTube video explanations."
   ]
  },
  {
   "cell_type": "markdown",
   "source": [
    "I would like to find the relation for the cause of an aggressive/sarcastic response. I hypothesis this has to do\n",
    "directly with the non-alignment of beliefs with the original text. This calls for a study for 'text as a source'.\n",
    "In the below cells I study the relation of agreement/disagrreement of response 1 with the original text and the\n",
    "presence of sarcasm/ aggression in the corresponding dialogue."
   ],
   "metadata": {
    "collapsed": false
   }
  },
  {
   "cell_type": "code",
   "execution_count": 24,
   "outputs": [
    {
     "data": {
      "text/plain": "<class 'statsmodels.iolib.summary.Summary'>\n\"\"\"\n                            OLS Regression Results                            \n==============================================================================\nDep. Variable:      agree-disagree_r1   R-squared:                       0.103\nModel:                            OLS   Adj. R-squared:                  0.100\nMethod:                 Least Squares   F-statistic:                     34.36\nDate:                Wed, 23 Feb 2022   Prob (F-statistic):           3.47e-27\nTime:                        22:59:11   Log-Likelihood:                -67.059\nNo. Observations:                1207   AIC:                             144.1\nDf Residuals:                    1202   BIC:                             169.6\nDf Model:                           4                                         \nCovariance Type:            nonrobust                                         \n===================================================================================\n                      coef    std err          t      P>|t|      [0.025      0.975]\n-----------------------------------------------------------------------------------\nconst               0.4348      0.012     35.552      0.000       0.411       0.459\nfact-feeling_r1    -0.0197      0.005     -3.606      0.000      -0.030      -0.009\nnicenasty_r1        0.0050      0.013      0.377      0.706      -0.021       0.031\nsarcasm_r1          0.0998      0.040      2.525      0.012       0.022       0.177\nattack_r1           0.0634      0.012      5.174      0.000       0.039       0.087\n==============================================================================\nOmnibus:                       45.708   Durbin-Watson:                   1.835\nProb(Omnibus):                  0.000   Jarque-Bera (JB):               21.499\nSkew:                           0.083   Prob(JB):                     2.15e-05\nKurtosis:                       2.368   Cond. No.                         12.7\n==============================================================================\n\nNotes:\n[1] Standard Errors assume that the covariance matrix of the errors is correctly specified.\n\"\"\"",
      "text/html": "<table class=\"simpletable\">\n<caption>OLS Regression Results</caption>\n<tr>\n  <th>Dep. Variable:</th>    <td>agree-disagree_r1</td> <th>  R-squared:         </th> <td>   0.103</td>\n</tr>\n<tr>\n  <th>Model:</th>                   <td>OLS</td>        <th>  Adj. R-squared:    </th> <td>   0.100</td>\n</tr>\n<tr>\n  <th>Method:</th>             <td>Least Squares</td>   <th>  F-statistic:       </th> <td>   34.36</td>\n</tr>\n<tr>\n  <th>Date:</th>             <td>Wed, 23 Feb 2022</td>  <th>  Prob (F-statistic):</th> <td>3.47e-27</td>\n</tr>\n<tr>\n  <th>Time:</th>                 <td>22:59:11</td>      <th>  Log-Likelihood:    </th> <td> -67.059</td>\n</tr>\n<tr>\n  <th>No. Observations:</th>      <td>  1207</td>       <th>  AIC:               </th> <td>   144.1</td>\n</tr>\n<tr>\n  <th>Df Residuals:</th>          <td>  1202</td>       <th>  BIC:               </th> <td>   169.6</td>\n</tr>\n<tr>\n  <th>Df Model:</th>              <td>     4</td>       <th>                     </th>     <td> </td>   \n</tr>\n<tr>\n  <th>Covariance Type:</th>      <td>nonrobust</td>     <th>                     </th>     <td> </td>   \n</tr>\n</table>\n<table class=\"simpletable\">\n<tr>\n         <td></td>            <th>coef</th>     <th>std err</th>      <th>t</th>      <th>P>|t|</th>  <th>[0.025</th>    <th>0.975]</th>  \n</tr>\n<tr>\n  <th>const</th>           <td>    0.4348</td> <td>    0.012</td> <td>   35.552</td> <td> 0.000</td> <td>    0.411</td> <td>    0.459</td>\n</tr>\n<tr>\n  <th>fact-feeling_r1</th> <td>   -0.0197</td> <td>    0.005</td> <td>   -3.606</td> <td> 0.000</td> <td>   -0.030</td> <td>   -0.009</td>\n</tr>\n<tr>\n  <th>nicenasty_r1</th>    <td>    0.0050</td> <td>    0.013</td> <td>    0.377</td> <td> 0.706</td> <td>   -0.021</td> <td>    0.031</td>\n</tr>\n<tr>\n  <th>sarcasm_r1</th>      <td>    0.0998</td> <td>    0.040</td> <td>    2.525</td> <td> 0.012</td> <td>    0.022</td> <td>    0.177</td>\n</tr>\n<tr>\n  <th>attack_r1</th>       <td>    0.0634</td> <td>    0.012</td> <td>    5.174</td> <td> 0.000</td> <td>    0.039</td> <td>    0.087</td>\n</tr>\n</table>\n<table class=\"simpletable\">\n<tr>\n  <th>Omnibus:</th>       <td>45.708</td> <th>  Durbin-Watson:     </th> <td>   1.835</td>\n</tr>\n<tr>\n  <th>Prob(Omnibus):</th> <td> 0.000</td> <th>  Jarque-Bera (JB):  </th> <td>  21.499</td>\n</tr>\n<tr>\n  <th>Skew:</th>          <td> 0.083</td> <th>  Prob(JB):          </th> <td>2.15e-05</td>\n</tr>\n<tr>\n  <th>Kurtosis:</th>      <td> 2.368</td> <th>  Cond. No.          </th> <td>    12.7</td>\n</tr>\n</table><br/><br/>Notes:<br/>[1] Standard Errors assume that the covariance matrix of the errors is correctly specified."
     },
     "execution_count": 24,
     "metadata": {},
     "output_type": "execute_result"
    }
   ],
   "source": [
    "y = triples['agree-disagree_r1']\n",
    "X_cols = ['fact-feeling_r1','sarcasm_r1','attack_r1']\n",
    "X = sm.add_constant(triples[X_cols])\n",
    "\n",
    "lm = sm.OLS(y,X).fit()\n",
    "lm.summary()"
   ],
   "metadata": {
    "collapsed": false,
    "pycharm": {
     "name": "#%%\n"
    }
   }
  },
  {
   "cell_type": "markdown",
   "source": [
    "'attack_r1' and 'sarcasm_r1' show high confidence levels of affecting (being caused by disagreement)\n",
    "with prior text. This is apparent and we know that people usually tend to meaner approach of text to\n",
    "disregard text that do not align with their ideology."
   ],
   "metadata": {
    "collapsed": false
   }
  },
  {
   "cell_type": "code",
   "execution_count": 36,
   "outputs": [
    {
     "data": {
      "text/plain": "<class 'statsmodels.iolib.summary.Summary'>\n\"\"\"\n                               OLS Regression Results                               \n====================================================================================\nDep. Variable:     questioning-asserting_r1   R-squared:                       0.022\nModel:                                  OLS   Adj. R-squared:                  0.018\nMethod:                       Least Squares   F-statistic:                     6.163\nDate:                      Wed, 23 Feb 2022   Prob (F-statistic):           6.62e-05\nTime:                              23:16:36   Log-Likelihood:                -2582.1\nNo. Observations:                      1125   AIC:                             5174.\nDf Residuals:                          1120   BIC:                             5199.\nDf Model:                                 4                                         \nCovariance Type:                  nonrobust                                         \n===================================================================================\n                      coef    std err          t      P>|t|      [0.025      0.975]\n-----------------------------------------------------------------------------------\nconst               0.8321      0.117      7.085      0.000       0.602       1.063\nfact-feeling_r1     0.1195      0.053      2.238      0.025       0.015       0.224\nsarcasm_r1         -0.8183      0.379     -2.160      0.031      -1.562      -0.075\nnicenasty_r1       -0.2079      0.127     -1.633      0.103      -0.458       0.042\nattack_r1           0.2441      0.119      2.048      0.041       0.010       0.478\n==============================================================================\nOmnibus:                       36.429   Durbin-Watson:                   1.814\nProb(Omnibus):                  0.000   Jarque-Bera (JB):               34.086\nSkew:                          -0.377   Prob(JB):                     3.97e-08\nKurtosis:                       2.603   Cond. No.                         12.3\n==============================================================================\n\nNotes:\n[1] Standard Errors assume that the covariance matrix of the errors is correctly specified.\n\"\"\"",
      "text/html": "<table class=\"simpletable\">\n<caption>OLS Regression Results</caption>\n<tr>\n  <th>Dep. Variable:</th>    <td>questioning-asserting_r1</td> <th>  R-squared:         </th> <td>   0.022</td>\n</tr>\n<tr>\n  <th>Model:</th>                       <td>OLS</td>           <th>  Adj. R-squared:    </th> <td>   0.018</td>\n</tr>\n<tr>\n  <th>Method:</th>                 <td>Least Squares</td>      <th>  F-statistic:       </th> <td>   6.163</td>\n</tr>\n<tr>\n  <th>Date:</th>                 <td>Wed, 23 Feb 2022</td>     <th>  Prob (F-statistic):</th> <td>6.62e-05</td>\n</tr>\n<tr>\n  <th>Time:</th>                     <td>23:16:36</td>         <th>  Log-Likelihood:    </th> <td> -2582.1</td>\n</tr>\n<tr>\n  <th>No. Observations:</th>          <td>  1125</td>          <th>  AIC:               </th> <td>   5174.</td>\n</tr>\n<tr>\n  <th>Df Residuals:</th>              <td>  1120</td>          <th>  BIC:               </th> <td>   5199.</td>\n</tr>\n<tr>\n  <th>Df Model:</th>                  <td>     4</td>          <th>                     </th>     <td> </td>   \n</tr>\n<tr>\n  <th>Covariance Type:</th>          <td>nonrobust</td>        <th>                     </th>     <td> </td>   \n</tr>\n</table>\n<table class=\"simpletable\">\n<tr>\n         <td></td>            <th>coef</th>     <th>std err</th>      <th>t</th>      <th>P>|t|</th>  <th>[0.025</th>    <th>0.975]</th>  \n</tr>\n<tr>\n  <th>const</th>           <td>    0.8321</td> <td>    0.117</td> <td>    7.085</td> <td> 0.000</td> <td>    0.602</td> <td>    1.063</td>\n</tr>\n<tr>\n  <th>fact-feeling_r1</th> <td>    0.1195</td> <td>    0.053</td> <td>    2.238</td> <td> 0.025</td> <td>    0.015</td> <td>    0.224</td>\n</tr>\n<tr>\n  <th>sarcasm_r1</th>      <td>   -0.8183</td> <td>    0.379</td> <td>   -2.160</td> <td> 0.031</td> <td>   -1.562</td> <td>   -0.075</td>\n</tr>\n<tr>\n  <th>nicenasty_r1</th>    <td>   -0.2079</td> <td>    0.127</td> <td>   -1.633</td> <td> 0.103</td> <td>   -0.458</td> <td>    0.042</td>\n</tr>\n<tr>\n  <th>attack_r1</th>       <td>    0.2441</td> <td>    0.119</td> <td>    2.048</td> <td> 0.041</td> <td>    0.010</td> <td>    0.478</td>\n</tr>\n</table>\n<table class=\"simpletable\">\n<tr>\n  <th>Omnibus:</th>       <td>36.429</td> <th>  Durbin-Watson:     </th> <td>   1.814</td>\n</tr>\n<tr>\n  <th>Prob(Omnibus):</th> <td> 0.000</td> <th>  Jarque-Bera (JB):  </th> <td>  34.086</td>\n</tr>\n<tr>\n  <th>Skew:</th>          <td>-0.377</td> <th>  Prob(JB):          </th> <td>3.97e-08</td>\n</tr>\n<tr>\n  <th>Kurtosis:</th>      <td> 2.603</td> <th>  Cond. No.          </th> <td>    12.3</td>\n</tr>\n</table><br/><br/>Notes:<br/>[1] Standard Errors assume that the covariance matrix of the errors is correctly specified."
     },
     "execution_count": 36,
     "metadata": {},
     "output_type": "execute_result"
    }
   ],
   "source": [
    "trips = triples.dropna(subset=['questioning-asserting_r1'])\n",
    "y = trips['questioning-asserting_r1']\n",
    "X_cols = ['fact-feeling_r1','sarcasm_r1','nicenasty_r1', 'attack_r1']\n",
    "X = sm.add_constant(trips[X_cols])\n",
    "\n",
    "lm = sm.OLS(y,X).fit()\n",
    "lm.summary()"
   ],
   "metadata": {
    "collapsed": false,
    "pycharm": {
     "name": "#%%\n"
    }
   }
  },
  {
   "cell_type": "code",
   "execution_count": 34,
   "outputs": [
    {
     "data": {
      "text/plain": "<Figure size 432x288 with 2 Axes>",
      "image/png": "[encoded data removed]"
     },
     "metadata": {
      "needs_background": "light"
     },
     "output_type": "display_data"
    }
   ],
   "source": [
    "X_cols.extend(['agree-disagree_r1', 'questioning-asserting_r1'])\n",
    "corr_matrix = np.corrcoef(trips[X_cols].T)\n",
    "smg.plot_corr(corr_matrix, xnames=X_cols)\n",
    "plt.show()"
   ],
   "metadata": {
    "collapsed": false,
    "pycharm": {
     "name": "#%%\n"
    }
   }
  },
  {
   "cell_type": "markdown",
   "metadata": {},
   "source": [
    "## Splitting training and test text\n",
    "Above, we used a number of external measures of text, meaning that the measures were developed without any influence from this dataset. For annotations, it was Mechanical Turk workers measuring the text. For length, that is a mathematical count of characters. For sentiment, it was from a BERT model not trained on the Internet Arguments Corpus.\n",
    "\n",
    "This is not always the case. Consider if we want to make a measure of the text based on topic modeling. We build an LDA topic model of these comments, then we select an appealingly relevant topic and measure what number of words from Topic 1 each comment uses. Can we put that measure in the regression? We could, but it would lead to a biased estimate of the true effect size because our measure is no longer external or exogenous. The measure and model are double-dipping from the same textual information. This is important to keep in mind for your final projects, and for a more thorough explanation and justification, you can read more about this in [Egami et al. 2018](https://arxiv.org/pdf/1802.02163.pdf).\n",
    "\n",
    "One approach to this in the Internet Arguments Corpus would be to build measures with the `pairs` that were not also `triples`. Sometimes we have excess data like this that is similar enough to our regression data, which we can use without reducing our regression sample size. For example, you could abductively generate a keyword-count measure like \"argumentativeness\" or \"thoughtfulness\" from non-triple pairs that isn't already in the annotations, and then count the keywords in the triples. You could develop an LDA model or word embedding measurement on some of the data, and the use it to establish an inferential relationship on the rest of the data. This would avoid contamination."
   ]
  },
  {
   "cell_type": "markdown",
   "metadata": {},
   "source": [
    "## <font color=\"red\">*Exercise 3*</font>\n",
    "\n",
    "<font color=\"red\">Propose a measure you could generate to fill in or improve upon the simple causal model you proposed above and how you would split the data (e.g., a % of your main data, a separate-but-informative dataset). You do not have to produce the measure.\n",
    "    \n",
    "<font color=\"red\">***Stretch*** (not required): Produce the measure and integrate it into your statistical analysis. This could be a great approach for your final project!"
   ]
  },
  {
   "cell_type": "markdown",
   "metadata": {},
   "source": [
    "# Text as mediator\n",
    "\n",
    "What if text is instead the _mediator_, meaning it is effected by the teatment and effects the outcome? (A moderator influences the relationship a treatment has on the outcome. This figure from [Bhandari](https://www.scribbr.com/methodology/mediator-vs-moderator/) concisely shows the difference\n",
    "\n",
    "<img src=\"https://cdn.scribbr.com/wp-content/uploads/2021/03/mediator-and-moderator-variables.png\" alt=\"https://cdn.scribbr.com/wp-content/uploads/2021/03/mediator-and-moderator-variables.png\" style=\"width:500px\">\n",
    "The moderating impact of a variable can simply be captured by in/excluding the variable alongside the purported cause of interest.)\n",
    "\n",
    "Let's briefly return to the Internet Arguments Corpus triples and model the effect of the first comment (\"quote\") on the third comment (\"response2\") mediated by the second comment (\"response1\"). Unfortunately we don't have Turker annotations for the first comment, but we can propose a simple mediation model for the propogation of comment length from first to second to third. In other words: _Is there a causal chain of comment length through a conversation?_\n",
    "\n",
    "A two-step mediation model consists of two linear models, one for each step. Let's create length_q and sentiment_q variables for our model."
   ]
  },
  {
   "cell_type": "code",
   "execution_count": 14,
   "metadata": {},
   "outputs": [],
   "source": [
    "triples['length_q'] = triples['quote'].apply(lambda x: len(x))"
   ]
  },
  {
   "cell_type": "code",
   "execution_count": 15,
   "metadata": {},
   "outputs": [
    {
     "name": "stdout",
     "output_type": "stream",
     "text": [
      "CPU times: user 3min 6s, sys: 1.5 s, total: 3min 7s\n",
      "Wall time: 3min 3s\n"
     ]
    }
   ],
   "source": [
    "%%time\n",
    "\n",
    "triples['sentiment_q'] = triples['quote'].apply(lambda x: sentiment(x[:512])[0]['score'])"
   ]
  },
  {
   "cell_type": "markdown",
   "metadata": {},
   "source": [
    "To run this analysis, statsmodel (sm) has a convenient `Mediation` module that takes in two linear models and outputs a mediation model."
   ]
  },
  {
   "cell_type": "code",
   "execution_count": 16,
   "metadata": {},
   "outputs": [
    {
     "data": {
      "text/plain": "                          Estimate  Lower CI bound  Upper CI bound  P-value\nACME (control)            0.315455       -6.774322        7.681605    0.912\nACME (treated)            0.315455       -6.774322        7.681605    0.912\nADE (control)             0.073413        0.024109        0.124060    0.002\nADE (treated)             0.073413        0.024109        0.124060    0.002\nTotal effect              0.388868       -6.725020        7.728778    0.894\nProp. mediated (control)  0.990036        0.622708        1.350092    0.018\nProp. mediated (treated)  0.990036        0.622708        1.350092    0.018\nACME (average)            0.315455       -6.774322        7.681605    0.912\nADE (average)             0.073413        0.024109        0.124060    0.002\nProp. mediated (average)  0.990036        0.622708        1.350092    0.018",
      "text/html": "<div>\n<style scoped>\n    .dataframe tbody tr th:only-of-type {\n        vertical-align: middle;\n    }\n\n    .dataframe tbody tr th {\n        vertical-align: top;\n    }\n\n    .dataframe thead th {\n        text-align: right;\n    }\n</style>\n<table border=\"1\" class=\"dataframe\">\n  <thead>\n    <tr style=\"text-align: right;\">\n      <th></th>\n      <th>Estimate</th>\n      <th>Lower CI bound</th>\n      <th>Upper CI bound</th>\n      <th>P-value</th>\n    </tr>\n  </thead>\n  <tbody>\n    <tr>\n      <th>ACME (control)</th>\n      <td>0.315455</td>\n      <td>-6.774322</td>\n      <td>7.681605</td>\n      <td>0.912</td>\n    </tr>\n    <tr>\n      <th>ACME (treated)</th>\n      <td>0.315455</td>\n      <td>-6.774322</td>\n      <td>7.681605</td>\n      <td>0.912</td>\n    </tr>\n    <tr>\n      <th>ADE (control)</th>\n      <td>0.073413</td>\n      <td>0.024109</td>\n      <td>0.124060</td>\n      <td>0.002</td>\n    </tr>\n    <tr>\n      <th>ADE (treated)</th>\n      <td>0.073413</td>\n      <td>0.024109</td>\n      <td>0.124060</td>\n      <td>0.002</td>\n    </tr>\n    <tr>\n      <th>Total effect</th>\n      <td>0.388868</td>\n      <td>-6.725020</td>\n      <td>7.728778</td>\n      <td>0.894</td>\n    </tr>\n    <tr>\n      <th>Prop. mediated (control)</th>\n      <td>0.990036</td>\n      <td>0.622708</td>\n      <td>1.350092</td>\n      <td>0.018</td>\n    </tr>\n    <tr>\n      <th>Prop. mediated (treated)</th>\n      <td>0.990036</td>\n      <td>0.622708</td>\n      <td>1.350092</td>\n      <td>0.018</td>\n    </tr>\n    <tr>\n      <th>ACME (average)</th>\n      <td>0.315455</td>\n      <td>-6.774322</td>\n      <td>7.681605</td>\n      <td>0.912</td>\n    </tr>\n    <tr>\n      <th>ADE (average)</th>\n      <td>0.073413</td>\n      <td>0.024109</td>\n      <td>0.124060</td>\n      <td>0.002</td>\n    </tr>\n    <tr>\n      <th>Prop. mediated (average)</th>\n      <td>0.990036</td>\n      <td>0.622708</td>\n      <td>1.350092</td>\n      <td>0.018</td>\n    </tr>\n  </tbody>\n</table>\n</div>"
     },
     "execution_count": 16,
     "metadata": {},
     "output_type": "execute_result"
    }
   ],
   "source": [
    "# Mediation analysis\n",
    "y = triples['length_r1']\n",
    "X_cols = ['sentiment_q','length_q']\n",
    "X = sm.add_constant(triples[X_cols])\n",
    "mediator_model = sm.OLS(y,X)\n",
    "\n",
    "# For the second step of the mediation model, we can add in other predictors.\n",
    "y = triples['length_r2']\n",
    "X_cols = ['sentiment_q','length_q','fact-feeling_r1','nicenasty_r1','sarcasm_r1','length_r1','sentiment_r1']\n",
    "X = sm.add_constant(triples[X_cols])\n",
    "outcome_model = sm.OLS(y,X)\n",
    "\n",
    "med = Mediation(outcome_model=outcome_model, mediator_model=mediator_model,\n",
    "                exposure='length_q', mediator='length_r1').fit()\n",
    "med.summary()"
   ]
  },
  {
   "cell_type": "markdown",
   "metadata": {},
   "source": [
    "It looks like the Average Causal Mediated Effect (ACME) is not significantly different from zero, but the Average Direct Effect (ADE) is. This suggests that the true causal relationship here is more likely:\n",
    "\n",
    "_length_q -> length_r2_\n",
    "\n",
    "than\n",
    "\n",
    "_length_q -> length_r1 -> length_r2_\n",
    "\n",
    "What do you think explains that relationship?"
   ]
  },
  {
   "cell_type": "markdown",
   "metadata": {},
   "source": [
    "Once you are done with the Internet Arguments Corpus `iac_v1.1.zip` file, you may want to delete it if you are going to `git push` this directory because of [GitHub's limits on file sizes above 100 MB](https://docs.github.com/en/repositories/working-with-files/managing-large-files/about-large-files-on-github)."
   ]
  },
  {
   "cell_type": "code",
   "execution_count": 17,
   "metadata": {},
   "outputs": [],
   "source": [
    "os.remove('iac_v1.1.zip')"
   ]
  },
  {
   "cell_type": "markdown",
   "metadata": {},
   "source": [
    "## <font color=\"red\">*Exercise 4*</font>\n",
    "\n",
    "<font color=\"red\">Propose a mediation model related to the simple causal model you proposed above (ideally on the dataset you're using for your final project). If you have measures for each variable in the model, run the analysis: You can just copy the \"Mediation analysis\" cell above and replace with your variables. If you do not have measures, do not run the analysis, but be clear as to the effect(s) you would like to estimate and the research design you would use to test them."
   ]
  },
  {
   "cell_type": "markdown",
   "metadata": {},
   "source": [
    "# Text as confounder\n",
    "The causal effect we're interested in estimating might not be our causal relationship of interest. Instead, it could be another variable that affects both our treatment and outcome, known as a _confounder_. Recall the [Keith et al. 2020](https://aclanthology.org/2020.acl-main.474.pdf) figure showing the role of a confounder.\n",
    "\n",
    "<img src=\"https://raw.githubusercontent.com/UChicago-Computational-Content-Analysis/Homework-Notebooks/main/week-6/img/causal_diagram.png\" alt=\"https://raw.githubusercontent.com/UChicago-Computational-Content-Analysis/Homework-Notebooks/main/week-6/img/causal_diagram.png\" style=\"width:500px\">\n",
    "\n",
    "Why do we need to control for confounders? If we didn't, we might correctly find that the treatment and outcome are correlated, but rather than one causing the other, they could both be caused by a third variable. For example, if we are studying the effect of the journal a paper is published in on the citations of the paper, we may be worried that the text of the article affects both whether it is published by the journal and whether people cite it.\n",
    "\n",
    "The factors we controlled for in the Internet Arguments Corpus could be seen as confounders, but there are also specific methods to control for text confounders. As an example, we will walk through the method proposed by [Pryzant et al. (2018)](https://nlp.stanford.edu/pubs/pryzant2018lexicon.pdf).\n",
    "\n",
    "Say that we want to know the effect of product descriptions on product popularity. If I'm a shoe seller, how should I describe my shoes to maximize sales? Suppose I have data on sales of other shoes and want to learn from it:\n",
    "\n",
    "| Description   | Brand   | Sales |\n",
    "|---------------|---------|-------|\n",
    "| buy shoes !     | addidas | 15    |\n",
    "| fresh nike shoes !  | nike    | 35    |\n",
    "| nice nike shoes ! | nike    | 17    |\n",
    "\n",
    "It looks like \"nike\" is associated with higher sales! But that doesn't help me very much because I can't just advertise my shoes as Nikes. That would be incorrect and illegal (false advertising). What if we could build a lexicon of words like \"nike\" associated with certain brands and control for that in my analysis? We could then identify brand-agnostic words like \"fresh\" that have the causal effect of interest. This is the approach by Pryzant et al.\n",
    "\n",
    "Instead of shoes, we're going to work with Consumer Financial Protection Bureau (CFPB) complaints. When US residents complain about financial products (e..g, mortgages, credit reports), the CFPB sometimes handles these on a \"timely basis (<15 days)\" and sometimes not. If you want to submit a complaint, how should you word it so you get a timely response? We want to control for the differences in wording that result from different products to identify the causal effect of interest. For example, if saying \"mortgage\" is associated with a timely response, that doesn't mean you should throw \"mortgage\" into your complaint about a credit report.\n",
    "\n",
    "Let's download the data and construct a Pandas DataFrame!"
   ]
  },
  {
   "cell_type": "code",
   "execution_count": 18,
   "metadata": {},
   "outputs": [
    {
     "name": "stdout",
     "output_type": "stream",
     "text": [
      "Downloaded file: https://files.consumerfinance.gov/ccdb/complaints.csv.zip\n"
     ]
    }
   ],
   "source": [
    "url = 'https://files.consumerfinance.gov/ccdb/complaints.csv.zip'\n",
    "\n",
    "req = requests.get(url)\n",
    "\n",
    "filename = url.split('/')[-1]\n",
    "with open(filename,'wb') as output_file:\n",
    "    output_file.write(req.content)\n",
    "print('Downloaded file: ' + url)"
   ]
  },
  {
   "cell_type": "code",
   "execution_count": 19,
   "metadata": {},
   "outputs": [],
   "source": [
    "zipfile.ZipFile('complaints.csv.zip').extractall('')"
   ]
  },
  {
   "cell_type": "code",
   "execution_count": 20,
   "metadata": {},
   "outputs": [
    {
     "name": "stderr",
     "output_type": "stream",
     "text": [
      "/Users/sudhamshu.hosamane/opt/anaconda3/lib/python3.8/site-packages/IPython/core/interactiveshell.py:3165: DtypeWarning: Columns (9) have mixed types.Specify dtype option on import or set low_memory=False.\n",
      "  has_raised = await self.run_ast_nodes(code_ast.body, cell_name,\n"
     ]
    },
    {
     "data": {
      "text/plain": "        Date received                                            Product  \\\n0          2019-05-03                                       Student loan   \n1          2022-01-15  Credit reporting, credit repair services, or o...   \n2          2021-12-08  Credit reporting, credit repair services, or o...   \n3          2021-12-31  Credit reporting, credit repair services, or o...   \n4          2019-12-04  Credit reporting, credit repair services, or o...   \n...               ...                                                ...   \n2494980    2017-02-09                                    Debt collection   \n2494981    2015-04-29                                           Mortgage   \n2494982    2017-03-31                                   Credit reporting   \n2494983    2017-01-16                                   Credit reporting   \n2494984    2018-03-07                                           Mortgage   \n\n                         Sub-product  \\\n0               Private student loan   \n1                   Credit reporting   \n2                   Credit reporting   \n3                   Credit reporting   \n4                   Credit reporting   \n...                              ...   \n2494980                I do not know   \n2494981  Conventional fixed mortgage   \n2494982                          NaN   \n2494983                          NaN   \n2494984       Other type of mortgage   \n\n                                                     Issue  \\\n0                            Struggling to repay your loan   \n1                     Incorrect information on your report   \n2        Problem with a credit reporting company's inve...   \n3        Problem with a credit reporting company's inve...   \n4        Problem with a credit reporting company's inve...   \n...                                                    ...   \n2494980              Cont'd attempts collect debt not owed   \n2494981           Loan modification,collection,foreclosure   \n2494982           Credit reporting company's investigation   \n2494983             Incorrect information on credit report   \n2494984                     Trouble during payment process   \n\n                                                 Sub-issue  \\\n0        Can't get other flexible options for repaying ...   \n1                            Account information incorrect   \n2        Their investigation did not fix an error on yo...   \n3        Was not notified of investigation status or re...   \n4        Their investigation did not fix an error on yo...   \n...                                                    ...   \n2494980                  Debt resulted from identity theft   \n2494981                                                NaN   \n2494982           No notice of investigation status/result   \n2494983                                     Account status   \n2494984                                                NaN   \n\n                              Consumer complaint narrative  \\\n0                                                      NaN   \n1                                                      NaN   \n2        First Progress Card was notified throughout th...   \n3        As by Law, under 15 U.S Code 1601- Congression...   \n4                                                      NaN   \n...                                                    ...   \n2494980  I have disputed my debts several times with no...   \n2494981  My father died in XX/XX/XXXX. Left me his only...   \n2494982  cfbp i would Like to file a complaint on Exper...   \n2494983  My husband and I are in the middle of an FHA S...   \n2494984                                                NaN   \n\n                                   Company public response  \\\n0                                                      NaN   \n1                                                      NaN   \n2                                                      NaN   \n3        Company has responded to the consumer and the ...   \n4                                                      NaN   \n...                                                    ...   \n2494980                                                NaN   \n2494981                                                NaN   \n2494982  Company has responded to the consumer and the ...   \n2494983  Company has responded to the consumer and the ...   \n2494984  Company has responded to the consumer and the ...   \n\n                                        Company State ZIP code           Tags  \\\n0                           Ameritech Financial    FL  33023.0            NaN   \n1           Experian Information Solutions Inc.    NV  89146.0            NaN   \n2                                  Synovus Bank    DE  19805.0            NaN   \n3           Experian Information Solutions Inc.    MD  20744.0            NaN   \n4        General Motors Financial Company, Inc.    NJ   8628.0            NaN   \n...                                         ...   ...      ...            ...   \n2494980      Bonneville Billing and Collections    UT  84054.0  Servicemember   \n2494981                          CITIBANK, N.A.    OK  74066.0            NaN   \n2494982     Experian Information Solutions Inc.    MN  55379.0            NaN   \n2494983  TRANSUNION INTERMEDIATE HOLDINGS, INC.    GA  30215.0            NaN   \n2494984                   WELLS FARGO & COMPANY    CA  91304.0            NaN   \n\n        Consumer consent provided? Submitted via Date sent to company  \\\n0             Consent not provided           Web           2019-05-15   \n1                              NaN           Web           2022-01-15   \n2                 Consent provided           Web           2021-12-08   \n3                 Consent provided           Web           2021-12-31   \n4             Consent not provided           Web           2019-12-04   \n...                            ...           ...                  ...   \n2494980           Consent provided           Web           2017-02-09   \n2494981           Consent provided           Web           2015-04-29   \n2494982           Consent provided           Web           2017-03-31   \n2494983           Consent provided           Web           2017-01-16   \n2494984                        NaN      Referral           2018-03-08   \n\n            Company response to consumer Timely response? Consumer disputed?  \\\n0                      Untimely response               No                NaN   \n1                            In progress              Yes                NaN   \n2                Closed with explanation              Yes                NaN   \n3                Closed with explanation              Yes                NaN   \n4        Closed with non-monetary relief              Yes                NaN   \n...                                  ...              ...                ...   \n2494980          Closed with explanation              Yes                 No   \n2494981          Closed with explanation              Yes                 No   \n2494982  Closed with non-monetary relief              Yes                Yes   \n2494983          Closed with explanation              Yes                 No   \n2494984          Closed with explanation              Yes                NaN   \n\n         Complaint ID  \n0             3231257  \n1             5111916  \n2             4984749  \n3             5057575  \n4             3458216  \n...               ...  \n2494980       2334969  \n2494981       1352738  \n2494982       2412926  \n2494983       2292586  \n2494984       2837068  \n\n[2494985 rows x 18 columns]",
      "text/html": "<div>\n<style scoped>\n    .dataframe tbody tr th:only-of-type {\n        vertical-align: middle;\n    }\n\n    .dataframe tbody tr th {\n        vertical-align: top;\n    }\n\n    .dataframe thead th {\n        text-align: right;\n    }\n</style>\n<table border=\"1\" class=\"dataframe\">\n  <thead>\n    <tr style=\"text-align: right;\">\n      <th></th>\n      <th>Date received</th>\n      <th>Product</th>\n      <th>Sub-product</th>\n      <th>Issue</th>\n      <th>Sub-issue</th>\n      <th>Consumer complaint narrative</th>\n      <th>Company public response</th>\n      <th>Company</th>\n      <th>State</th>\n      <th>ZIP code</th>\n      <th>Tags</th>\n      <th>Consumer consent provided?</th>\n      <th>Submitted via</th>\n      <th>Date sent to company</th>\n      <th>Company response to consumer</th>\n      <th>Timely response?</th>\n      <th>Consumer disputed?</th>\n      <th>Complaint ID</th>\n    </tr>\n  </thead>\n  <tbody>\n    <tr>\n      <th>0</th>\n      <td>2019-05-03</td>\n      <td>Student loan</td>\n      <td>Private student loan</td>\n      <td>Struggling to repay your loan</td>\n      <td>Can't get other flexible options for repaying ...</td>\n      <td>NaN</td>\n      <td>NaN</td>\n      <td>Ameritech Financial</td>\n      <td>FL</td>\n      <td>33023.0</td>\n      <td>NaN</td>\n      <td>Consent not provided</td>\n      <td>Web</td>\n      <td>2019-05-15</td>\n      <td>Untimely response</td>\n      <td>No</td>\n      <td>NaN</td>\n      <td>3231257</td>\n    </tr>\n    <tr>\n      <th>1</th>\n      <td>2022-01-15</td>\n      <td>Credit reporting, credit repair services, or o...</td>\n      <td>Credit reporting</td>\n      <td>Incorrect information on your report</td>\n      <td>Account information incorrect</td>\n      <td>NaN</td>\n      <td>NaN</td>\n      <td>Experian Information Solutions Inc.</td>\n      <td>NV</td>\n      <td>89146.0</td>\n      <td>NaN</td>\n      <td>NaN</td>\n      <td>Web</td>\n      <td>2022-01-15</td>\n      <td>In progress</td>\n      <td>Yes</td>\n      <td>NaN</td>\n      <td>5111916</td>\n    </tr>\n    <tr>\n      <th>2</th>\n      <td>2021-12-08</td>\n      <td>Credit reporting, credit repair services, or o...</td>\n      <td>Credit reporting</td>\n      <td>Problem with a credit reporting company's inve...</td>\n      <td>Their investigation did not fix an error on yo...</td>\n      <td>First Progress Card was notified throughout th...</td>\n      <td>NaN</td>\n      <td>Synovus Bank</td>\n      <td>DE</td>\n      <td>19805.0</td>\n      <td>NaN</td>\n      <td>Consent provided</td>\n      <td>Web</td>\n      <td>2021-12-08</td>\n      <td>Closed with explanation</td>\n      <td>Yes</td>\n      <td>NaN</td>\n      <td>4984749</td>\n    </tr>\n    <tr>\n      <th>3</th>\n      <td>2021-12-31</td>\n      <td>Credit reporting, credit repair services, or o...</td>\n      <td>Credit reporting</td>\n      <td>Problem with a credit reporting company's inve...</td>\n      <td>Was not notified of investigation status or re...</td>\n      <td>As by Law, under 15 U.S Code 1601- Congression...</td>\n      <td>Company has responded to the consumer and the ...</td>\n      <td>Experian Information Solutions Inc.</td>\n      <td>MD</td>\n      <td>20744.0</td>\n      <td>NaN</td>\n      <td>Consent provided</td>\n      <td>Web</td>\n      <td>2021-12-31</td>\n      <td>Closed with explanation</td>\n      <td>Yes</td>\n      <td>NaN</td>\n      <td>5057575</td>\n    </tr>\n    <tr>\n      <th>4</th>\n      <td>2019-12-04</td>\n      <td>Credit reporting, credit repair services, or o...</td>\n      <td>Credit reporting</td>\n      <td>Problem with a credit reporting company's inve...</td>\n      <td>Their investigation did not fix an error on yo...</td>\n      <td>NaN</td>\n      <td>NaN</td>\n      <td>General Motors Financial Company, Inc.</td>\n      <td>NJ</td>\n      <td>8628.0</td>\n      <td>NaN</td>\n      <td>Consent not provided</td>\n      <td>Web</td>\n      <td>2019-12-04</td>\n      <td>Closed with non-monetary relief</td>\n      <td>Yes</td>\n      <td>NaN</td>\n      <td>3458216</td>\n    </tr>\n    <tr>\n      <th>...</th>\n      <td>...</td>\n      <td>...</td>\n      <td>...</td>\n      <td>...</td>\n      <td>...</td>\n      <td>...</td>\n      <td>...</td>\n      <td>...</td>\n      <td>...</td>\n      <td>...</td>\n      <td>...</td>\n      <td>...</td>\n      <td>...</td>\n      <td>...</td>\n      <td>...</td>\n      <td>...</td>\n      <td>...</td>\n      <td>...</td>\n    </tr>\n    <tr>\n      <th>2494980</th>\n      <td>2017-02-09</td>\n      <td>Debt collection</td>\n      <td>I do not know</td>\n      <td>Cont'd attempts collect debt not owed</td>\n      <td>Debt resulted from identity theft</td>\n      <td>I have disputed my debts several times with no...</td>\n      <td>NaN</td>\n      <td>Bonneville Billing and Collections</td>\n      <td>UT</td>\n      <td>84054.0</td>\n      <td>Servicemember</td>\n      <td>Consent provided</td>\n      <td>Web</td>\n      <td>2017-02-09</td>\n      <td>Closed with explanation</td>\n      <td>Yes</td>\n      <td>No</td>\n      <td>2334969</td>\n    </tr>\n    <tr>\n      <th>2494981</th>\n      <td>2015-04-29</td>\n      <td>Mortgage</td>\n      <td>Conventional fixed mortgage</td>\n      <td>Loan modification,collection,foreclosure</td>\n      <td>NaN</td>\n      <td>My father died in XX/XX/XXXX. Left me his only...</td>\n      <td>NaN</td>\n      <td>CITIBANK, N.A.</td>\n      <td>OK</td>\n      <td>74066.0</td>\n      <td>NaN</td>\n      <td>Consent provided</td>\n      <td>Web</td>\n      <td>2015-04-29</td>\n      <td>Closed with explanation</td>\n      <td>Yes</td>\n      <td>No</td>\n      <td>1352738</td>\n    </tr>\n    <tr>\n      <th>2494982</th>\n      <td>2017-03-31</td>\n      <td>Credit reporting</td>\n      <td>NaN</td>\n      <td>Credit reporting company's investigation</td>\n      <td>No notice of investigation status/result</td>\n      <td>cfbp i would Like to file a complaint on Exper...</td>\n      <td>Company has responded to the consumer and the ...</td>\n      <td>Experian Information Solutions Inc.</td>\n      <td>MN</td>\n      <td>55379.0</td>\n      <td>NaN</td>\n      <td>Consent provided</td>\n      <td>Web</td>\n      <td>2017-03-31</td>\n      <td>Closed with non-monetary relief</td>\n      <td>Yes</td>\n      <td>Yes</td>\n      <td>2412926</td>\n    </tr>\n    <tr>\n      <th>2494983</th>\n      <td>2017-01-16</td>\n      <td>Credit reporting</td>\n      <td>NaN</td>\n      <td>Incorrect information on credit report</td>\n      <td>Account status</td>\n      <td>My husband and I are in the middle of an FHA S...</td>\n      <td>Company has responded to the consumer and the ...</td>\n      <td>TRANSUNION INTERMEDIATE HOLDINGS, INC.</td>\n      <td>GA</td>\n      <td>30215.0</td>\n      <td>NaN</td>\n      <td>Consent provided</td>\n      <td>Web</td>\n      <td>2017-01-16</td>\n      <td>Closed with explanation</td>\n      <td>Yes</td>\n      <td>No</td>\n      <td>2292586</td>\n    </tr>\n    <tr>\n      <th>2494984</th>\n      <td>2018-03-07</td>\n      <td>Mortgage</td>\n      <td>Other type of mortgage</td>\n      <td>Trouble during payment process</td>\n      <td>NaN</td>\n      <td>NaN</td>\n      <td>Company has responded to the consumer and the ...</td>\n      <td>WELLS FARGO &amp; COMPANY</td>\n      <td>CA</td>\n      <td>91304.0</td>\n      <td>NaN</td>\n      <td>NaN</td>\n      <td>Referral</td>\n      <td>2018-03-08</td>\n      <td>Closed with explanation</td>\n      <td>Yes</td>\n      <td>NaN</td>\n      <td>2837068</td>\n    </tr>\n  </tbody>\n</table>\n<p>2494985 rows × 18 columns</p>\n</div>"
     },
     "execution_count": 20,
     "metadata": {},
     "output_type": "execute_result"
    }
   ],
   "source": [
    "complaints = pd.read_csv('complaints.csv')\n",
    "complaints"
   ]
  },
  {
   "cell_type": "code",
   "execution_count": 21,
   "metadata": {},
   "outputs": [],
   "source": [
    "complaints['timely'] = complaints['Timely response?'].apply(lambda x: 1 if (x == 'Yes') else 0)"
   ]
  },
  {
   "cell_type": "markdown",
   "metadata": {},
   "source": [
    "Very interesting! So our goal is to build a lexicon associated with the `Product` column in order to better identify the effect of wording choices in `Consumer complaint narrative` on whether `Timely response?` is `Yes` or `No`. Fortunately Pryzant et al. made a very convenient package to build such a lexicon."
   ]
  },
  {
   "cell_type": "code",
   "execution_count": 24,
   "metadata": {},
   "outputs": [
    {
     "name": "stdout",
     "output_type": "stream",
     "text": [
      "Collecting causal-attribution\r\n",
      "  Downloading causal_attribution-1.1-py3-none-any.whl (10 kB)\r\n",
      "Requirement already satisfied: scipy in /Users/sudhamshu.hosamane/opt/anaconda3/lib/python3.8/site-packages (from causal-attribution) (1.6.2)\r\n",
      "Requirement already satisfied: pandas in /Users/sudhamshu.hosamane/opt/anaconda3/lib/python3.8/site-packages (from causal-attribution) (1.2.4)\r\n",
      "Collecting sklearn\r\n",
      "  Using cached sklearn-0.0-py2.py3-none-any.whl\r\n",
      "Requirement already satisfied: torch>=1.0.0 in /Users/sudhamshu.hosamane/opt/anaconda3/lib/python3.8/site-packages (from causal-attribution) (1.10.2)\r\n",
      "Requirement already satisfied: nltk in /Users/sudhamshu.hosamane/opt/anaconda3/lib/python3.8/site-packages (from causal-attribution) (3.6.1)\r\n",
      "Requirement already satisfied: typing_extensions in /Users/sudhamshu.hosamane/opt/anaconda3/lib/python3.8/site-packages (from torch>=1.0.0->causal-attribution) (3.7.4.3)\r\n",
      "Requirement already satisfied: click in /Users/sudhamshu.hosamane/opt/anaconda3/lib/python3.8/site-packages (from nltk->causal-attribution) (7.1.2)\r\n",
      "Requirement already satisfied: regex in /Users/sudhamshu.hosamane/opt/anaconda3/lib/python3.8/site-packages (from nltk->causal-attribution) (2021.4.4)\r\n",
      "Requirement already satisfied: tqdm in /Users/sudhamshu.hosamane/opt/anaconda3/lib/python3.8/site-packages (from nltk->causal-attribution) (4.59.0)\r\n",
      "Requirement already satisfied: joblib in /Users/sudhamshu.hosamane/opt/anaconda3/lib/python3.8/site-packages (from nltk->causal-attribution) (1.0.1)\r\n",
      "Requirement already satisfied: python-dateutil>=2.7.3 in /Users/sudhamshu.hosamane/opt/anaconda3/lib/python3.8/site-packages (from pandas->causal-attribution) (2.8.1)\r\n",
      "Requirement already satisfied: pytz>=2017.3 in /Users/sudhamshu.hosamane/opt/anaconda3/lib/python3.8/site-packages (from pandas->causal-attribution) (2021.1)\r\n",
      "Requirement already satisfied: numpy>=1.16.5 in /Users/sudhamshu.hosamane/opt/anaconda3/lib/python3.8/site-packages (from pandas->causal-attribution) (1.20.1)\r\n",
      "Requirement already satisfied: six>=1.5 in /Users/sudhamshu.hosamane/opt/anaconda3/lib/python3.8/site-packages (from python-dateutil>=2.7.3->pandas->causal-attribution) (1.15.0)\r\n",
      "Requirement already satisfied: scikit-learn in /Users/sudhamshu.hosamane/opt/anaconda3/lib/python3.8/site-packages (from sklearn->causal-attribution) (0.24.1)\r\n",
      "Requirement already satisfied: threadpoolctl>=2.0.0 in /Users/sudhamshu.hosamane/opt/anaconda3/lib/python3.8/site-packages (from scikit-learn->sklearn->causal-attribution) (2.1.0)\r\n",
      "Installing collected packages: sklearn, causal-attribution\r\n",
      "Successfully installed causal-attribution-1.1 sklearn-0.0\r\n"
     ]
    }
   ],
   "source": [
    "# !pip install causal-attribution"
   ]
  },
  {
   "cell_type": "code",
   "execution_count": 25,
   "metadata": {},
   "outputs": [],
   "source": [
    "import causal_attribution"
   ]
  },
  {
   "cell_type": "markdown",
   "metadata": {},
   "source": [
    "We will use their function called `causal_attribution.score_vocab()`. This takes as input a vocabulary of words that we want to assess, the CSV file with data, and a dictionary that tells the function which column of the CSV is your input, your control, and your intended prediction. What vocabulary should we use? Let's put in some words related to the `Product` column as well as some words that may causally effect `Timely response?`. You can also run it on much larger vocabularies (Pryzant et al. use 2000), but it will take more time to compute."
   ]
  },
  {
   "cell_type": "code",
   "execution_count": 26,
   "metadata": {},
   "outputs": [
    {
     "data": {
      "text/plain": "Credit reporting, credit repair services, or other personal consumer reports    973881\nDebt collection                                                                 407551\nMortgage                                                                        347404\nCredit reporting                                                                140430\nCredit card or prepaid card                                                     135423\nChecking or savings account                                                     113389\nCredit card                                                                      89190\nBank account or service                                                          86206\nStudent loan                                                                     65163\nMoney transfer, virtual currency, or money service                               37275\nConsumer Loan                                                                    31600\nVehicle loan or lease                                                            30846\nPayday loan, title loan, or personal loan                                        20835\nPayday loan                                                                       5543\nMoney transfers                                                                   5354\nPrepaid card                                                                      3819\nOther financial service                                                           1058\nVirtual currency                                                                    18\nName: Product, dtype: int64"
     },
     "execution_count": 26,
     "metadata": {},
     "output_type": "execute_result"
    }
   ],
   "source": [
    "product_num = complaints['Product'].value_counts()\n",
    "product_num"
   ]
  },
  {
   "cell_type": "code",
   "execution_count": 27,
   "metadata": {},
   "outputs": [
    {
     "name": "stderr",
     "output_type": "stream",
     "text": [
      "/Users/sudhamshu.hosamane/opt/anaconda3/lib/python3.8/site-packages/IPython/core/magic.py:187: DtypeWarning: Columns (9) have mixed types.Specify dtype option on import or set low_memory=False.\n",
      "  call = lambda f, *a, **k: f(*a, **k)\n"
     ]
    },
    {
     "name": "stdout",
     "output_type": "stream",
     "text": [
      "CPU times: user 23.4 s, sys: 1.77 s, total: 25.2 s\n",
      "Wall time: 27.9 s\n"
     ]
    },
    {
     "data": {
      "text/plain": "[('mortgage', 3.583950040570926),\n ('please', 3.320432700798847),\n ('transfer', 3.262779381373548),\n ('thank', 2.854906315124026),\n ('UNK', 2.7316092510009184),\n ('urgent', 2.682648691232316),\n ('crime', 2.517495307023637),\n ('prepaid', 2.0892761925642844),\n ('wife', 0.8627179093382438),\n ('bank', 0.6609743913868442),\n ('husband', 0.48079247257555835),\n ('why', 0.446945336079807),\n ('account', 0.3921612564606676),\n ('help', 0.29709534312132746),\n ('card', 0.26418338237817807),\n ('credit', 0.2466758247173857),\n ('fraud', 0.1763091488246573),\n ('good', 0.1456455591833219),\n ('paypay', 0.08276165265124291),\n ('help', 0.06907483354734723),\n ('PAD', 0.029181787744164467),\n ('money', 0.0108653078837051),\n ('loan', -0.05878074005886447),\n ('bad', -0.07388655921386089),\n ('lease', -0.08521243336144835),\n ('virtual', -0.09871945630948176),\n ('family', -0.13988636783324182)]"
     },
     "execution_count": 27,
     "metadata": {},
     "output_type": "execute_result"
    }
   ],
   "source": [
    "%%time\n",
    "\n",
    "importance_scores = causal_attribution.score_vocab(\n",
    "    vocab=[\n",
    "           # Words I expect to be associated with Product\n",
    "           'credit','loan','bank','card','mortgage','transfer','account','money','virtual','paypay','prepaid','lease',\n",
    "           # Words I expect to be associated with timeliness\n",
    "           'fraud','crime','urgent','please','help',\n",
    "           # Words I expect to not be associated with either\n",
    "           'bad','good','help','thank','why','husband','wife','family'\n",
    "          ],\n",
    "    csv='complaints.csv',\n",
    "    delimiter=\",\",\n",
    "    name_to_type={\n",
    "        'Consumer complaint narrative': 'input',\n",
    "        'Product': 'control',\n",
    "        'Timely response?': 'predict',\n",
    "    })\n",
    "\n",
    "importance_scores['Timely response?']['Yes']"
   ]
  },
  {
   "cell_type": "markdown",
   "metadata": {},
   "source": [
    "That output isn't that intuitive, but in theory, higher scores correspond to words that better explain `Timely response?` when controlling for `Product`. This suggests that saying `mortgage` is actually a good way to get a timely response even if your complaint isn't about a mortgage! That's interesting. As with other causal inference approaches, we can take a closer look at our data to help explain the results. For example, let's look at whether the `Mortgage` `Product` category had a very high timeliness rate. \n",
    "\n",
    "You can ignore 'UNK' and 'PAD', but if you're curious, 'UNK' refers to all tokens that are in the corpus but not in the vocab, and 'PAD' refers to padding added to texts to make their length consistent—-this is common in neural networks because the network is usually designed with a certain input length, so you need to add padding tokens if the input is shorter. You will see padding very frequently in other text-based neural networks and should keep it in mind when building your own in the future."
   ]
  },
  {
   "cell_type": "code",
   "execution_count": 28,
   "metadata": {},
   "outputs": [
    {
     "data": {
      "text/plain": "                                                      timely\nCredit reporting                                    0.997899\nCredit reporting, credit repair services, or ot...  0.993706\nCredit card                                         0.988990\nCredit card or prepaid card                         0.988178\nChecking or savings account                         0.987838\nPrepaid card                                        0.986908\nStudent loan                                        0.982214\nMortgage                                            0.980680\nMoney transfer, virtual currency, or money service  0.980228\nVehicle loan or lease                               0.975783\nBank account or service                             0.974178\nMoney transfers                                     0.972731\nConsumer Loan                                       0.960886\nDebt collection                                     0.949739\nPayday loan, title loan, or personal loan           0.939765\nOther financial service                             0.894140\nPayday loan                                         0.891936\nVirtual currency                                    0.888889",
      "text/html": "<div>\n<style scoped>\n    .dataframe tbody tr th:only-of-type {\n        vertical-align: middle;\n    }\n\n    .dataframe tbody tr th {\n        vertical-align: top;\n    }\n\n    .dataframe thead th {\n        text-align: right;\n    }\n</style>\n<table border=\"1\" class=\"dataframe\">\n  <thead>\n    <tr style=\"text-align: right;\">\n      <th></th>\n      <th>timely</th>\n    </tr>\n  </thead>\n  <tbody>\n    <tr>\n      <th>Credit reporting</th>\n      <td>0.997899</td>\n    </tr>\n    <tr>\n      <th>Credit reporting, credit repair services, or other personal consumer reports</th>\n      <td>0.993706</td>\n    </tr>\n    <tr>\n      <th>Credit card</th>\n      <td>0.988990</td>\n    </tr>\n    <tr>\n      <th>Credit card or prepaid card</th>\n      <td>0.988178</td>\n    </tr>\n    <tr>\n      <th>Checking or savings account</th>\n      <td>0.987838</td>\n    </tr>\n    <tr>\n      <th>Prepaid card</th>\n      <td>0.986908</td>\n    </tr>\n    <tr>\n      <th>Student loan</th>\n      <td>0.982214</td>\n    </tr>\n    <tr>\n      <th>Mortgage</th>\n      <td>0.980680</td>\n    </tr>\n    <tr>\n      <th>Money transfer, virtual currency, or money service</th>\n      <td>0.980228</td>\n    </tr>\n    <tr>\n      <th>Vehicle loan or lease</th>\n      <td>0.975783</td>\n    </tr>\n    <tr>\n      <th>Bank account or service</th>\n      <td>0.974178</td>\n    </tr>\n    <tr>\n      <th>Money transfers</th>\n      <td>0.972731</td>\n    </tr>\n    <tr>\n      <th>Consumer Loan</th>\n      <td>0.960886</td>\n    </tr>\n    <tr>\n      <th>Debt collection</th>\n      <td>0.949739</td>\n    </tr>\n    <tr>\n      <th>Payday loan, title loan, or personal loan</th>\n      <td>0.939765</td>\n    </tr>\n    <tr>\n      <th>Other financial service</th>\n      <td>0.894140</td>\n    </tr>\n    <tr>\n      <th>Payday loan</th>\n      <td>0.891936</td>\n    </tr>\n    <tr>\n      <th>Virtual currency</th>\n      <td>0.888889</td>\n    </tr>\n  </tbody>\n</table>\n</div>"
     },
     "execution_count": 28,
     "metadata": {},
     "output_type": "execute_result"
    }
   ],
   "source": [
    "product_timelies = complaints.groupby('Product').agg({'timely': 'sum'}).sort_values(by=['timely'],ascending=False)\n",
    "pcts = product_timelies.divide(product_num,axis=0).sort_values(by=['timely'],ascending=False)\n",
    "pcts"
   ]
  },
  {
   "cell_type": "markdown",
   "metadata": {},
   "source": [
    "Mortgage is in the middle of the pack, so it doesn't seem like mortgages in themselves are extremely likely to be responded to in a timely manner. This is something you can explore in more detail if you have time and interest. For example, you can check for which products the word `mortgage` is most strongly associated with timeliness."
   ]
  },
  {
   "cell_type": "markdown",
   "metadata": {},
   "source": [
    "Once you are done with the CFPB `complaints.csv.zip` and `complaints.csv` files, you may want to delete them if you are going to `git push` this directory because of [GitHub's limits on file sizes above 100 MB](https://docs.github.com/en/repositories/working-with-files/managing-large-files/about-large-files-on-github)."
   ]
  },
  {
   "cell_type": "code",
   "execution_count": null,
   "metadata": {},
   "outputs": [],
   "source": [
    "os.remove('complaints.csv.zip')"
   ]
  },
  {
   "cell_type": "code",
   "execution_count": null,
   "metadata": {},
   "outputs": [],
   "source": [
    "os.remove('complaints.csv')"
   ]
  },
  {
   "cell_type": "markdown",
   "metadata": {},
   "source": [
    "## <font color=\"red\">*Exercise 5*</font>\n",
    "\n",
    "<font color=\"red\">Propose a confounder in your final project data that could be controlled for using the method of Pryzant et al. Generate an appropriate CSV file and run it on some vocabulary in your corpus. If you have no such confounder available for your final project, you can use `complaints.csv` with a new vocabulary or for different variables (e.g., `Sub-product`, `Company`) or you can further explore the interesting case of `mortgage`. Also keep in mind the [ConvoKit datasets](https://convokit.cornell.edu/documentation/datasets.html). In any case, be sure to interpret the results. What does the output of `causal_attribution.score_vocab()` mean in your context?"
   ]
  },
  {
   "cell_type": "markdown",
   "metadata": {},
   "source": [
    "# \"Causally sufficient\" embedding and topic models\n",
    "Our final example of causal inference with text is from Victor Veitch (now a statistics and CS professor at UChicago), Sridhhar, and Blei. You may recall Blei as the lead developer of LDA, HDP, and Dynamic topic models, among other amazing contributions to content analysis.\n",
    "\n",
    "Their 2020 paper, [\"Adapting Text Embeddings for Causal Inference\"](https://arxiv.org/abs/1905.12741), proposes reducing the dimensions of contextual text embeddings (from BERT) in a manner that preserves causally relevant text signals. For example: \"Does adding a theorem to a paper affect its chance of acceptance?\" We can apply supervised dimensionality reduction to make the embedding easier to analyze (i.e., lower dimension) but preserve information about whether theorems are present. Similar to Pryzant et al., Veitch et al. have a great [GitHub respository](https://github.com/blei-lab/causal-text-embeddings) with the data and code for their paper, and their dataset of computer science papers, PeerRead, has its own great [repo](https://github.com/allenai/PeerRead).\n",
    "\n",
    "Their code is somewhat too hefty and farflung for this assignment, but for your future research, keep in mind that you can adjust your textual objects (e.g., keyword counts, topic models, word embeddings) for causal models. Bringing together unsupervised machine learning with causal inference is an exciting and rapidly developing field!"
   ]
  },
  {
   "cell_type": "markdown",
   "metadata": {},
   "source": [
    "## <font color=\"red\">*Exercise 6*</font>\n",
    "\n",
    "<font color=\"red\">Pick one other paper on causal inference with text from the [\"Papers about Causal Inference and Language\n",
    "\" GitHub repository](https://github.com/causaltext/causal-text-papers). Write at least three sentences summarizing the paper and its logic of design in your own words.\n",
    "    \n",
    "<font color=\"red\">***Stretch*** (not required): Skim a few more papers. The causal world is your textual oyster!"
   ]
  }
 ],
 "metadata": {
  "anaconda-cloud": {},
  "kernelspec": {
   "display_name": "Python 3 (ipykernel)",
   "language": "python",
   "name": "python3"
  },
  "language_info": {
   "codemirror_mode": {
    "name": "ipython",
    "version": 3
   },
   "file_extension": ".py",
   "mimetype": "text/x-python",
   "name": "python",
   "nbconvert_exporter": "python",
   "pygments_lexer": "ipython3",
   "version": "3.9.7"
  }
 },
 "nbformat": 4,
 "nbformat_minor": 1
}