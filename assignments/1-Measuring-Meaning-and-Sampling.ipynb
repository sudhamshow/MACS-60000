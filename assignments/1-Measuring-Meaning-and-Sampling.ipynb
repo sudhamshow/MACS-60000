{
 "cells": [
  {
   "cell_type": "markdown",
   "metadata": {},
   "source": [
    "# Week 1 - Measuring Meaning & Sampling\n",
    "This week, we begin by \"begging, borrowing and stealing\" text from several\n",
    "contexts of human communication (e.g., PDFs, HTML, Word) and preparing it for\n",
    "machines to \"read\" and analyze so that we can begin to build our sample. This notebook outlines scraping text from the web, PDF and Word documents. Then we detail \"spidering\" or walking\n",
    "through hyperlinks to build samples of online content, and using APIs,\n",
    "Application Programming Interfaces, provided by webservices to access their\n",
    "content. Along the way, we will use regular expressions, outlined in the\n",
    "reading, to remove unwanted formatting and ornamentation. Next, we discuss\n",
    "various text encodings, filtering and data structures in which text can be\n",
    "placed for analysis. Finally, we ask you to begin building a corpus for preliminary analysis and articulate what your sample represents in context of your final project. "
   ]
  },
  {
   "cell_type": "markdown",
   "metadata": {},
   "source": [
    "We made a python package just for this course: lucem_illud. If you haven't installed this package, you should run the following code first. You don't need to install the package later; all you need to do is just to import the package with: import lucem_illud. For your final projects, you may find it useful to [read the lucem_illud source code](https://github.com/UChicago-Computational-Content-Analysis/lucem_illud/tree/main/lucem_illud) and modify your code for your own interests."
   ]
  },
  {
   "cell_type": "code",
   "execution_count": 43,
   "metadata": {},
   "outputs": [],
   "source": [
    "import pandas as pd\n",
    "#!pip install git+git://github\n",
    "# .com/UChicago-Computational-Content-Analysis/lucem_illud.git\n",
    "#installing lucem_illud package\n",
    "#lucem_illud is a Latin phrase meaning \"that light\", the insight we can discover in text data!\n",
    "#If you get an error like \"Access is denied\", try running the `pip` command on the command line as an administrator."
   ]
  },
  {
   "cell_type": "markdown",
   "metadata": {},
   "source": [
    "If you're not familiar with jupyter notebook, you may wonder what the exclamation mark(!) at the beginning of the command does (or even what pip means). The exclamation mark enables us to execute Terminal commands in the notebook cells (e.g., run `!ls` to display files in the current folder).\n",
    "\n",
    "For this notebook we will be using the following packages:"
   ]
  },
  {
   "cell_type": "code",
   "execution_count": 44,
   "metadata": {},
   "outputs": [],
   "source": [
    "#Special module written for this class\n",
    "#This provides access to data and to helper functions from previous weeks\n",
    "import lucem_illud #pip install git+git://github.com/UChicago-Computational-Content-Analysis/lucem_illud.git\n",
    "\n",
    "#All these packages need to be installed from pip\n",
    "import requests #for http requests\n",
    "import bs4 #called `beautifulsoup4`, an html parser\n",
    "import pandas #gives us DataFrames\n",
    "import docx #reading MS doc files, install as `python-docx`\n",
    "\n",
    "#Stuff for pdfs\n",
    "#Install as `pdfminer2`\n",
    "import pdfminer.pdfinterp\n",
    "import pdfminer.converter\n",
    "import pdfminer.layout\n",
    "import pdfminer.pdfpage\n",
    "\n",
    "#These come with Python\n",
    "import re #for regexs\n",
    "import urllib.parse #For joining urls\n",
    "import io #for making http requests look like files\n",
    "import json #For Tumblr API responses\n",
    "import os.path #For checking if files exist\n",
    "import os #For making directories"
   ]
  },
  {
   "cell_type": "markdown",
   "metadata": {},
   "source": [
    "We will also be working on the following files/urls"
   ]
  },
  {
   "cell_type": "code",
   "execution_count": 45,
   "metadata": {},
   "outputs": [],
   "source": [
    "wikipedia_base_url = 'https://en.wikipedia.org'\n",
    "wikipedia_content_analysis = 'https://en.wikipedia.org/wiki/Content_analysis'\n",
    "content_analysis_save = 'wikipedia_content_analysis.html'\n",
    "example_text_file = 'sometextfile.txt'\n",
    "information_extraction_pdf = 'https://github.com/Computational-Content-Analysis-2018/Data-Files/raw/master/1-intro/Content%20Analysis%2018.pdf'\n",
    "example_docx = 'https://github.com/Computational-Content-Analysis-2018/Data-Files/raw/master/1-intro/macs6000_connecting_to_midway.docx'\n",
    "example_docx_save = 'example.docx'"
   ]
  },
  {
   "cell_type": "markdown",
   "metadata": {},
   "source": [
    "# Scraping\n",
    "\n",
    "Before we can start analyzing content we need to obtain it. Sometimes it will be\n",
    "provided to us from a pre-curated text archive, but sometimes we will need to\n",
    "download it. As a starting example we will attempt to download the wikipedia\n",
    "page on content analysis. The page is located at [https://en.wikipedia.org/wiki/\n",
    "Content_analysis](https://en.wikipedia.org/wiki/Content_analysis) so lets start\n",
    "with that.\n",
    "\n",
    "We can do this by making an HTTP GET request to that url, a GET request is\n",
    "simply a request to the server to provide the contents given by some url. The\n",
    "other request we will be using in this class is called a POST request and\n",
    "requests the server to take some content we provide. While the Python standard\n",
    "library does have the ability do make GET requests we will be using the\n",
    "[_requests_](http://docs.python-requests.org/en/master/) package as it is _'the\n",
    "only Non-GMO HTTP library for Python'_...also it provides a nicer interface."
   ]
  },
  {
   "cell_type": "code",
   "execution_count": 46,
   "metadata": {},
   "outputs": [
    {
     "data": {
      "text/plain": "<Response [200]>"
     },
     "execution_count": 46,
     "metadata": {},
     "output_type": "execute_result"
    }
   ],
   "source": [
    "#wikipedia_content_analysis = 'https://en.wikipedia.org/wiki/Content_analysis'\n",
    "requests.get(wikipedia_content_analysis)"
   ]
  },
  {
   "cell_type": "markdown",
   "metadata": {},
   "source": [
    "`'Response [200]'` means the server responded with what we asked for. If you get\n",
    "another number (e.g. 404) it likely means there was some kind of error, these\n",
    "codes are called HTTP response codes and a list of them can be found\n",
    "[here](https://en.wikipedia.org/wiki/List_of_HTTP_status_codes). The response\n",
    "object contains all the data the server sent including the website's contents\n",
    "and the HTTP header. We are interested in the contents which we can access with\n",
    "the `.text` attribute."
   ]
  },
  {
   "cell_type": "code",
   "execution_count": 47,
   "metadata": {},
   "outputs": [
    {
     "name": "stdout",
     "output_type": "stream",
     "text": [
      "<!DOCTYPE html>\n",
      "<html class=\"client-nojs\" lang=\"en\" dir=\"ltr\">\n",
      "<head>\n",
      "<meta charset=\"UTF-8\"/>\n",
      "<title>Content analysis - Wikipedia</title>\n",
      "<script>document.documentElement.className=\"client-js\";RLCONF={\"wgBreakFrames\":false,\"wgSeparatorTransformTable\":[\"\",\"\"],\"wgDigitTransformTable\":[\"\",\"\"],\"wgDefaultDateFormat\":\"dmy\",\"wgMonthNames\":[\"\",\"January\",\"February\",\"March\",\"April\",\"May\",\"June\",\"July\",\"August\",\"September\",\"October\",\"November\",\"December\"],\"wgRequestId\":\"b9c8e081-21c4-4a67-9388-86a3e0c195e4\",\"wgCSPNonce\":false,\"wgCanonicalNamespace\":\"\",\"wgCanonicalSpecialPageName\":false,\"wgNamespaceNumber\":0,\"wgPageName\":\"Content_analysis\",\"wgTitle\":\"Content analysis\",\"wgCurRevisionId\":1065940520,\"wgRevisionId\":1065940520,\"wgArticleId\":473317,\"wgIsArticle\":true,\"wgIsRedirect\":false,\"wgAction\":\"view\",\"wgUserName\":null,\"wgUserGroups\":[\"*\"],\"wgCategories\":[\"Articles with short description\",\"Short description matches Wikidata\",\"Articles prone to spam from October 2017\",\"Articles with BNE identifiers\",\n"
     ]
    }
   ],
   "source": [
    "wikiContentRequest = requests.get(wikipedia_content_analysis)\n",
    "print(wikiContentRequest.text[:1000])"
   ]
  },
  {
   "cell_type": "markdown",
   "metadata": {},
   "source": [
    "This is not what we were looking for, because it is the start of the HTML that\n",
    "makes up the website. This is HTML and is meant to be read by computers. Luckily\n",
    "we have a computer to parse it for us. To do the parsing we will use [_Beautiful\n",
    "Soup_](https://www.crummy.com/software/BeautifulSoup/) which is a better parser\n",
    "than the one in the standard library."
   ]
  },
  {
   "cell_type": "markdown",
   "metadata": {},
   "source": [
    "But before we proceed to Beautiful Soup, a digression about Python syntax, especially about objects and functions.\n",
    "For those who are not familiar with the syntax of python (or, if you're familiar with R programming), you might wonder what requests.get or wikiContentRequest.text mean. To understand this, you need to first understand what objects are. You may have heard that Python is an object oriented programming language (unlike the procedure oriented programming language, an example of which is R). Object is a set of variables (or, data) and functions into which you pass your data. So, in object oriented programming languages, like python, variables and functions are bunleded into objects.\n",
    "\n",
    "For example, let's look at wikiContentRequest. We use dir() function, which returns the list of attributes and functions of objects."
   ]
  },
  {
   "cell_type": "code",
   "execution_count": 48,
   "metadata": {},
   "outputs": [
    {
     "data": {
      "text/plain": "['__attrs__',\n '__bool__',\n '__class__',\n '__delattr__',\n '__dict__',\n '__dir__',\n '__doc__',\n '__enter__',\n '__eq__',\n '__exit__',\n '__format__',\n '__ge__',\n '__getattribute__',\n '__getstate__',\n '__gt__',\n '__hash__',\n '__init__',\n '__init_subclass__',\n '__iter__',\n '__le__',\n '__lt__',\n '__module__',\n '__ne__',\n '__new__',\n '__nonzero__',\n '__reduce__',\n '__reduce_ex__',\n '__repr__',\n '__setattr__',\n '__setstate__',\n '__sizeof__',\n '__str__',\n '__subclasshook__',\n '__weakref__',\n '_content',\n '_content_consumed',\n '_next',\n 'apparent_encoding',\n 'close',\n 'connection',\n 'content',\n 'cookies',\n 'elapsed',\n 'encoding',\n 'headers',\n 'history',\n 'is_permanent_redirect',\n 'is_redirect',\n 'iter_content',\n 'iter_lines',\n 'json',\n 'links',\n 'next',\n 'ok',\n 'raise_for_status',\n 'raw',\n 'reason',\n 'request',\n 'status_code',\n 'text',\n 'url']"
     },
     "execution_count": 48,
     "metadata": {},
     "output_type": "execute_result"
    }
   ],
   "source": [
    " dir(wikiContentRequest)"
   ]
  },
  {
   "cell_type": "markdown",
   "metadata": {},
   "source": [
    "There's 'text' here. We used 'wikiContentRequest.text' to access 'text.' In other words, we use .(dot notation) to access functions from objects. wikiContentRequest has a set of functions, as shown above, and we used 'wikiContentRequest.text' to access one of them. By the way, dot notations do not necessarily refer to functions--it refers to anything that the entity contains. \n",
    "\n"
   ]
  },
  {
   "cell_type": "markdown",
   "metadata": {},
   "source": [
    "Moving on to the next step: BeautifulSoup, a Python library which extracts data from HTML and XML, and transforms HTML files into Python objects."
   ]
  },
  {
   "cell_type": "code",
   "execution_count": 49,
   "metadata": {},
   "outputs": [
    {
     "name": "stdout",
     "output_type": "stream",
     "text": [
      "\n",
      "\n",
      "\n",
      "\n",
      "Content analysis - Wikipedia\n",
      "\n",
      "\n",
      "\n",
      "\n",
      "\n",
      "\n",
      "\n",
      "\n",
      "\n",
      "\n",
      "\n",
      "\n",
      "\n",
      "\n",
      "\n",
      "\n",
      "\n",
      "\n",
      "\n",
      "\n",
      "\n",
      "\n",
      "\n",
      "\n",
      "\n",
      "\n",
      "\n",
      "\n",
      "\n",
      "\n",
      "\n",
      "\n",
      "\n",
      "\n",
      "\n",
      "\n",
      "\n",
      "\n",
      "\n",
      "\n",
      "\n",
      "Content analysis\n",
      "\n",
      "From Wikipedia, the free encyclopedia\n",
      "\n",
      "\n",
      "\n",
      "Jump to navigation\n",
      "Jump to search\n",
      "Research method for studying documents and communication artifacts\n",
      "Part of a series onSociology\n",
      "History\n",
      "Outline\n",
      "Index\n",
      "Key themes\n",
      "Society\n",
      "Globalization\n",
      "Human behavior\n",
      "Human environmental impact\n",
      "Identity\n",
      "Industrial revolutions 3 & 4\n",
      "So\n"
     ]
    }
   ],
   "source": [
    "wikiContentSoup = bs4.BeautifulSoup(wikiContentRequest.text, 'html.parser')\n",
    "print(wikiContentSoup.text[:400])"
   ]
  },
  {
   "cell_type": "markdown",
   "metadata": {},
   "source": [
    "This is better but there's still random whitespace and we have more than just\n",
    "the text of the article. This is because what we requested is the whole webpage,\n",
    "not just the text for the article.\n",
    "\n",
    "We want to extract only the text we care about, and in order to do this we will\n",
    "need to inspect the html. One way to do this is simply to go to the website with\n",
    "a browser and use its inspection or view source tool. If javascript or other\n",
    "dynamic loading occurs on the page, however, it is likely that what Python\n",
    "receives is not what you will see, so we will need to inspect what Python\n",
    "receives. To do this we can save the html `requests` obtained."
   ]
  },
  {
   "cell_type": "code",
   "execution_count": 50,
   "metadata": {},
   "outputs": [],
   "source": [
    "content_analysis_save = 'wikipedia_content_analysis.html'\n",
    "\n",
    "with open(content_analysis_save, mode='w', encoding='utf-8') as f:\n",
    "    f.write(wikiContentRequest.text)"
   ]
  },
  {
   "cell_type": "markdown",
   "metadata": {},
   "source": [
    "open() is a function which literally opens and returns the file. This function has multiple modes, and, here, we used mode as 'w', which means: open a file for writing. And then, we use 'write' function to write on the empty file (content_analysis_save) that we created using open(content_analysis_save, mode='w', encoding='utf-8').} What did we write on this file? The text we got from wikiContentRequest.text"
   ]
  },
  {
   "cell_type": "markdown",
   "metadata": {},
   "source": [
    "Now let's open the file (`wikipedia_content_analysis.html`) we just created with\n",
    "a web browser. It should look sort of like the original but without the images\n",
    "and formatting.\n",
    "\n",
    "As there is very little standardization on structuring webpages, figuring out\n",
    "how best to extract what you want is an art. Looking at this page it looks like\n",
    "all the main textual content is inside `<p>`(paragraph) tags within the `<body>`\n",
    "tag. "
   ]
  },
  {
   "cell_type": "code",
   "execution_count": 51,
   "metadata": {
    "scrolled": true
   },
   "outputs": [
    {
     "name": "stdout",
     "output_type": "stream",
     "text": [
      "South Asia \n",
      "\n",
      "Middle East\n",
      "\n",
      "Europe\n",
      "\n"
     ]
    }
   ],
   "source": [
    "contentPTags = wikiContentSoup.body.findAll('p')\n",
    "for pTag in contentPTags[:3]:\n",
    "    print(pTag.text)"
   ]
  },
  {
   "cell_type": "markdown",
   "metadata": {},
   "source": [
    "Another excursion for those who are not familiar with programming: for loop. For loop is used to iterate over a sequence. \"ContentPTags\" contains multiple paragraphs, each of which starts and ends with `<p>`. What the \"for pTag in contentPtags[:3]\" does here is: find each paragraph in contentPTags, which, here, we limited to the first three using contentPtags[:3], and then print each paragraph. So, we have three paragraphs. By the way, you can insert `<p>` in juputer notebook!"
   ]
  },
  {
   "cell_type": "markdown",
   "metadata": {},
   "source": [
    "We now have all the text from the page, split up by paragraph. If we wanted to\n",
    "get the section headers or references as well it would require a bit more work,\n",
    "but is doable.\n",
    "\n",
    "There is one more thing we might want to do before sending this text to be\n",
    "processed, remove the references indicators (`[2]`, `[3]` , etc). To do this we\n",
    "can use a short regular expression (regex)."
   ]
  },
  {
   "cell_type": "code",
   "execution_count": 52,
   "metadata": {},
   "outputs": [],
   "source": [
    "contentParagraphs = []\n",
    "contentParagraphs2 = []\n",
    "for pTag in contentPTags:\n",
    "    #strings starting with r are raw so their \\'s are not modifier characters\n",
    "    #If we didn't start with r the string would be: '\\\\[\\\\d+\\\\]'\n",
    "    contentParagraphs.append(re.sub(r'\\[\\d+\\]', '', pTag.text))\n",
    "    contentParagraphs2.append(pTag.text)\n",
    "#convert to a DataFrame\n",
    "contentParagraphsDF = pandas.DataFrame({'paragraph-text' : contentParagraphs})\n",
    "# print(contentParagraphsDF)"
   ]
  },
  {
   "cell_type": "markdown",
   "metadata": {},
   "source": [
    "Since we learned how to do for loop, you might get what we did here: using contentParagraphs = [], we made an empty list; and then, for each paragraph in contentPTags, we substituted every [\\d+\\] with '', i.e., removed every [\\d+\\], and then appended each paragraph (now without [\\d+\\]) to the empty list. As we can see, we have a dataframe, each row of which is each paragraph of contentPTags, without reference indicators. \n",
    "\n",
    "By the way, what does [\\d+\\] mean? If you are not familiar with regex, it is a way of specifying searches in text.\n",
    "A regex engine takes in the search pattern, in the above case `'\\[\\d+\\]'` and\n",
    "some string, the paragraph texts. Then it reads the input string one character\n",
    "at a time checking if it matches the search. Here the regex `'\\d'` matches\n",
    "number characters (while `'\\['` and `'\\]'` capture the braces on either side)."
   ]
  },
  {
   "cell_type": "markdown",
   "metadata": {},
   "source": [
    "Now we have a `DataFrame` containing all relevant text from the page ready to be processed"
   ]
  },
  {
   "cell_type": "code",
   "execution_count": 53,
   "metadata": {},
   "outputs": [
    {
     "data": {
      "text/plain": "<re.Match object; span=(36, 37), match='2'>"
     },
     "execution_count": 53,
     "metadata": {},
     "output_type": "execute_result"
    }
   ],
   "source": [
    "findNumber = r'\\d'\n",
    "regexResults = re.search(findNumber, 'not a number, not a number, numbers 2134567890, not a number')\n",
    "regexResults"
   ]
  },
  {
   "cell_type": "markdown",
   "metadata": {},
   "source": [
    "In Python the regex package (`re`) usually returns `Match` objects (you can have\n",
    "multiple pattern hits in a a single `Match`), to get the string that matched our\n",
    "pattern we can use the `.group()` method, and as we want the first one we will\n",
    "ask for the 0'th group."
   ]
  },
  {
   "cell_type": "code",
   "execution_count": 54,
   "metadata": {},
   "outputs": [
    {
     "name": "stdout",
     "output_type": "stream",
     "text": [
      "2\n"
     ]
    }
   ],
   "source": [
    "print(regexResults.group(0))"
   ]
  },
  {
   "cell_type": "markdown",
   "metadata": {},
   "source": [
    "That gives us the first number, if we wanted the whole block of numbers we can\n",
    "add a wildcard `'+'` which requests 1 or more instances of the preceding\n",
    "character."
   ]
  },
  {
   "cell_type": "code",
   "execution_count": 55,
   "metadata": {},
   "outputs": [
    {
     "name": "stdout",
     "output_type": "stream",
     "text": [
      "2134567890\n"
     ]
    }
   ],
   "source": [
    "findNumbers = r'\\d+'\n",
    "regexResults = re.search(findNumbers, 'not a number, not a number, numbers 2134567890, not a number')\n",
    "print(regexResults.group(0))"
   ]
  },
  {
   "cell_type": "markdown",
   "metadata": {},
   "source": [
    "Now we have the whole block of numbers, there are a huge number of special\n",
    "characters in regex, for the full description of Python's implementation look at\n",
    "the [re docs](https://docs.python.org/3/library/re.html) there is also a short\n",
    "[tutorial](https://docs.python.org/3/howto/regex.html#regex-howto)."
   ]
  },
  {
   "cell_type": "markdown",
   "metadata": {},
   "source": [
    "# <font color=\"red\">Exercise 1</font>\n",
    "<font color=\"red\">Construct cells immediately below this that describe and download webcontent relating to your anticipated final project. Use beautiful soup and at least five regular expressions to extract relevant, nontrivial *chunks* of that content (e.g., cleaned sentences, paragraphs, etc.) to a pandas `Dataframe`.</font>"
   ]
  },
  {
   "cell_type": "code",
   "execution_count": 56,
   "outputs": [
    {
     "name": "stdout",
     "output_type": "stream",
     "text": [
      "\n",
      "\n",
      "\n",
      "\n",
      "\n",
      "                        \n",
      "\n",
      "\n",
      "\n",
      "\n",
      "\n",
      "\n",
      "Politics - Latest News\n",
      "\n",
      "\n",
      "\n",
      "\n",
      "\n",
      "\n",
      "\n",
      "\n",
      "\n",
      "\n",
      "\n",
      "\n",
      "\n",
      "\n",
      "\n",
      "\n",
      "\n",
      "\n",
      "\n",
      "\n",
      "\n",
      "\n",
      "\n",
      "\n",
      "\n",
      "\n",
      "\n",
      "\n",
      "\n",
      "\n",
      "\n",
      "\n",
      "  Enable AccessibilitySkip to Content  \n",
      "\n",
      "\n",
      "\n",
      "\n",
      "\n",
      "\n",
      "\n",
      "\n",
      "   PoliticsEntertainmentMediaEconomyWorldLondon / EuropeBorder / Cartel ChroniclesIsrael / Middle EastAfricaAsiaLatin AmericaAll WorldVideoTechSportsOn the HillOn the Hill ArticlesOn The Hill Exclusive VideoWiresB Inspired    BREITBART    PoliticsEntertainmentMediaEconomyWorldLondon / EuropeBorder / Cartel ChroniclesIsrael / Middle EastAfricaAsiaLatin AmericaWorld NewsVideoTechSportsOn the HillOn the Hill ArticlesOn The Hill Exclusive VideoWiresPodcastsBreitbart News DailyB InspiredAbout UsPeopleNewsletters  \n",
      "BREITBART\n",
      " COVID-1984bidenflationFilibuster fightDem Cities LawlessMasters of the UniverseChina Threat \n",
      "\n",
      "\n",
      "\n",
      "\n",
      "\n",
      "PoliticsBiden’s First Year: 45K Illegal Aliens Flown into U.S., Many Using Arrest Warrants as ID to Bypass TSA RulesPresident Joe Biden oversaw the flight transportation of nearly 45,000 border crossers and illegal aliens in the first 10 months of his administration, new data reveals, allowing them to bypass photo identification requirements before boarding. John Binder19 Jan 2022, 2:19 PM PSTGOP Rep. Brooks: ‘If You Oppose Slavery, You Should Not Be Chumming up to Communist China’Wednesday, during an appearance on FBN’s “Cavuto: Coast to Coast,” Rep. Mo Brooks (R-AL) called for companies that do business with China to be held accountable.Jeff Poor19 Jan 2022, 2:10 PM PSTBiden Gives Up on Stopping Putin in Ukraine: ‘He Will Move In, He Has to Do Something’President Joe Biden appeared to give up the idea of stopping Russian President Vladimir Putin from invading Ukraine, telling reporters at a press conference Wednesday that “he will move in, he has to do something.”Joel B. Pollak19 Jan 2022, 2:02 PM PSTGallup Poll: Biden Marks Year One with Lowest Job Approval to Date, Extreme PolarizationPresident Joe Biden ended his first year in office with his lowest approval rating to date and extreme polarization, a Wednesday Gallup poll revealed.Wendell Husebø19 Jan 2022, 1:39 PM PST\n",
      "\n",
      "Poll: Joe Biden’s Job Approval Crashes to 34 PercentOnly 34 percent of respondents approved of President Joe Biden’s job performance, hitting a new low after roughly one year in office, according to the CIVIQS rolling job approval average.Jacob Bliss19 Jan 2022, 1:26 PM PSTCaitlyn Jenner: Biological Boys ‘Should Not Be Playing in Women’s Sports’Olympic gold medalist Caitlyn Jenner on Wednesday argued against allowing biological males from competing in sports solely for biological females.Trent Baker19 Jan 2022, 1:18 PM PSTAmbassador Friedman: After One Year of Biden, U.S. Foreign Policy Is Adrift Far worse than advancing bad policies, the Biden administration is acting with breathtaking incompetence in a manner that has infected the entirety of United States diplomacy.Ambassador David M. Friedman19 Jan 2022, 1:10 PM PSTWatch Live: Joe Biden Holds Rare Solo Press Conference at the White HousePresident Joe Biden will host a press conference on Wednesday, likely taking questions from a list of preselected reporters picked by his staff.Charlie Spiering19 Jan 2022, 1:05 PM PST\n",
      "\n",
      "GOP Sen. Portman Warns Putin: ‘The United States Unequivocally Stands’ with UkraineWednesday on Fox News Channel’s “America’s Newsroom,” Sen. Rob Portman (R-OH) issued a warning to Russian President Vladimir Putin regarding the growing tension with Ukraine.Trent Baker19 Jan 2022, 12:55 PM PSTFauci Says the World Is Still in the First Stage of the Chinese Coronavirus PandemicThe world is still only in the first phase of the Chinese coronavirus pandemic, Dr. Anthony Fauci said during a virtual appearance at the World Economic Forum’s Davos Agenda conference this week.Hannah Bleau19 Jan 2022, 12:46 PM PSTPoll: 60% Deem Joe Biden’s First Year in Office ‘Unsuccessful’Most Americans rate President Joe Biden’s first year in office “unsuccessful,” a Rasmussen Reports survey released Wednesday revealed.Hannah Bleau19 Jan 2022, 12:35 PM PSTTulsi Gabbard: FBI Should Focus on Actual Threats like Jihadist Hostage Taker Instead of WokenessFormer Rep. Tulsi Gabbard (D-HI) chided the Federal Bureau of Investigations (FBI) in a tweet Wednesday, saying they should focus on “actual threats” like the Jihadist who took hostages at the Texas synagogue instead of targeting parents at school board meetings.Kristina Wong19 Jan 2022, 12:26 PM PST\n",
      "Starbucks Scraps Coronavirus Vaccine, Test Requirements for American EmployeesThe Starbucks Corporation has scrapped its coronavirus vaccine-or-test requirement for employees in the United States after the Supreme Court ruled against the Biden administration’s mandate. Joshua Caplan19 Jan 2022, 12:19 PM PSTJack Posobiec: We Need Conservatives in Politics Who ‘Understand What Point in the Movie We are in’Jack Posobiec told Breitbart News that it is essential that Republican lawmakers have conservative staffers who “understand what point in the movie we are in,” stressing that “personnel is policy.”Alana Mastrangelo19 Jan 2022, 11:52 AM PSTAbortion Industry Threatens to Cut Off Sen. Kyrsten Sinema for Refusal to Support Change in Filibuster RuleA desperate abortion industry is now threatening Sen. Kyrsten Sinema (D-AZ) for her refusal to support the Senate Democrats’ attempt at a federal takeover of elections through an effort to break the filibuster rule.Dr. Susan Berry19 Jan 2022, 11:39 AM PSTAustralian Government Support Crashes amid Djokovic FiascoThe first major national political poll of 2022 revealed a significant drop in support for Australia’s ruling party coalition and a slight lead for the opposition Labor Party on Tuesday, a trend that could doom Prime Minister Scott Morrison’s re-election prospects.Frances Martel19 Jan 2022, 11:19 AM PST\n",
      "National Border Patrol Council Endorses Rep. Henry Cuellar’s GOP Opponent After Backing Cuellar in 2020The National Border Patrol Council (NBPC) endorsed Rep. Henry Cuellar’s (D-TX) Republican opponent, Casandra “Cassy” Garcia, after supporting the Democrat in the 2020 election.Jacob Bliss19 Jan 2022, 10:57 AM PSTPoll: Majority of Americans Say U.S. Is ‘More Divided’ One Year into Biden’s PresidencyMost Americans say the United States is “more divided” one year into President Biden’s presidency, a Rasmussen Reports survey released Wednesday found. Hannah Bleau19 Jan 2022, 10:48 AM PSTExclusive — Watch: FL Dem Gov Hopeful Crist Likens DeSantis to ‘Castro or Maduro’; Ignores Question About Fried’s Hitler ComparisonDuring a Zoom call hosted by the Okaloosa County, FL Democrats on Tuesday, Crist responded to a question from group vice chairman Davey Jones referencing his Democrat opponent’s comments about DeSantis and his push to establish a state-controlled militia.Jeff Poor19 Jan 2022, 10:43 AM PSTSTUDY: ESPN Has Yet to Mention NBA Owner Who Said ‘Nobody Cares’ About UyghursPurported sports cable network ESPN completely ignored the story of Warriors Co-Owner Chamath Palihapitiya, who dismissed Chinese genocide.Warner Todd Huston19 Jan 2022, 10:39 AM PSTBreitbart News Daily Podcast Ep. 54: Dem Infighting and Failure Presents the GOP an Opportunity; Guest: Rep. Michael WaltzOur guest Rep. Michael Waltz (R-FL) discusses China’s Genocide Games and the opportunity the GOP has to win this year’s midterms as the left’s policies continue to fail and Democrat infighting escalates.Breitbart News19 Jan 2022, 10:19 AM PSTMike Lee: Democrats ‘Beating Up on Manchin and Sinema’ Because ‘They’re Desperate’Wednesday on Fox News Channel’s “America’s Newsroom,” Sen. Mike Lee (R-UT) sounded off about the Democrats’ push to end the Senate filibuster and pass voting rights legislation.Trent Baker19 Jan 2022, 10:10 AM PSTTesla Driver Charged with First-Ever ‘Autopilot’  Felony After 2019 CrashFor the first time ever, California prosecutors have filed felony charges against a driver who caused a crash that killed two people in 2019 while using Tesla’s “Autopilot” feature.Lucas Nolan19 Jan 2022, 9:59 AM PSTTexas Army National Guardsman Fires Upon Smuggler’s Vehicle near BorderA Texas Army National Guardsman fired upon a human smuggler’s vehicle with his M-4 rifle after the suspect reportedly accelerated toward a fellow soldier. The Chrysler 300 was observed picking up six migrants south of Laredo on Tuesday.Randy Clark19 Jan 2022, 9:56 AM PSTPoll: GOP Leads Democrats by Double Digits on Economy, National Security, JobsThe Republican Party leads Democrats by double-digits on the economy, national security, and jobs creation, a Wednesday Politico/Morning Consult poll revealed.Wendell Husebø19 Jan 2022, 9:55 AM PSTItaly Once Again Implements Further COVID “Green Pass” RulesItaly will once again expand its list of active COVID restrictions, with the next set of measures slated to come into force on Thursday.Peter Caddle19 Jan 2022, 9:53 AM PSTDemocrat Mark Kelly Backs Breaking Filibuster to Pass Voting Rights ReformSen. Mark Kelly (D-AZ) said in a statement on Wednesday that he would support changes to break the filibuster to pass two voting rights reform bills.Sean Moran19 Jan 2022, 9:50 AM PSTSnapchat Claims It Is Making It Harder for Drug Dealers to Find Your KidsSnapchat, the social media platform particularly popular with teens, has claimed that it is working to make it tougher for drug dealers to connect with children on its platform. The parent of one teen who overdosed on fentanyl-laced pills he bought from a dealer on Snapchat said in response: “What I find with Snap Inc. is that they publicize one Band-Aid after another, but at the end of the day, you can still go online and get drugs in seconds.”Lucas Nolan19 Jan 2022, 9:50 AM PSTPoll: Majority Believe Joe Biden Incapable of Leading the CountryA majority of respondents to a Wednesday Politico/Morning Consult poll said they believe President Joe Biden was incapable of leading the country.Wendell Husebø19 Jan 2022, 9:48 AM PSTApple, Google Tell Senators that Antitrust Bills Will ‘Harm Privacy’Apple and Google recently warned U.S. lawmakers that bipartisan antitrust legislation that aims to curb the power of the Masters of the Universe could threaten user privacy and security.Lucas Nolan19 Jan 2022, 9:43 AM PSTOregon Officials Float Making Indoor Mask Mandate PermanentOregon’s health officials are considering making the indoor mask mandate permanent, which requires everyone age five and older to wear a mask in indoor public spaces.Hannah Bleau19 Jan 2022, 9:42 AM PSTKari Lake: As Governor I’ll Issue a ‘Declaration of Invasion’ and Close the BorderBreitbart News sat down with Arizona gubernatorial hopeful Kari Lake during Turning Point USA’s Americafest. She said she will issue a “Declaration of Invasion” on day one in office in order to begin closing the Arizona/Mexico border.AWR Hawkins19 Jan 2022, 9:37 AM PSTScottish ‘Succession’ Star Brian Cox Disappointed in America for Electing Trump: ‘Disappointment in the Human Experiment’Brian Cox, the star of the hit HBO series Succession, has insulted supporters of former President Donald Trump, saying he feels “disappointment” in mankind after four years of the Trump administration.David Ng19 Jan 2022, 9:36 AM PSTNolte: Texas Rabbi’s Account of Hostage Escape Contradicts FBI SpinWe were told the FBI saved three hostages in a Texas synagogue. That appears to be yet another FBI lie. John Nolte19 Jan 2022, 9:26 AM PSTBiden Administration to Distribute 400 Million N95 MasksThe Biden administration plans to make 400 million N95 masks available to Americans for free, a White House official told CNN.Hannah Bleau19 Jan 2022, 9:26 AM PSTVP Kamala Harris Claims Attending Honduran President Inauguration Will Deter Illegal ImmigrationVice President Kamala Harris and the left-wing media are promoting the idea that a trip to attend the inauguration of Honduras President-Elect Xiomara Castro is part of “efforts to deter migration.”Penny Starr19 Jan 2022, 9:19 AM PSTIsraeli Vax Creator Slams ‘Pathetic’ Award to Pfizer Head over ‘Mediocre’ VaccineThe former head developer of Israel’s coronavirus vaccine has slammed the “pathetic” decision to award the prestigious $1 million Genesis Prize to Pfizer CEO Albert Bourla, claiming the vaccine was “mediocre.”Deborah Brand19 Jan 2022, 9:16 AM PSTRepublicans in Congress Praise ‘Parent Revolution’ Fighting Back Against School MandatesRepublican leaders and concerned parents spoke Tuesday about issues, such as remote learning and forced masking of children, that they believe are becoming increasingly detrimental to students’ academic development and mental health.Ashley Oliver19 Jan 2022, 8:52 AM PSTHoward Stern: Hospitals Should Refuse to Treat Unvaccinated — ‘Go Home and Die’Radio personality Howard Stern said Wednesday on his Sirius XM show “The Howard Stern Show” that the unvaccinated who get infected with COVID-19 would be refused service from hospitals.Pam Key19 Jan 2022, 8:37 AM PSTNolte: Joe Biden’s Job Approval Falls to Record Low in RCP Poll AverageHis Frauduelency Joe Biden’s job approval rating crashed to a record low Wednesday in the RealClearPolitics poll of polls.John Nolte19 Jan 2022, 8:35 AM PST \n",
      "\n",
      " \n",
      "SOCIAL        \n",
      "MOST POPULARSharpton: Black People Behind Trump Were Props So He Can Sell RacismReport Undermines NPR's SCOTUS Mask Drama StoryTexas Army National Guardsman Fires Upon Smuggler’s VehicleEstablishment Media to Ask Biden Serious Questions at Year-One PresserWatch Live: Joe Biden Holds Rare Solo Press ConferenceStern: Hospitals Should Refuse to Treat Unvaccinated, Go Home and DieEXCLUSIVE: West Texas Border Sector Now Epicenter of Migrant CrisisMark Kelly Backs Breaking Filibuster to Pass Voting Rights ReformAs U.S. Athletes Face Mounting Dangers in Beijing, Blinken Is in KyivPoll: Majority Believe Joe Biden Incapable of Leading the Country\n",
      "\n",
      " FROM THE HOMEPAGEEXCLUSIVE: West Texas Border Sector Now Epicenter of Migrant Crisis4400 Migrants Apprehended over Weekend in One West Texas Border SectorWatch Live: Joe Biden Holds Rare Solo Press Conference at the White HousePoll: 60% Deem Joe Biden’s First Year in Office ‘Unsuccessful’Poll: Majority of Americans Say U.S. Is ‘More Divided’ One Year into Biden’s PresidencyExclusive — Watch: FL Dem Gov Hopeful Crist Likens DeSantis to ‘Castro or Maduro’; Ignores Question About Fried’s Hitler ComparisonTulsi Gabbard: FBI Should Focus on Actual Threats like Jihadist Hostage Taker Instead of WokenessAbortion Industry Threatens to Cut Off Sen. Kyrsten Sinema for Refusal to Support Change in Filibuster RuleNational Border Patrol Council Endorses Rep. Henry Cuellar’s GOP Opponent After Backing Cuellar in 2020Sinaloa Cartel Commander Arrested in Mexican State Bordering TexasSTUDY: ESPN Has Yet to Mention NBA Owner Who Said ‘Nobody Cares’ About UyghursAustralian Government Support Crashes amid Djokovic FiascoChina Allow Mass Exodus from Beijing amid Coronavirus Spike  \n",
      "\n",
      "\n",
      "\n",
      "\n",
      "\n",
      "  BREITBART NEWS MastheadAbout UsAccessibilityPolicy InfoTerms of UsePrivacy PolicyAdvertiseContact UsCareersStoreGet the AppNewslettersSend A TipSitemap          Copyright © 2022 Breitbart\n",
      "\n",
      "\n",
      "\n",
      "\n",
      "\n",
      " \n",
      "\n",
      "\n"
     ]
    }
   ],
   "source": [
    "content_request = requests.get(\"https://www.breitbart.com/politics/\")\n",
    "bb_content_soup = bs4.BeautifulSoup(content_request.text, \"html.parser\")\n",
    "print(bb_content_soup.text)"
   ],
   "metadata": {
    "collapsed": false,
    "pycharm": {
     "name": "#%%\n"
    }
   }
  },
  {
   "cell_type": "markdown",
   "source": [
    "sd,fjbsd,bsd,mfb"
   ],
   "metadata": {
    "collapsed": false
   }
  },
  {
   "cell_type": "code",
   "execution_count": 57,
   "outputs": [
    {
     "name": "stdout",
     "output_type": "stream",
     "text": [
      "                                          refer_fail\n",
      "0  Our guest Rep. Michael Waltz (R-FL) discusses ...\n",
      "                                         refer_money\n",
      "0  The former head developer of Israel’s coronavi...\n",
      "                                          refer_year\n",
      "0  The first major national political poll of 202...\n",
      "1  The National Border Patrol Council (NBPC) endo...\n",
      "2                         Copyright © 2022 Breitbart\n",
      "                                          refer_dems\n",
      "0  The world is still only in the first phase of ...\n",
      "1  A desperate abortion industry is now threateni...\n",
      "2  The National Border Patrol Council (NBPC) endo...\n",
      "3  During a Zoom call hosted by the Okaloosa Coun...\n",
      "4  Our guest Rep. Michael Waltz (R-FL) discusses ...\n",
      "5  Wednesday on Fox News Channel’s “America’s New...\n",
      "6  The Republican Party leads Democrats by double...\n",
      "7  Republican leaders and concerned parents spoke...\n",
      "                                        refer_repubs\n",
      "0  Jack Posobiec told Breitbart News that it is e...\n",
      "1  The National Border Patrol Council (NBPC) endo...\n",
      "2  The Republican Party leads Democrats by double...\n",
      "3  Republican leaders and concerned parents spoke...\n"
     ]
    }
   ],
   "source": [
    "refer_fail = []\n",
    "refer_money = []\n",
    "refer_year = []\n",
    "refer_dems = []\n",
    "refer_repubs = []\n",
    "\n",
    "for pTag in bb_content_soup.body.findAll('p'):\n",
    "    if re.search(r\".*fail.*\", pTag.text.lower()):\n",
    "      refer_fail.append(pTag.text)\n",
    "    if re.search(r\".*202\\d.*\", pTag.text.lower()):\n",
    "        refer_year.append(pTag.text)\n",
    "    if re.search(r\".*\\$\\d+.*\", pTag.text.lower()):\n",
    "       refer_money.append(pTag.text)\n",
    "    if re.search(r\".*dem.*\", pTag.text.lower()):\n",
    "        refer_dems.append(pTag.text)\n",
    "    if re.search(r\".*repub.*\", pTag.text.lower()):\n",
    "        refer_repubs.append(pTag.text)\n",
    "\n",
    "bb_df_fail = pandas.DataFrame({'refer_fail': refer_fail})\n",
    "bb_df_money = pandas.DataFrame({'refer_money': refer_money})\n",
    "bb_df_year = pandas.DataFrame({'refer_year': refer_year})\n",
    "bb_df_dems = pandas.DataFrame({'refer_dems': refer_dems})\n",
    "bb_df_repubs = pandas.DataFrame({'refer_repubs': refer_repubs})\n",
    "\n",
    "print(bb_df_fail)\n",
    "print(bb_df_money)\n",
    "print(bb_df_year)\n",
    "print(bb_df_dems)\n",
    "print(bb_df_repubs)\n"
   ],
   "metadata": {
    "collapsed": false,
    "pycharm": {
     "name": "#%%\n"
    }
   }
  },
  {
   "cell_type": "markdown",
   "metadata": {},
   "source": [
    "\n",
    "# Spidering\n",
    "\n",
    "What if we want to to get a bunch of different pages from wikipedia. We would\n",
    "need to get the url for each of the pages we want. Typically, we want pages that\n",
    "are linked to by other pages and so we will need to parse pages and identify the\n",
    "links. Right now we will be retrieving all links in the body of the content\n",
    "analysis page.\n",
    "\n",
    "To do this we will need to find all the `<a>` (anchor) tags with `href`s\n",
    "(hyperlink references) inside of `<p>` tags. `href` can have many\n",
    "[different](http://stackoverflow.com/questions/4855168/what-is-href-and-why-is-\n",
    "it-used) [forms](https://en.wikipedia.org/wiki/Hyperlink#Hyperlinks_in_HTML) so\n",
    "dealing with them can be tricky, but generally, you will want to extract\n",
    "absolute or relative links. An absolute link is one you can follow without\n",
    "modification, while a relative link requires a base url that you will then\n",
    "append. Wikipedia uses relative urls for its internal links: below is an example\n",
    "for dealing with them."
   ]
  },
  {
   "cell_type": "code",
   "execution_count": 58,
   "outputs": [
    {
     "data": {
      "text/plain": "[<p>President Joe Biden oversaw the flight transportation of nearly 45,000 border crossers and illegal aliens in the first 10 months of his administration, new data reveals, allowing them to bypass photo identification requirements before boarding. </p>,\n <p>Wednesday, during an appearance on FBN’s “Cavuto: Coast to Coast,” Rep. Mo Brooks (R-AL) called for companies that do business with China to be held accountable.</p>,\n <p>President Joe Biden appeared to give up the idea of stopping Russian President Vladimir Putin from invading Ukraine, telling reporters at a press conference Wednesday that “he will move in, he has to do something.”</p>,\n <p>President Joe Biden ended his first year in office with his lowest approval rating to date and extreme polarization, a Wednesday Gallup poll revealed.</p>,\n <p>Only 34 percent of respondents approved of President Joe Biden’s job performance, hitting a new low after roughly one year in office, according to the CIVIQS rolling job approval average.</p>,\n <p>Olympic gold medalist Caitlyn Jenner on Wednesday argued against allowing biological males from competing in sports solely for biological females.</p>,\n <p> Far worse than advancing bad policies, the Biden administration is acting with breathtaking incompetence in a manner that has infected the entirety of United States diplomacy.</p>,\n <p>President Joe Biden will host a press conference on Wednesday, likely taking questions from a list of preselected reporters picked by his staff.</p>,\n <p>Wednesday on Fox News Channel’s “America’s Newsroom,” Sen. Rob Portman (R-OH) issued a warning to Russian President Vladimir Putin regarding the growing tension with Ukraine.</p>,\n <p>The world is still only in the first phase of the Chinese coronavirus pandemic, Dr. Anthony Fauci said during a virtual appearance at the World Economic Forum’s Davos Agenda conference this week.</p>,\n <p>Most Americans rate President Joe Biden’s first year in office “unsuccessful,” a Rasmussen Reports survey released Wednesday revealed.</p>,\n <p>Former Rep. Tulsi Gabbard (D-HI) chided the Federal Bureau of Investigations (FBI) in a tweet Wednesday, saying they should focus on “actual threats” like the Jihadist who took hostages at the Texas synagogue instead of targeting parents at school board meetings.</p>,\n <p>The Starbucks Corporation has scrapped its coronavirus vaccine-or-test requirement for employees in the United States after the Supreme Court ruled against the Biden administration’s mandate. </p>,\n <p>Jack Posobiec told Breitbart News that it is essential that Republican lawmakers have conservative staffers who “understand what point in the movie we are in,” stressing that “personnel is policy.”</p>,\n <p>A desperate abortion industry is now threatening Sen. Kyrsten Sinema (D-AZ) for her refusal to support the Senate Democrats’ attempt at a federal takeover of elections through an effort to break the filibuster rule.</p>,\n <p>The first major national political poll of 2022 revealed a significant drop in support for Australia’s ruling party coalition and a slight lead for the opposition Labor Party on Tuesday, a trend that could doom Prime Minister Scott Morrison’s re-election prospects.</p>,\n <p>The National Border Patrol Council (NBPC) endorsed Rep. Henry Cuellar’s (D-TX) Republican opponent, Casandra “Cassy” Garcia, after supporting the Democrat in the 2020 election.</p>,\n <p>Most Americans say the United States is “more divided” one year into President Biden’s presidency, a Rasmussen Reports survey released Wednesday found. </p>,\n <p>During a Zoom call hosted by the Okaloosa County, FL Democrats on Tuesday, Crist responded to a question from group vice chairman Davey Jones referencing his Democrat opponent’s comments about DeSantis and his push to establish a state-controlled militia.</p>,\n <p>Purported sports cable network ESPN completely ignored the story of Warriors Co-Owner Chamath Palihapitiya, who dismissed Chinese genocide.</p>,\n <p>Our guest Rep. Michael Waltz (R-FL) discusses China’s Genocide Games and the opportunity the GOP has to win this year’s midterms as the left’s policies continue to fail and Democrat infighting escalates.</p>,\n <p>Wednesday on Fox News Channel’s “America’s Newsroom,” Sen. Mike Lee (R-UT) sounded off about the Democrats’ push to end the Senate filibuster and pass voting rights legislation.</p>,\n <p>For the first time ever, California prosecutors have filed felony charges against a driver who caused a crash that killed two people in 2019 while using Tesla’s “Autopilot” feature.</p>,\n <p>A Texas Army National Guardsman fired upon a human smuggler’s vehicle with his M-4 rifle after the suspect reportedly accelerated toward a fellow soldier. The Chrysler 300 was observed picking up six migrants south of Laredo on Tuesday.</p>,\n <p>The Republican Party leads Democrats by double-digits on the economy, national security, and jobs creation, a Wednesday Politico/Morning Consult poll revealed.</p>,\n <p>Italy will once again expand its list of active COVID restrictions, with the next set of measures slated to come into force on Thursday.</p>,\n <p>Sen. Mark Kelly (D-AZ) said in a statement on Wednesday that he would support changes to break the filibuster to pass two voting rights reform bills.</p>,\n <p>Snapchat, the social media platform particularly popular with teens, has claimed that it is working to make it tougher for drug dealers to connect with children on its platform. The parent of one teen who overdosed on fentanyl-laced pills he bought from a dealer on Snapchat said in response: “What I find with Snap Inc. is that they publicize one Band-Aid after another, but at the end of the day, you can still go online and get drugs in seconds.”</p>,\n <p>A majority of respondents to a Wednesday Politico/Morning Consult poll said they believe President Joe Biden was incapable of leading the country.</p>,\n <p>Apple and Google recently warned U.S. lawmakers that bipartisan antitrust legislation that aims to curb the power of the Masters of the Universe could threaten user privacy and security.</p>,\n <p>Oregon’s health officials are considering making the indoor mask mandate permanent, which requires everyone age five and older to wear a mask in indoor public spaces.</p>,\n <p>Breitbart News sat down with Arizona gubernatorial hopeful Kari Lake during Turning Point USA’s Americafest. She said she will issue a “Declaration of Invasion” on day one in office in order to begin closing the Arizona/Mexico border.</p>,\n <p>Brian Cox, the star of the hit HBO series Succession, has insulted supporters of former President Donald Trump, saying he feels “disappointment” in mankind after four years of the Trump administration.</p>,\n <p>We were told the FBI saved three hostages in a Texas synagogue. That appears to be yet another FBI lie. </p>,\n <p>The Biden administration plans to make 400 million N95 masks available to Americans for free, a White House official told CNN.</p>,\n <p>Vice President Kamala Harris and the left-wing media are promoting the idea that a trip to attend the inauguration of Honduras President-Elect Xiomara Castro is part of “efforts to deter migration.”</p>,\n <p>The former head developer of Israel’s coronavirus vaccine has slammed the “pathetic” decision to award the prestigious $1 million Genesis Prize to Pfizer CEO Albert Bourla, claiming the vaccine was “mediocre.”</p>,\n <p>Republican leaders and concerned parents spoke Tuesday about issues, such as remote learning and forced masking of children, that they believe are becoming increasingly detrimental to students’ academic development and mental health.</p>,\n <p>Radio personality Howard Stern said Wednesday on his Sirius XM show “The Howard Stern Show” that the unvaccinated who get infected with COVID-19 would be refused service from hospitals.</p>,\n <p>His Frauduelency Joe Biden’s job approval rating crashed to a record low Wednesday in the RealClearPolitics poll of polls.</p>,\n <p> <a class=\"fb\" href=\"https://www.facebook.com/Breitbart\" title=\"Breitbart on Facebook\"></a> <a class=\"tw\" href=\"https://twitter.com/BreitbartNews\" title=\"Breitbart on Twitter\"></a> <a class=\"yt\" href=\"https://www.youtube.com/channel/UCmgnsaQIK1IR808Ebde-ssA\" title=\"Breitbart on YouTube\"></a> <a class=\"ig\" href=\"https://www.instagram.com/wearebreitbart/\" title=\"Breitbart on Instagram\"></a> <a class=\"parler\" href=\"https://parler.com/profile/BreitbartNews\" title=\"Breitbart on Parler\"></a> <a class=\"rss\" href=\"https://feeds.feedburner.com/breitbart\" title=\"Breitbart RSS\"></a> </p>,\n <p><small>Copyright © 2022 Breitbart</small></p>]"
     },
     "execution_count": 58,
     "metadata": {},
     "output_type": "execute_result"
    }
   ],
   "source": [
    "bb_content_soup.body.findAll('p')"
   ],
   "metadata": {
    "collapsed": false,
    "pycharm": {
     "name": "#%%\n"
    }
   }
  },
  {
   "cell_type": "code",
   "execution_count": 59,
   "metadata": {},
   "outputs": [
    {
     "name": "stdout",
     "output_type": "stream",
     "text": [
      "[('https://en.wikipedia.org/wiki/Document', 4, 'documents'), ('https://en.wikipedia.org/wiki/Text_(literary_theory)', 5, 'texts'), ('https://en.wikipedia.org/wiki/Coding_(social_sciences)', 5, 'assigned labels (sometimes called codes)'), ('https://en.wikipedia.org/wiki/Semantics', 5, 'meaningful'), ('https://en.wikipedia.org/wiki/Text_(literary_theory)', 5, 'texts'), ('https://en.wikipedia.org/wiki/Quantitative_research', 5, 'quantitatively'), ('https://en.wikipedia.org/wiki/Statistics', 5, 'statistical methods'), ('https://en.wikipedia.org/wiki/Qualitative_research', 5, 'qualitative'), ('https://en.wikipedia.org/wiki/Text_(literary_theory)', 5, 'texts'), ('https://en.wikipedia.org/wiki/Machine_learning', 6, 'Machine learning')]\n"
     ]
    }
   ],
   "source": [
    "#wikipedia_base_url = 'https://en.wikipedia.org'\n",
    "\n",
    "otherPAgeURLS = []\n",
    "#We also want to know where the links come from so we also will get:\n",
    "#the paragraph number\n",
    "#the word the link is in\n",
    "for paragraphNum, pTag in enumerate(contentPTags):\n",
    "    #we only want hrefs that link to wiki pages\n",
    "    tagLinks = pTag.findAll('a', href=re.compile('/wiki/'), class_=False)\n",
    "    for aTag in tagLinks:\n",
    "        #We need to extract the url from the <a> tag\n",
    "        relurl = aTag.get('href')\n",
    "        linkText = aTag.text\n",
    "        #wikipedia_base_url is the base we can use the urllib joining function to merge them\n",
    "        #Giving a nice structured tupe like this means we can use tuple expansion later\n",
    "        otherPAgeURLS.append((\n",
    "            urllib.parse.urljoin(wikipedia_base_url, relurl),\n",
    "            paragraphNum,\n",
    "            linkText,\n",
    "        ))\n",
    "print(otherPAgeURLS[:10])"
   ]
  },
  {
   "cell_type": "markdown",
   "metadata": {},
   "source": [
    "Another excursion: Why do we use enumerate() here? enumerate() takes a collection, enumerates, and returns an enumate object with both the numbers and the collection. For example, contentPTags (the collection we used here) is comprised of paragraphs. We want the paragraph number of each paragraph. And this is what enumerate() does: it returns the paragraph number and the paragraph. "
   ]
  },
  {
   "cell_type": "markdown",
   "metadata": {},
   "source": [
    "We will be adding these new texts to our DataFrame `contentParagraphsDF` so we\n",
    "will need to add 2 more columns to keep track of paragraph numbers and sources."
   ]
  },
  {
   "cell_type": "code",
   "execution_count": 60,
   "metadata": {},
   "outputs": [
    {
     "data": {
      "text/plain": "                                       paragraph-text  \\\n0                                       South Asia \\n   \n1                                       Middle East\\n   \n2                                            Europe\\n   \n3                                     North America\\n   \n4   Content analysis is the study of documents and...   \n5   Practices and philosophies of content analysis...   \n6   Computers are increasingly used in content ana...   \n7   Content analysis is best understood as a broad...   \n8   The simplest and most objective form of conten...   \n9   A further step in analysis is the distinction ...   \n10  Quantitative content analysis highlights frequ...   \n11  Siegfried Kracauer provides a critique of quan...   \n12  With the rise of common computing facilities l...   \n13  By having contents of communication available ...   \n14  Computer-assisted analysis can help with large...   \n15  Robert Weber notes: \"To make valid inferences ...   \n16  There are five types of texts in content analy...   \n17  Content analysis is research using the categor...   \n18  Over the years, content analysis has been appl...   \n19  In recent times, particularly with the advent ...   \n20  Quantitative content analysis has enjoyed a re...   \n21  Content analysis can also be described as stud...   \n22  Manifest content is readily understandable at ...   \n23  Holsti groups fifteen uses of content analysis...   \n24  He also places these uses into the context of ...   \n25  The following table shows fifteen uses of cont...   \n26  As a counterpoint, there are limits to the sco...   \n27  The process of the initial coding scheme or ap...   \n28  With either approach above, immersing oneself ...   \n29                                                 \\n   \n\n                                            source  paragraph-number  \n0   https://en.wikipedia.org/wiki/Content_analysis                 0  \n1   https://en.wikipedia.org/wiki/Content_analysis                 1  \n2   https://en.wikipedia.org/wiki/Content_analysis                 2  \n3   https://en.wikipedia.org/wiki/Content_analysis                 3  \n4   https://en.wikipedia.org/wiki/Content_analysis                 4  \n5   https://en.wikipedia.org/wiki/Content_analysis                 5  \n6   https://en.wikipedia.org/wiki/Content_analysis                 6  \n7   https://en.wikipedia.org/wiki/Content_analysis                 7  \n8   https://en.wikipedia.org/wiki/Content_analysis                 8  \n9   https://en.wikipedia.org/wiki/Content_analysis                 9  \n10  https://en.wikipedia.org/wiki/Content_analysis                10  \n11  https://en.wikipedia.org/wiki/Content_analysis                11  \n12  https://en.wikipedia.org/wiki/Content_analysis                12  \n13  https://en.wikipedia.org/wiki/Content_analysis                13  \n14  https://en.wikipedia.org/wiki/Content_analysis                14  \n15  https://en.wikipedia.org/wiki/Content_analysis                15  \n16  https://en.wikipedia.org/wiki/Content_analysis                16  \n17  https://en.wikipedia.org/wiki/Content_analysis                17  \n18  https://en.wikipedia.org/wiki/Content_analysis                18  \n19  https://en.wikipedia.org/wiki/Content_analysis                19  \n20  https://en.wikipedia.org/wiki/Content_analysis                20  \n21  https://en.wikipedia.org/wiki/Content_analysis                21  \n22  https://en.wikipedia.org/wiki/Content_analysis                22  \n23  https://en.wikipedia.org/wiki/Content_analysis                23  \n24  https://en.wikipedia.org/wiki/Content_analysis                24  \n25  https://en.wikipedia.org/wiki/Content_analysis                25  \n26  https://en.wikipedia.org/wiki/Content_analysis                26  \n27  https://en.wikipedia.org/wiki/Content_analysis                27  \n28  https://en.wikipedia.org/wiki/Content_analysis                28  \n29  https://en.wikipedia.org/wiki/Content_analysis                29  ",
      "text/html": "<div>\n<style scoped>\n    .dataframe tbody tr th:only-of-type {\n        vertical-align: middle;\n    }\n\n    .dataframe tbody tr th {\n        vertical-align: top;\n    }\n\n    .dataframe thead th {\n        text-align: right;\n    }\n</style>\n<table border=\"1\" class=\"dataframe\">\n  <thead>\n    <tr style=\"text-align: right;\">\n      <th></th>\n      <th>paragraph-text</th>\n      <th>source</th>\n      <th>paragraph-number</th>\n    </tr>\n  </thead>\n  <tbody>\n    <tr>\n      <th>0</th>\n      <td>South Asia \\n</td>\n      <td>https://en.wikipedia.org/wiki/Content_analysis</td>\n      <td>0</td>\n    </tr>\n    <tr>\n      <th>1</th>\n      <td>Middle East\\n</td>\n      <td>https://en.wikipedia.org/wiki/Content_analysis</td>\n      <td>1</td>\n    </tr>\n    <tr>\n      <th>2</th>\n      <td>Europe\\n</td>\n      <td>https://en.wikipedia.org/wiki/Content_analysis</td>\n      <td>2</td>\n    </tr>\n    <tr>\n      <th>3</th>\n      <td>North America\\n</td>\n      <td>https://en.wikipedia.org/wiki/Content_analysis</td>\n      <td>3</td>\n    </tr>\n    <tr>\n      <th>4</th>\n      <td>Content analysis is the study of documents and...</td>\n      <td>https://en.wikipedia.org/wiki/Content_analysis</td>\n      <td>4</td>\n    </tr>\n    <tr>\n      <th>5</th>\n      <td>Practices and philosophies of content analysis...</td>\n      <td>https://en.wikipedia.org/wiki/Content_analysis</td>\n      <td>5</td>\n    </tr>\n    <tr>\n      <th>6</th>\n      <td>Computers are increasingly used in content ana...</td>\n      <td>https://en.wikipedia.org/wiki/Content_analysis</td>\n      <td>6</td>\n    </tr>\n    <tr>\n      <th>7</th>\n      <td>Content analysis is best understood as a broad...</td>\n      <td>https://en.wikipedia.org/wiki/Content_analysis</td>\n      <td>7</td>\n    </tr>\n    <tr>\n      <th>8</th>\n      <td>The simplest and most objective form of conten...</td>\n      <td>https://en.wikipedia.org/wiki/Content_analysis</td>\n      <td>8</td>\n    </tr>\n    <tr>\n      <th>9</th>\n      <td>A further step in analysis is the distinction ...</td>\n      <td>https://en.wikipedia.org/wiki/Content_analysis</td>\n      <td>9</td>\n    </tr>\n    <tr>\n      <th>10</th>\n      <td>Quantitative content analysis highlights frequ...</td>\n      <td>https://en.wikipedia.org/wiki/Content_analysis</td>\n      <td>10</td>\n    </tr>\n    <tr>\n      <th>11</th>\n      <td>Siegfried Kracauer provides a critique of quan...</td>\n      <td>https://en.wikipedia.org/wiki/Content_analysis</td>\n      <td>11</td>\n    </tr>\n    <tr>\n      <th>12</th>\n      <td>With the rise of common computing facilities l...</td>\n      <td>https://en.wikipedia.org/wiki/Content_analysis</td>\n      <td>12</td>\n    </tr>\n    <tr>\n      <th>13</th>\n      <td>By having contents of communication available ...</td>\n      <td>https://en.wikipedia.org/wiki/Content_analysis</td>\n      <td>13</td>\n    </tr>\n    <tr>\n      <th>14</th>\n      <td>Computer-assisted analysis can help with large...</td>\n      <td>https://en.wikipedia.org/wiki/Content_analysis</td>\n      <td>14</td>\n    </tr>\n    <tr>\n      <th>15</th>\n      <td>Robert Weber notes: \"To make valid inferences ...</td>\n      <td>https://en.wikipedia.org/wiki/Content_analysis</td>\n      <td>15</td>\n    </tr>\n    <tr>\n      <th>16</th>\n      <td>There are five types of texts in content analy...</td>\n      <td>https://en.wikipedia.org/wiki/Content_analysis</td>\n      <td>16</td>\n    </tr>\n    <tr>\n      <th>17</th>\n      <td>Content analysis is research using the categor...</td>\n      <td>https://en.wikipedia.org/wiki/Content_analysis</td>\n      <td>17</td>\n    </tr>\n    <tr>\n      <th>18</th>\n      <td>Over the years, content analysis has been appl...</td>\n      <td>https://en.wikipedia.org/wiki/Content_analysis</td>\n      <td>18</td>\n    </tr>\n    <tr>\n      <th>19</th>\n      <td>In recent times, particularly with the advent ...</td>\n      <td>https://en.wikipedia.org/wiki/Content_analysis</td>\n      <td>19</td>\n    </tr>\n    <tr>\n      <th>20</th>\n      <td>Quantitative content analysis has enjoyed a re...</td>\n      <td>https://en.wikipedia.org/wiki/Content_analysis</td>\n      <td>20</td>\n    </tr>\n    <tr>\n      <th>21</th>\n      <td>Content analysis can also be described as stud...</td>\n      <td>https://en.wikipedia.org/wiki/Content_analysis</td>\n      <td>21</td>\n    </tr>\n    <tr>\n      <th>22</th>\n      <td>Manifest content is readily understandable at ...</td>\n      <td>https://en.wikipedia.org/wiki/Content_analysis</td>\n      <td>22</td>\n    </tr>\n    <tr>\n      <th>23</th>\n      <td>Holsti groups fifteen uses of content analysis...</td>\n      <td>https://en.wikipedia.org/wiki/Content_analysis</td>\n      <td>23</td>\n    </tr>\n    <tr>\n      <th>24</th>\n      <td>He also places these uses into the context of ...</td>\n      <td>https://en.wikipedia.org/wiki/Content_analysis</td>\n      <td>24</td>\n    </tr>\n    <tr>\n      <th>25</th>\n      <td>The following table shows fifteen uses of cont...</td>\n      <td>https://en.wikipedia.org/wiki/Content_analysis</td>\n      <td>25</td>\n    </tr>\n    <tr>\n      <th>26</th>\n      <td>As a counterpoint, there are limits to the sco...</td>\n      <td>https://en.wikipedia.org/wiki/Content_analysis</td>\n      <td>26</td>\n    </tr>\n    <tr>\n      <th>27</th>\n      <td>The process of the initial coding scheme or ap...</td>\n      <td>https://en.wikipedia.org/wiki/Content_analysis</td>\n      <td>27</td>\n    </tr>\n    <tr>\n      <th>28</th>\n      <td>With either approach above, immersing oneself ...</td>\n      <td>https://en.wikipedia.org/wiki/Content_analysis</td>\n      <td>28</td>\n    </tr>\n    <tr>\n      <th>29</th>\n      <td>\\n</td>\n      <td>https://en.wikipedia.org/wiki/Content_analysis</td>\n      <td>29</td>\n    </tr>\n  </tbody>\n</table>\n</div>"
     },
     "execution_count": 60,
     "metadata": {},
     "output_type": "execute_result"
    }
   ],
   "source": [
    "contentParagraphsDF['source'] = [wikipedia_content_analysis] * len(contentParagraphsDF['paragraph-text'])\n",
    "contentParagraphsDF['paragraph-number'] = range(len(contentParagraphsDF['paragraph-text']))\n",
    "\n",
    "contentParagraphsDF"
   ]
  },
  {
   "cell_type": "markdown",
   "metadata": {},
   "source": [
    "Then we can add two more columns to our `Dataframe` and define a function to\n",
    "parse\n",
    "each linked page and add its text to our DataFrame."
   ]
  },
  {
   "cell_type": "code",
   "execution_count": 61,
   "metadata": {},
   "outputs": [],
   "source": [
    "contentParagraphsDF['source-paragraph-number'] = [None] * len(contentParagraphsDF['paragraph-text'])\n",
    "contentParagraphsDF['source-paragraph-text'] = [None] * len(contentParagraphsDF['paragraph-text'])\n",
    "\n",
    "def getTextFromWikiPage(targetURL, sourceParNum, sourceText):\n",
    "    #Make a dict to store data before adding it to the DataFrame\n",
    "    parsDict = {'source' : [], 'paragraph-number' : [], 'paragraph-text' : [], 'source-paragraph-number' : [],  'source-paragraph-text' : []}\n",
    "    #Now we get the page\n",
    "    r = requests.get(targetURL)\n",
    "    soup = bs4.BeautifulSoup(r.text, 'html.parser')\n",
    "    #enumerating gives use the paragraph number\n",
    "    for parNum, pTag in enumerate(soup.body.findAll('p')):\n",
    "        #same regex as before\n",
    "        parsDict['paragraph-text'].append(re.sub(r'\\[\\d+\\]', '', pTag.text))\n",
    "        parsDict['paragraph-number'].append(parNum)\n",
    "        parsDict['source'].append(targetURL)\n",
    "        parsDict['source-paragraph-number'].append(sourceParNum)\n",
    "        parsDict['source-paragraph-text'].append(sourceText)\n",
    "    return pandas.DataFrame(parsDict)"
   ]
  },
  {
   "cell_type": "markdown",
   "metadata": {},
   "source": [
    "And run it on our list of link tags"
   ]
  },
  {
   "cell_type": "code",
   "execution_count": 62,
   "metadata": {},
   "outputs": [
    {
     "data": {
      "text/plain": "                                       paragraph-text  \\\n0                                       South Asia \\n   \n1                                       Middle East\\n   \n2                                            Europe\\n   \n3                                     North America\\n   \n4   Content analysis is the study of documents and...   \n..                                                ...   \n58  Much of qualitative coding can be attributed t...   \n59  Coding is considered a process of discovery an...   \n60  The process can be done manually, which can be...   \n61  After assembling codes it is time to organize ...   \n62  Creating memos during the coding process is in...   \n\n                                               source  paragraph-number  \\\n0      https://en.wikipedia.org/wiki/Content_analysis                 0   \n1      https://en.wikipedia.org/wiki/Content_analysis                 1   \n2      https://en.wikipedia.org/wiki/Content_analysis                 2   \n3      https://en.wikipedia.org/wiki/Content_analysis                 3   \n4      https://en.wikipedia.org/wiki/Content_analysis                 4   \n..                                                ...               ...   \n58  https://en.wikipedia.org/wiki/Coding_(social_s...                 8   \n59  https://en.wikipedia.org/wiki/Coding_(social_s...                 9   \n60  https://en.wikipedia.org/wiki/Coding_(social_s...                10   \n61  https://en.wikipedia.org/wiki/Coding_(social_s...                11   \n62  https://en.wikipedia.org/wiki/Coding_(social_s...                12   \n\n   source-paragraph-number                     source-paragraph-text  \n0                     None                                      None  \n1                     None                                      None  \n2                     None                                      None  \n3                     None                                      None  \n4                     None                                      None  \n..                     ...                                       ...  \n58                       5  assigned labels (sometimes called codes)  \n59                       5  assigned labels (sometimes called codes)  \n60                       5  assigned labels (sometimes called codes)  \n61                       5  assigned labels (sometimes called codes)  \n62                       5  assigned labels (sometimes called codes)  \n\n[63 rows x 5 columns]",
      "text/html": "<div>\n<style scoped>\n    .dataframe tbody tr th:only-of-type {\n        vertical-align: middle;\n    }\n\n    .dataframe tbody tr th {\n        vertical-align: top;\n    }\n\n    .dataframe thead th {\n        text-align: right;\n    }\n</style>\n<table border=\"1\" class=\"dataframe\">\n  <thead>\n    <tr style=\"text-align: right;\">\n      <th></th>\n      <th>paragraph-text</th>\n      <th>source</th>\n      <th>paragraph-number</th>\n      <th>source-paragraph-number</th>\n      <th>source-paragraph-text</th>\n    </tr>\n  </thead>\n  <tbody>\n    <tr>\n      <th>0</th>\n      <td>South Asia \\n</td>\n      <td>https://en.wikipedia.org/wiki/Content_analysis</td>\n      <td>0</td>\n      <td>None</td>\n      <td>None</td>\n    </tr>\n    <tr>\n      <th>1</th>\n      <td>Middle East\\n</td>\n      <td>https://en.wikipedia.org/wiki/Content_analysis</td>\n      <td>1</td>\n      <td>None</td>\n      <td>None</td>\n    </tr>\n    <tr>\n      <th>2</th>\n      <td>Europe\\n</td>\n      <td>https://en.wikipedia.org/wiki/Content_analysis</td>\n      <td>2</td>\n      <td>None</td>\n      <td>None</td>\n    </tr>\n    <tr>\n      <th>3</th>\n      <td>North America\\n</td>\n      <td>https://en.wikipedia.org/wiki/Content_analysis</td>\n      <td>3</td>\n      <td>None</td>\n      <td>None</td>\n    </tr>\n    <tr>\n      <th>4</th>\n      <td>Content analysis is the study of documents and...</td>\n      <td>https://en.wikipedia.org/wiki/Content_analysis</td>\n      <td>4</td>\n      <td>None</td>\n      <td>None</td>\n    </tr>\n    <tr>\n      <th>...</th>\n      <td>...</td>\n      <td>...</td>\n      <td>...</td>\n      <td>...</td>\n      <td>...</td>\n    </tr>\n    <tr>\n      <th>58</th>\n      <td>Much of qualitative coding can be attributed t...</td>\n      <td>https://en.wikipedia.org/wiki/Coding_(social_s...</td>\n      <td>8</td>\n      <td>5</td>\n      <td>assigned labels (sometimes called codes)</td>\n    </tr>\n    <tr>\n      <th>59</th>\n      <td>Coding is considered a process of discovery an...</td>\n      <td>https://en.wikipedia.org/wiki/Coding_(social_s...</td>\n      <td>9</td>\n      <td>5</td>\n      <td>assigned labels (sometimes called codes)</td>\n    </tr>\n    <tr>\n      <th>60</th>\n      <td>The process can be done manually, which can be...</td>\n      <td>https://en.wikipedia.org/wiki/Coding_(social_s...</td>\n      <td>10</td>\n      <td>5</td>\n      <td>assigned labels (sometimes called codes)</td>\n    </tr>\n    <tr>\n      <th>61</th>\n      <td>After assembling codes it is time to organize ...</td>\n      <td>https://en.wikipedia.org/wiki/Coding_(social_s...</td>\n      <td>11</td>\n      <td>5</td>\n      <td>assigned labels (sometimes called codes)</td>\n    </tr>\n    <tr>\n      <th>62</th>\n      <td>Creating memos during the coding process is in...</td>\n      <td>https://en.wikipedia.org/wiki/Coding_(social_s...</td>\n      <td>12</td>\n      <td>5</td>\n      <td>assigned labels (sometimes called codes)</td>\n    </tr>\n  </tbody>\n</table>\n<p>63 rows × 5 columns</p>\n</div>"
     },
     "execution_count": 62,
     "metadata": {},
     "output_type": "execute_result"
    }
   ],
   "source": [
    "for urlTuple in otherPAgeURLS[:3]:\n",
    "    #ignore_index means the indices will not be reset after each append\n",
    "    contentParagraphsDF = contentParagraphsDF.append(getTextFromWikiPage(*urlTuple),ignore_index=True)\n",
    "contentParagraphsDF"
   ]
  },
  {
   "cell_type": "markdown",
   "metadata": {},
   "source": [
    "\n",
    "# <font color=\"red\">Exercise 2</font>\n",
    "<font color=\"red\">Construct cells immediately below this that spider webcontent from another site with content relating to your anticipated final project. Specifically, identify urls on a core page, then follow and extract content from them into a pandas `Dataframe`. In addition, demonstrate a *recursive* spider, which follows more than one level of links (i.e., follows links from a site, then follows links on followed sites to new sites, etc.), making sure to define a reasonable endpoint so that you do not wander the web forever :-).</font>\n",
    "\n"
   ]
  },
  {
   "cell_type": "code",
   "execution_count": 63,
   "outputs": [],
   "source": [
    "bb_content_df = pd.DataFrame(columns=['source-text', 'source-addr',\n",
    "                                      'redirected-from'])\n",
    "main_link = \"https://www.breitbart.com\""
   ],
   "metadata": {
    "collapsed": false,
    "pycharm": {
     "name": "#%%\n"
    }
   }
  },
  {
   "cell_type": "code",
   "execution_count": 64,
   "outputs": [],
   "source": [
    "def web_spider(parent_addr, redir_addr, level):\n",
    "    global bb_content_df\n",
    "    if level >= 3: return\n",
    "    spider_req = requests.get(parent_addr)\n",
    "    spider_soup = bs4.BeautifulSoup(spider_req.text, \"html.parser\")\n",
    "    for ptag in spider_soup.body.findAll('p'):\n",
    "        # print(ptag)\n",
    "        df = {'source-text': ptag.text,\n",
    "              'source-addr':\n",
    "                  parent_addr, 'redirected-from': redir_addr}\n",
    "        bb_content_df = bb_content_df.append(df, ignore_index=True)\n",
    "        # print(bb_content_df.tail(1))\n",
    "    # print(bb_content_df)\n",
    "\n",
    "    sublinks = set() #to remove duplicate links in the same page\n",
    "    for aTag in spider_soup.body.findAll('a'):\n",
    "        if aTag.get('href') is not None and len(aTag.get('href')) > 1 and not \\\n",
    "                aTag.get('href').startswith(\"https\") and aTag.get('href').startswith(\"/\"):\n",
    "            if aTag.get('href').split('/')[1] != \"author\":\n",
    "                sublinks.add(aTag.get('href'))\n",
    "    sublink_list = list(sublinks)\n",
    "    # print(f\"{sublink_list = }\")\n",
    "    if len(sublink_list) == 0:\n",
    "        return\n",
    "    if len(sublink_list) < 3:\n",
    "        for link in sublink_list:\n",
    "            web_spider(main_link+link, parent_addr, level+1)\n",
    "    else:\n",
    "        for link in sublink_list[0:3]:\n",
    "            web_spider(main_link+link, parent_addr, level+1)"
   ],
   "metadata": {
    "collapsed": false,
    "pycharm": {
     "name": "#%%\n"
    }
   }
  },
  {
   "cell_type": "markdown",
   "source": [
    "I am now able to observe what I expected to extract -"
   ],
   "metadata": {
    "collapsed": false
   }
  },
  {
   "cell_type": "code",
   "execution_count": 65,
   "outputs": [],
   "source": [
    "web_spider(\"https://www.breitbart.com/politics\", None, 0)"
   ],
   "metadata": {
    "collapsed": false,
    "pycharm": {
     "name": "#%%\n"
    }
   }
  },
  {
   "cell_type": "code",
   "execution_count": 66,
   "outputs": [
    {
     "name": "stdout",
     "output_type": "stream",
     "text": [
      "                                           source-text  \\\n",
      "0    During a press conference at the White House, ...   \n",
      "1    President Joe Biden oversaw the flight transpo...   \n",
      "2    Wednesday, during an appearance on FBN’s “Cavu...   \n",
      "3    President Joe Biden appeared to give up the id...   \n",
      "4    President Joe Biden ended his first year in of...   \n",
      "..                                                 ...   \n",
      "430  Vice President Kamala Harris repeatedly lied a...   \n",
      "431  The UK will begin resettling up to 20,000 Afgh...   \n",
      "432  President Joe Biden is nearing the end of his ...   \n",
      "433                                                      \n",
      "434                         Copyright © 2022 Breitbart   \n",
      "\n",
      "                                    source-addr  \\\n",
      "0            https://www.breitbart.com/politics   \n",
      "1            https://www.breitbart.com/politics   \n",
      "2            https://www.breitbart.com/politics   \n",
      "3            https://www.breitbart.com/politics   \n",
      "4            https://www.breitbart.com/politics   \n",
      "..                                          ...   \n",
      "430  https://www.breitbart.com/tag/afghanistan/   \n",
      "431  https://www.breitbart.com/tag/afghanistan/   \n",
      "432  https://www.breitbart.com/tag/afghanistan/   \n",
      "433  https://www.breitbart.com/tag/afghanistan/   \n",
      "434  https://www.breitbart.com/tag/afghanistan/   \n",
      "\n",
      "                                       redirected-from  \n",
      "0                                                 None  \n",
      "1                                                 None  \n",
      "2                                                 None  \n",
      "3                                                 None  \n",
      "4                                                 None  \n",
      "..                                                 ...  \n",
      "430  https://www.breitbart.com/politics/2022/01/19/...  \n",
      "431  https://www.breitbart.com/politics/2022/01/19/...  \n",
      "432  https://www.breitbart.com/politics/2022/01/19/...  \n",
      "433  https://www.breitbart.com/politics/2022/01/19/...  \n",
      "434  https://www.breitbart.com/politics/2022/01/19/...  \n",
      "\n",
      "[435 rows x 3 columns]\n"
     ]
    }
   ],
   "source": [
    "print(bb_content_df)"
   ],
   "metadata": {
    "collapsed": false,
    "pycharm": {
     "name": "#%%\n"
    }
   }
  },
  {
   "cell_type": "markdown",
   "source": [
    "The commented code below is for exploratory analysis to see the structure of the\n",
    "weblinks, the average number of links per page, etc. The recursive function\n",
    "written above is from the result of the analysis from below."
   ],
   "metadata": {
    "collapsed": false
   }
  },
  {
   "cell_type": "code",
   "execution_count": 67,
   "outputs": [],
   "source": [
    "# source_link = \"https://www.breitbart.com/politics\"\n",
    "# main_link = \"https://www.breitbart.com\"\n",
    "# content_bb = requests.get(source_link)\n",
    "# content_bb_soup = bs4.BeautifulSoup(content_bb.text, \"html.parser\")"
   ],
   "metadata": {
    "collapsed": false,
    "pycharm": {
     "name": "#%%\n"
    }
   }
  },
  {
   "cell_type": "code",
   "execution_count": 68,
   "outputs": [],
   "source": [
    "# print(content_bb_soup.body)"
   ],
   "metadata": {
    "collapsed": false,
    "pycharm": {
     "name": "#%%\n"
    }
   }
  },
  {
   "cell_type": "code",
   "execution_count": 69,
   "outputs": [],
   "source": [
    "# bb_source_content = []\n",
    "# for pTag in bb_content_soup.body.findAll('p'):\n",
    "#     bb_source_content.append(pTag.text)"
   ],
   "metadata": {
    "collapsed": false,
    "pycharm": {
     "name": "#%%\n"
    }
   }
  },
  {
   "cell_type": "code",
   "execution_count": 70,
   "outputs": [],
   "source": [
    "# bb_content_df = pd.DataFrame({'source-text': bb_source_content})\n",
    "# bb_content_df['source-website']=[source_link]*len(bb_content_df)\n",
    "# bb_content_df['redirected_from'] = [None]*len(bb_content_df)"
   ],
   "metadata": {
    "collapsed": false,
    "pycharm": {
     "name": "#%%\n"
    }
   }
  },
  {
   "cell_type": "code",
   "execution_count": 71,
   "outputs": [],
   "source": [
    "# print(bb_content_df)"
   ],
   "metadata": {
    "collapsed": false,
    "pycharm": {
     "name": "#%%\n"
    }
   }
  },
  {
   "cell_type": "markdown",
   "source": [
    "I am trying to filter out links that only correspond to news articles and\n",
    "authors (links relative to current webpage seem to redirect to those more\n",
    "often than global links)"
   ],
   "metadata": {
    "collapsed": false
   }
  },
  {
   "cell_type": "code",
   "execution_count": 72,
   "outputs": [],
   "source": [
    "# # print(content_bb_soup.body.findAll('a'))\n",
    "# news_content_tags = set() # set to handle duplication of tags\n",
    "# for aTag in content_bb_soup.body.findAll('a'):\n",
    "#     if aTag.get('href') is not None and not aTag.get('href').startswith \\\n",
    "#                 (\"https\") and aTag.get('href').startswith(\"/\") and len\\\n",
    "#                 (aTag.get('href')) > 1:\n",
    "#         # print(aTag.text)\n",
    "#         # print(aTag.get('href'))\n",
    "#         # removing tags that redirect to author information\n",
    "#         if aTag.get('href').split('/')[1] != \"author\":\n",
    "#             news_content_tags.add(aTag.get('href'))\n",
    "# print(news_content_tags)"
   ],
   "metadata": {
    "collapsed": false,
    "pycharm": {
     "name": "#%%\n"
    }
   }
  },
  {
   "cell_type": "code",
   "execution_count": 73,
   "outputs": [],
   "source": [
    "# news_content_list = []\n",
    "# for tag in list(news_content_tags)[16:20]:\n",
    "#     print(tag)\n",
    "#     news_content_list.append(tag)"
   ],
   "metadata": {
    "collapsed": false,
    "pycharm": {
     "name": "#%%\n"
    }
   }
  },
  {
   "cell_type": "markdown",
   "metadata": {},
   "source": [
    "## API (Tumblr)\n",
    "\n",
    "Generally website owners do not like you scraping their sites. If done badly,\n",
    "scarping can act like a DOS attack so you should be careful how often you make\n",
    "calls to a site. Some sites want automated tools to access their data, so they\n",
    "create [application programming interface\n",
    "(APIs)](https://en.wikipedia.org/wiki/Application_programming_interface). An API\n",
    "specifies a procedure for an application (or script) to access their data. Often\n",
    "this is though a [representational state transfer\n",
    "(REST)](https://en.wikipedia.org/wiki/Representational_state_transfer) web\n",
    "service, which just means if you make correctly formatted HTTP requests they\n",
    "will return nicely formatted data.\n",
    "\n",
    "A nice example for us to study is [Tumblr](https://www.tumblr.com), they have a\n",
    "[simple RESTful API](https://www.tumblr.com/docs/en/api/v1) that allows you to\n",
    "read posts without any complicated html parsing.\n",
    "\n",
    "We can get the first 20 posts from a blog by making an http GET request to\n",
    "`'http://{blog}.tumblr.com/api/read/json'`, were `{blog}` is the name of the\n",
    "target blog. Lets try and get the posts from [http://lolcats-lol-\n",
    "cat.tumblr.com/](http://lolcats-lol-cat.tumblr.com/) (Note the blog says at the\n",
    "top 'One hour one pic lolcats', but the canonical name that Tumblr uses is in\n",
    "the URL 'lolcats-lol-cat')."
   ]
  },
  {
   "cell_type": "code",
   "execution_count": 74,
   "metadata": {},
   "outputs": [
    {
     "name": "stdout",
     "output_type": "stream",
     "text": [
      "var tumblr_api_read = {\"tumblelog\":{\"title\":\"One hour one pic lolcats\",\"description\":\"\",\"name\":\"lolcats-lol-cat\",\"timezone\":\"Europe\\/Paris\",\"cname\":false,\"feeds\":[]},\"posts-start\":0,\"posts-total\":3925,\"posts-type\":false,\"posts\":[{\"id\":\"662815854023655425\",\"url\":\"https:\\/\\/lolcats-lol-cat.tumblr.com\\/post\\/662815854023655425\",\"url-with-slug\":\"https:\\/\\/lolcats-lol-cat.tumblr.com\\/post\\/662815854023655425\",\"type\":\"photo\",\"date-gmt\":\"2021-09-20 04:00:56 GMT\",\"date\":\"Mon, 20 Sep 2021 06:00:56\",\"bookmarklet\":0,\"mobile\":0,\"feed-item\":\"\",\"from-feed-id\":0,\"unix-timestamp\":1632110456,\"format\":\"html\",\"reblog-key\":\"kjH8cg34\",\"slug\":\"\",\"is-submission\":false,\"like-button\":\"<div class=\\\"like_button\\\" data-post-id=\\\"662815854023655425\\\" data-blog-name=\\\"lolcats-lol-cat\\\" id=\\\"like_button_662815854023655425\\\"><iframe id=\\\"like_iframe_662815854023655425\\\" src=\\\"https:\\/\\/assets.tumblr.com\\/assets\\/html\\/like_iframe.html?_v=66c22ab5319d742bca5762b8d18f9d06#name=lolcats-lol-cat&amp;post_id=66281585402365\n"
     ]
    }
   ],
   "source": [
    "tumblrAPItarget = 'http://{}.tumblr.com/api/read/json'\n",
    "\n",
    "r = requests.get(tumblrAPItarget.format('lolcats-lol-cat'))\n",
    "\n",
    "print(r.text[:1000])"
   ]
  },
  {
   "cell_type": "markdown",
   "metadata": {},
   "source": [
    "This might not look very good on first inspection, but it has far fewer angle\n",
    "braces than html, which makes it easier to parse. What we have is\n",
    "[JSON](https://en.wikipedia.org/wiki/JSON) a 'human readable' text based data\n",
    "transmission format based on javascript. Luckily, we can readily convert it to a\n",
    "python `dict`."
   ]
  },
  {
   "cell_type": "code",
   "execution_count": 75,
   "metadata": {},
   "outputs": [
    {
     "name": "stdout",
     "output_type": "stream",
     "text": [
      "dict_keys(['tumblelog', 'posts-start', 'posts-total', 'posts-type', 'posts'])\n",
      "20\n"
     ]
    }
   ],
   "source": [
    "#We need to load only the stuff between the curly braces\n",
    "d = json.loads(r.text[len('var tumblr_api_read = '):-2])\n",
    "print(d.keys())\n",
    "print(len(d['posts']))"
   ]
  },
  {
   "cell_type": "markdown",
   "metadata": {},
   "source": [
    "If we read the [API specification](https://www.tumblr.com/docs/en/api/v1), we\n",
    "will see there are a lot of things we can get if we add things to our GET\n",
    "request. First we can retrieve posts by their id number. Let's first get post\n",
    "`146020177084`."
   ]
  },
  {
   "cell_type": "code",
   "execution_count": 76,
   "metadata": {},
   "outputs": [],
   "source": [
    "r = requests.get(tumblrAPItarget.format('lolcats-lol-cat'), params = {'id' : 146020177084})\n",
    "d = json.loads(r.text[len('var tumblr_api_read = '):-2])\n",
    "d['posts'][0].keys()\n",
    "d['posts'][0]['photo-url-1280']\n",
    "\n",
    "with open('lolcat.gif', 'wb') as f:\n",
    "    gifRequest = requests.get(d['posts'][0]['photo-url-1280'], stream = True)\n",
    "    f.write(gifRequest.content)"
   ]
  },
  {
   "cell_type": "markdown",
   "metadata": {},
   "source": [
    "<img src='lolcat.gif'>\n",
    "\n",
    "Such beauty; such vigor (If you can't see it you have to refresh the page). Now\n",
    "we could retrieve the text from all posts as well\n",
    "as related metadata, like the post date, caption or tags. We could also get\n",
    "links to all the images."
   ]
  },
  {
   "cell_type": "code",
   "execution_count": 77,
   "metadata": {},
   "outputs": [
    {
     "data": {
      "text/plain": "                    id                                          photo-url  \\\n0   662815854023655425  https://64.media.tumblr.com/021eac8fbcafbb00a5...   \n1   662778109891952640  https://64.media.tumblr.com/8c0517adb8c71e4a3d...   \n2   662657302700146688  https://64.media.tumblr.com/061d27cda309d5c809...   \n3   662513901538246656  https://64.media.tumblr.com/80584a9d1ff4ddc4fc...   \n4   662257177983090688  https://64.media.tumblr.com/893b320cd2e8970a20...   \n5   662166591527698432  https://64.media.tumblr.com/c7f0a0a9184e480e15...   \n6   662113740899090432  https://64.media.tumblr.com/07f7be7f71917a6049...   \n7   661955166248026112  https://64.media.tumblr.com/205f030c48d31f8960...   \n8   661894830378614784  https://64.media.tumblr.com/c463bff883fec2045b...   \n9   661864596682964992  https://64.media.tumblr.com/b840ddb3aa2303206b...   \n10  661826822696321024  https://64.media.tumblr.com/adc18e35b1844be41a...   \n11  661804260632215552  https://64.media.tumblr.com/caae5b433ada6d6cb3...   \n12  661766453508407296  https://64.media.tumblr.com/9d8cf92208aec32b93...   \n13  661623017704685568  https://64.media.tumblr.com/4a5ae6732ab54227a4...   \n14  661555057316298752  https://64.media.tumblr.com/c92a31829a6d88381e...   \n15  661509804401065984  https://64.media.tumblr.com/2653be7b6e3a8efb9e...   \n16  661411625970106368  https://64.media.tumblr.com/e508b4d0fcc083750b...   \n17  661260621178945536  https://64.media.tumblr.com/28e64b8d19014a4c98...   \n18  661177569862991872  https://64.media.tumblr.com/9ffadbe3e1d5fb20f8...   \n19  661154964805140480  https://64.media.tumblr.com/27dce173c9e6cf3f05...   \n20  660988818837651457  https://64.media.tumblr.com/02db958e8649c04d19...   \n21  660935942249578496  https://64.media.tumblr.com/80b5d0f3c5636990b9...   \n22  660905765646843905  https://64.media.tumblr.com/a2eb4c91986a0c1e23...   \n23  660898202755661824  https://64.media.tumblr.com/061d27cda309d5c809...   \n24  660883122996576256  https://64.media.tumblr.com/2d1137cbf0dbe21d8b...   \n25  660732105459924992  https://64.media.tumblr.com/cccbbc09b009b581a9...   \n26  660475424163364864  https://64.media.tumblr.com/9d700e79b1615fac2f...   \n27  660324431590277120  https://64.media.tumblr.com/7cc2c0f675bc099be4...   \n28  660196106964221952  https://64.media.tumblr.com/c024195387a46a6f77...   \n29  660143257603506176  https://64.media.tumblr.com/fdf46563a9b09ec147...   \n30  660060193333346304  https://64.media.tumblr.com/4183c34ae67f92f290...   \n31  659743087466332160  https://64.media.tumblr.com/01c63fcc1d5fc2e0e0...   \n32  659705393411391488  https://64.media.tumblr.com/42a1477d18728fb088...   \n33  659660051218317312  https://64.media.tumblr.com/a4392b133ed186fad8...   \n34  659539266591981568  https://64.media.tumblr.com/9024bc51ad17d40b80...   \n35  659509078641557504  https://64.media.tumblr.com/12afb1b79928488a1a...   \n36  659342999892967424  https://64.media.tumblr.com/29a90b59498d9ae55f...   \n37  659108907014356992  https://64.media.tumblr.com/7a11be8b9524535da2...   \n38  658867320238850049  https://64.media.tumblr.com/bf7efc7edad65675ad...   \n39  658844675622453248  https://64.media.tumblr.com/c2b58415fe3fed86a2...   \n40  658814510935769088  https://64.media.tumblr.com/d70155b2bdd5763cca...   \n41  658338845753999360  https://64.media.tumblr.com/1fca341b03f832d679...   \n42  658225598089609217  https://64.media.tumblr.com/07aad399cc881a2399...   \n43  658210575863742464  https://64.media.tumblr.com/d5b0639155ee97c854...   \n44  658165190497583104  https://64.media.tumblr.com/ea6ad0eae613c5f60f...   \n45  657946256220536832  https://64.media.tumblr.com/16cf3a5e394112f7d0...   \n46  657931173576704000  https://64.media.tumblr.com/2b7dfb6b1677079a45...   \n47  657312093673078784  https://64.media.tumblr.com/17fe9380eed8516e45...   \n48  656677912834195456  https://64.media.tumblr.com/7c4e668dc5eb0e89ed...   \n49  656647679801212928  https://64.media.tumblr.com/f411261fd1e6911697...   \n\n                         date                                tags photo-type  \n0   Mon, 20 Sep 2021 06:00:56  [gif, lolcat, lolcats, cat, funny]        gif  \n1   Sun, 19 Sep 2021 20:01:00   [cat, cats, lol, lolcat, lolcats]        png  \n2   Sat, 18 Sep 2021 12:00:50   [cat, cats, lol, lolcat, lolcats]        jpg  \n3   Thu, 16 Sep 2021 22:01:32   [cat, cats, lol, lolcat, lolcats]        png  \n4   Tue, 14 Sep 2021 02:01:01   [cat, cats, lol, lolcat, lolcats]        jpg  \n5   Mon, 13 Sep 2021 02:01:11   [cat, cats, lol, lolcat, lolcats]        jpg  \n6   Sun, 12 Sep 2021 12:01:09   [cat, cats, lol, lolcat, lolcats]        jpg  \n7   Fri, 10 Sep 2021 18:00:40   [cat, cats, lol, lolcat, lolcats]        jpg  \n8   Fri, 10 Sep 2021 02:01:39   [cat, cats, lol, lolcat, lolcats]        png  \n9   Thu, 09 Sep 2021 18:01:06   [cat, cats, lol, lolcat, lolcats]        jpg  \n10  Thu, 09 Sep 2021 08:00:42   [cat, cats, lol, lolcat, lolcats]        png  \n11  Thu, 09 Sep 2021 02:02:05   [cat, cats, lol, lolcat, lolcats]        png  \n12  Wed, 08 Sep 2021 16:01:10   [cat, cats, lol, lolcat, lolcats]        jpg  \n13  Tue, 07 Sep 2021 02:01:19   [cat, cats, lol, lolcat, lolcats]        jpg  \n14  Mon, 06 Sep 2021 08:01:07   [cat, cats, lol, lolcat, lolcats]        jpg  \n15  Sun, 05 Sep 2021 20:01:50   [cat, cats, lol, lolcat, lolcats]        png  \n16  Sat, 04 Sep 2021 18:01:20   [cat, cats, lol, lolcat, lolcats]        jpg  \n17  Fri, 03 Sep 2021 02:01:10   [cat, cats, lol, lolcat, lolcats]        png  \n18  Thu, 02 Sep 2021 04:01:06   [cat, cats, lol, lolcat, lolcats]        png  \n19  Wed, 01 Sep 2021 22:01:49   [cat, cats, lol, lolcat, lolcats]        jpg  \n20  Tue, 31 Aug 2021 02:00:59   [cat, cats, lol, lolcat, lolcats]        jpg  \n21  Mon, 30 Aug 2021 12:00:32   [cat, cats, lol, lolcat, lolcats]        jpg  \n22  Mon, 30 Aug 2021 04:00:54   [cat, cats, lol, lolcat, lolcats]        jpg  \n23  Mon, 30 Aug 2021 02:00:41   [cat, cats, lol, lolcat, lolcats]        jpg  \n24  Sun, 29 Aug 2021 22:01:00   [cat, cats, lol, lolcat, lolcats]        png  \n25  Sat, 28 Aug 2021 06:00:38   [cat, cats, lol, lolcat, lolcats]        jpg  \n26  Wed, 25 Aug 2021 10:00:48   [cat, cats, lol, lolcat, lolcats]        jpg  \n27  Mon, 23 Aug 2021 18:00:50   [cat, cats, lol, lolcat, lolcats]        png  \n28  Sun, 22 Aug 2021 08:01:10   [cat, cats, lol, lolcat, lolcats]        png  \n29  Sat, 21 Aug 2021 18:01:09   [cat, cats, lol, lolcat, lolcats]        jpg  \n30  Fri, 20 Aug 2021 20:00:53   [cat, cats, lol, lolcat, lolcats]        jpg  \n31  Tue, 17 Aug 2021 08:00:37   [cat, cats, lol, lolcat, lolcats]        png  \n32  Mon, 16 Aug 2021 22:01:30   [cat, cats, lol, lolcat, lolcats]        png  \n33  Mon, 16 Aug 2021 10:00:48   [cat, cats, lol, lolcat, lolcats]        jpg  \n34  Sun, 15 Aug 2021 02:00:59   [cat, cats, lol, lolcat, lolcats]        jpg  \n35  Sat, 14 Aug 2021 18:01:09   [cat, cats, lol, lolcat, lolcats]        png  \n36  Thu, 12 Aug 2021 22:01:24   [cat, cats, lol, lolcat, lolcats]        jpg  \n37  Tue, 10 Aug 2021 08:00:36   [cat, cats, lol, lolcat, lolcats]        jpg  \n38  Sat, 07 Aug 2021 16:00:41   [cat, cats, lol, lolcat, lolcats]        jpg  \n39  Sat, 07 Aug 2021 10:00:45   [cat, cats, lol, lolcat, lolcats]        jpg  \n40  Sat, 07 Aug 2021 02:01:18   [cat, cats, lol, lolcat, lolcats]        jpg  \n41  Sun, 01 Aug 2021 20:00:48   [cat, cats, lol, lolcat, lolcats]        png  \n42  Sat, 31 Jul 2021 14:00:47   [cat, cats, lol, lolcat, lolcats]        jpg  \n43  Sat, 31 Jul 2021 10:02:00   [cat, cats, lol, lolcat, lolcats]        jpg  \n44  Fri, 30 Jul 2021 22:00:38  [gif, lolcat, lolcats, cat, funny]        gif  \n45  Wed, 28 Jul 2021 12:00:46   [cat, cats, lol, lolcat, lolcats]        jpg  \n46  Wed, 28 Jul 2021 08:01:02   [cat, cats, lol, lolcat, lolcats]        jpg  \n47  Wed, 21 Jul 2021 12:01:01   [cat, cats, lol, lolcat, lolcats]        png  \n48  Wed, 14 Jul 2021 12:00:59   [cat, cats, lol, lolcat, lolcats]        jpg  \n49  Wed, 14 Jul 2021 04:00:27   [cat, cats, lol, lolcat, lolcats]        jpg  ",
      "text/html": "<div>\n<style scoped>\n    .dataframe tbody tr th:only-of-type {\n        vertical-align: middle;\n    }\n\n    .dataframe tbody tr th {\n        vertical-align: top;\n    }\n\n    .dataframe thead th {\n        text-align: right;\n    }\n</style>\n<table border=\"1\" class=\"dataframe\">\n  <thead>\n    <tr style=\"text-align: right;\">\n      <th></th>\n      <th>id</th>\n      <th>photo-url</th>\n      <th>date</th>\n      <th>tags</th>\n      <th>photo-type</th>\n    </tr>\n  </thead>\n  <tbody>\n    <tr>\n      <th>0</th>\n      <td>662815854023655425</td>\n      <td>https://64.media.tumblr.com/021eac8fbcafbb00a5...</td>\n      <td>Mon, 20 Sep 2021 06:00:56</td>\n      <td>[gif, lolcat, lolcats, cat, funny]</td>\n      <td>gif</td>\n    </tr>\n    <tr>\n      <th>1</th>\n      <td>662778109891952640</td>\n      <td>https://64.media.tumblr.com/8c0517adb8c71e4a3d...</td>\n      <td>Sun, 19 Sep 2021 20:01:00</td>\n      <td>[cat, cats, lol, lolcat, lolcats]</td>\n      <td>png</td>\n    </tr>\n    <tr>\n      <th>2</th>\n      <td>662657302700146688</td>\n      <td>https://64.media.tumblr.com/061d27cda309d5c809...</td>\n      <td>Sat, 18 Sep 2021 12:00:50</td>\n      <td>[cat, cats, lol, lolcat, lolcats]</td>\n      <td>jpg</td>\n    </tr>\n    <tr>\n      <th>3</th>\n      <td>662513901538246656</td>\n      <td>https://64.media.tumblr.com/80584a9d1ff4ddc4fc...</td>\n      <td>Thu, 16 Sep 2021 22:01:32</td>\n      <td>[cat, cats, lol, lolcat, lolcats]</td>\n      <td>png</td>\n    </tr>\n    <tr>\n      <th>4</th>\n      <td>662257177983090688</td>\n      <td>https://64.media.tumblr.com/893b320cd2e8970a20...</td>\n      <td>Tue, 14 Sep 2021 02:01:01</td>\n      <td>[cat, cats, lol, lolcat, lolcats]</td>\n      <td>jpg</td>\n    </tr>\n    <tr>\n      <th>5</th>\n      <td>662166591527698432</td>\n      <td>https://64.media.tumblr.com/c7f0a0a9184e480e15...</td>\n      <td>Mon, 13 Sep 2021 02:01:11</td>\n      <td>[cat, cats, lol, lolcat, lolcats]</td>\n      <td>jpg</td>\n    </tr>\n    <tr>\n      <th>6</th>\n      <td>662113740899090432</td>\n      <td>https://64.media.tumblr.com/07f7be7f71917a6049...</td>\n      <td>Sun, 12 Sep 2021 12:01:09</td>\n      <td>[cat, cats, lol, lolcat, lolcats]</td>\n      <td>jpg</td>\n    </tr>\n    <tr>\n      <th>7</th>\n      <td>661955166248026112</td>\n      <td>https://64.media.tumblr.com/205f030c48d31f8960...</td>\n      <td>Fri, 10 Sep 2021 18:00:40</td>\n      <td>[cat, cats, lol, lolcat, lolcats]</td>\n      <td>jpg</td>\n    </tr>\n    <tr>\n      <th>8</th>\n      <td>661894830378614784</td>\n      <td>https://64.media.tumblr.com/c463bff883fec2045b...</td>\n      <td>Fri, 10 Sep 2021 02:01:39</td>\n      <td>[cat, cats, lol, lolcat, lolcats]</td>\n      <td>png</td>\n    </tr>\n    <tr>\n      <th>9</th>\n      <td>661864596682964992</td>\n      <td>https://64.media.tumblr.com/b840ddb3aa2303206b...</td>\n      <td>Thu, 09 Sep 2021 18:01:06</td>\n      <td>[cat, cats, lol, lolcat, lolcats]</td>\n      <td>jpg</td>\n    </tr>\n    <tr>\n      <th>10</th>\n      <td>661826822696321024</td>\n      <td>https://64.media.tumblr.com/adc18e35b1844be41a...</td>\n      <td>Thu, 09 Sep 2021 08:00:42</td>\n      <td>[cat, cats, lol, lolcat, lolcats]</td>\n      <td>png</td>\n    </tr>\n    <tr>\n      <th>11</th>\n      <td>661804260632215552</td>\n      <td>https://64.media.tumblr.com/caae5b433ada6d6cb3...</td>\n      <td>Thu, 09 Sep 2021 02:02:05</td>\n      <td>[cat, cats, lol, lolcat, lolcats]</td>\n      <td>png</td>\n    </tr>\n    <tr>\n      <th>12</th>\n      <td>661766453508407296</td>\n      <td>https://64.media.tumblr.com/9d8cf92208aec32b93...</td>\n      <td>Wed, 08 Sep 2021 16:01:10</td>\n      <td>[cat, cats, lol, lolcat, lolcats]</td>\n      <td>jpg</td>\n    </tr>\n    <tr>\n      <th>13</th>\n      <td>661623017704685568</td>\n      <td>https://64.media.tumblr.com/4a5ae6732ab54227a4...</td>\n      <td>Tue, 07 Sep 2021 02:01:19</td>\n      <td>[cat, cats, lol, lolcat, lolcats]</td>\n      <td>jpg</td>\n    </tr>\n    <tr>\n      <th>14</th>\n      <td>661555057316298752</td>\n      <td>https://64.media.tumblr.com/c92a31829a6d88381e...</td>\n      <td>Mon, 06 Sep 2021 08:01:07</td>\n      <td>[cat, cats, lol, lolcat, lolcats]</td>\n      <td>jpg</td>\n    </tr>\n    <tr>\n      <th>15</th>\n      <td>661509804401065984</td>\n      <td>https://64.media.tumblr.com/2653be7b6e3a8efb9e...</td>\n      <td>Sun, 05 Sep 2021 20:01:50</td>\n      <td>[cat, cats, lol, lolcat, lolcats]</td>\n      <td>png</td>\n    </tr>\n    <tr>\n      <th>16</th>\n      <td>661411625970106368</td>\n      <td>https://64.media.tumblr.com/e508b4d0fcc083750b...</td>\n      <td>Sat, 04 Sep 2021 18:01:20</td>\n      <td>[cat, cats, lol, lolcat, lolcats]</td>\n      <td>jpg</td>\n    </tr>\n    <tr>\n      <th>17</th>\n      <td>661260621178945536</td>\n      <td>https://64.media.tumblr.com/28e64b8d19014a4c98...</td>\n      <td>Fri, 03 Sep 2021 02:01:10</td>\n      <td>[cat, cats, lol, lolcat, lolcats]</td>\n      <td>png</td>\n    </tr>\n    <tr>\n      <th>18</th>\n      <td>661177569862991872</td>\n      <td>https://64.media.tumblr.com/9ffadbe3e1d5fb20f8...</td>\n      <td>Thu, 02 Sep 2021 04:01:06</td>\n      <td>[cat, cats, lol, lolcat, lolcats]</td>\n      <td>png</td>\n    </tr>\n    <tr>\n      <th>19</th>\n      <td>661154964805140480</td>\n      <td>https://64.media.tumblr.com/27dce173c9e6cf3f05...</td>\n      <td>Wed, 01 Sep 2021 22:01:49</td>\n      <td>[cat, cats, lol, lolcat, lolcats]</td>\n      <td>jpg</td>\n    </tr>\n    <tr>\n      <th>20</th>\n      <td>660988818837651457</td>\n      <td>https://64.media.tumblr.com/02db958e8649c04d19...</td>\n      <td>Tue, 31 Aug 2021 02:00:59</td>\n      <td>[cat, cats, lol, lolcat, lolcats]</td>\n      <td>jpg</td>\n    </tr>\n    <tr>\n      <th>21</th>\n      <td>660935942249578496</td>\n      <td>https://64.media.tumblr.com/80b5d0f3c5636990b9...</td>\n      <td>Mon, 30 Aug 2021 12:00:32</td>\n      <td>[cat, cats, lol, lolcat, lolcats]</td>\n      <td>jpg</td>\n    </tr>\n    <tr>\n      <th>22</th>\n      <td>660905765646843905</td>\n      <td>https://64.media.tumblr.com/a2eb4c91986a0c1e23...</td>\n      <td>Mon, 30 Aug 2021 04:00:54</td>\n      <td>[cat, cats, lol, lolcat, lolcats]</td>\n      <td>jpg</td>\n    </tr>\n    <tr>\n      <th>23</th>\n      <td>660898202755661824</td>\n      <td>https://64.media.tumblr.com/061d27cda309d5c809...</td>\n      <td>Mon, 30 Aug 2021 02:00:41</td>\n      <td>[cat, cats, lol, lolcat, lolcats]</td>\n      <td>jpg</td>\n    </tr>\n    <tr>\n      <th>24</th>\n      <td>660883122996576256</td>\n      <td>https://64.media.tumblr.com/2d1137cbf0dbe21d8b...</td>\n      <td>Sun, 29 Aug 2021 22:01:00</td>\n      <td>[cat, cats, lol, lolcat, lolcats]</td>\n      <td>png</td>\n    </tr>\n    <tr>\n      <th>25</th>\n      <td>660732105459924992</td>\n      <td>https://64.media.tumblr.com/cccbbc09b009b581a9...</td>\n      <td>Sat, 28 Aug 2021 06:00:38</td>\n      <td>[cat, cats, lol, lolcat, lolcats]</td>\n      <td>jpg</td>\n    </tr>\n    <tr>\n      <th>26</th>\n      <td>660475424163364864</td>\n      <td>https://64.media.tumblr.com/9d700e79b1615fac2f...</td>\n      <td>Wed, 25 Aug 2021 10:00:48</td>\n      <td>[cat, cats, lol, lolcat, lolcats]</td>\n      <td>jpg</td>\n    </tr>\n    <tr>\n      <th>27</th>\n      <td>660324431590277120</td>\n      <td>https://64.media.tumblr.com/7cc2c0f675bc099be4...</td>\n      <td>Mon, 23 Aug 2021 18:00:50</td>\n      <td>[cat, cats, lol, lolcat, lolcats]</td>\n      <td>png</td>\n    </tr>\n    <tr>\n      <th>28</th>\n      <td>660196106964221952</td>\n      <td>https://64.media.tumblr.com/c024195387a46a6f77...</td>\n      <td>Sun, 22 Aug 2021 08:01:10</td>\n      <td>[cat, cats, lol, lolcat, lolcats]</td>\n      <td>png</td>\n    </tr>\n    <tr>\n      <th>29</th>\n      <td>660143257603506176</td>\n      <td>https://64.media.tumblr.com/fdf46563a9b09ec147...</td>\n      <td>Sat, 21 Aug 2021 18:01:09</td>\n      <td>[cat, cats, lol, lolcat, lolcats]</td>\n      <td>jpg</td>\n    </tr>\n    <tr>\n      <th>30</th>\n      <td>660060193333346304</td>\n      <td>https://64.media.tumblr.com/4183c34ae67f92f290...</td>\n      <td>Fri, 20 Aug 2021 20:00:53</td>\n      <td>[cat, cats, lol, lolcat, lolcats]</td>\n      <td>jpg</td>\n    </tr>\n    <tr>\n      <th>31</th>\n      <td>659743087466332160</td>\n      <td>https://64.media.tumblr.com/01c63fcc1d5fc2e0e0...</td>\n      <td>Tue, 17 Aug 2021 08:00:37</td>\n      <td>[cat, cats, lol, lolcat, lolcats]</td>\n      <td>png</td>\n    </tr>\n    <tr>\n      <th>32</th>\n      <td>659705393411391488</td>\n      <td>https://64.media.tumblr.com/42a1477d18728fb088...</td>\n      <td>Mon, 16 Aug 2021 22:01:30</td>\n      <td>[cat, cats, lol, lolcat, lolcats]</td>\n      <td>png</td>\n    </tr>\n    <tr>\n      <th>33</th>\n      <td>659660051218317312</td>\n      <td>https://64.media.tumblr.com/a4392b133ed186fad8...</td>\n      <td>Mon, 16 Aug 2021 10:00:48</td>\n      <td>[cat, cats, lol, lolcat, lolcats]</td>\n      <td>jpg</td>\n    </tr>\n    <tr>\n      <th>34</th>\n      <td>659539266591981568</td>\n      <td>https://64.media.tumblr.com/9024bc51ad17d40b80...</td>\n      <td>Sun, 15 Aug 2021 02:00:59</td>\n      <td>[cat, cats, lol, lolcat, lolcats]</td>\n      <td>jpg</td>\n    </tr>\n    <tr>\n      <th>35</th>\n      <td>659509078641557504</td>\n      <td>https://64.media.tumblr.com/12afb1b79928488a1a...</td>\n      <td>Sat, 14 Aug 2021 18:01:09</td>\n      <td>[cat, cats, lol, lolcat, lolcats]</td>\n      <td>png</td>\n    </tr>\n    <tr>\n      <th>36</th>\n      <td>659342999892967424</td>\n      <td>https://64.media.tumblr.com/29a90b59498d9ae55f...</td>\n      <td>Thu, 12 Aug 2021 22:01:24</td>\n      <td>[cat, cats, lol, lolcat, lolcats]</td>\n      <td>jpg</td>\n    </tr>\n    <tr>\n      <th>37</th>\n      <td>659108907014356992</td>\n      <td>https://64.media.tumblr.com/7a11be8b9524535da2...</td>\n      <td>Tue, 10 Aug 2021 08:00:36</td>\n      <td>[cat, cats, lol, lolcat, lolcats]</td>\n      <td>jpg</td>\n    </tr>\n    <tr>\n      <th>38</th>\n      <td>658867320238850049</td>\n      <td>https://64.media.tumblr.com/bf7efc7edad65675ad...</td>\n      <td>Sat, 07 Aug 2021 16:00:41</td>\n      <td>[cat, cats, lol, lolcat, lolcats]</td>\n      <td>jpg</td>\n    </tr>\n    <tr>\n      <th>39</th>\n      <td>658844675622453248</td>\n      <td>https://64.media.tumblr.com/c2b58415fe3fed86a2...</td>\n      <td>Sat, 07 Aug 2021 10:00:45</td>\n      <td>[cat, cats, lol, lolcat, lolcats]</td>\n      <td>jpg</td>\n    </tr>\n    <tr>\n      <th>40</th>\n      <td>658814510935769088</td>\n      <td>https://64.media.tumblr.com/d70155b2bdd5763cca...</td>\n      <td>Sat, 07 Aug 2021 02:01:18</td>\n      <td>[cat, cats, lol, lolcat, lolcats]</td>\n      <td>jpg</td>\n    </tr>\n    <tr>\n      <th>41</th>\n      <td>658338845753999360</td>\n      <td>https://64.media.tumblr.com/1fca341b03f832d679...</td>\n      <td>Sun, 01 Aug 2021 20:00:48</td>\n      <td>[cat, cats, lol, lolcat, lolcats]</td>\n      <td>png</td>\n    </tr>\n    <tr>\n      <th>42</th>\n      <td>658225598089609217</td>\n      <td>https://64.media.tumblr.com/07aad399cc881a2399...</td>\n      <td>Sat, 31 Jul 2021 14:00:47</td>\n      <td>[cat, cats, lol, lolcat, lolcats]</td>\n      <td>jpg</td>\n    </tr>\n    <tr>\n      <th>43</th>\n      <td>658210575863742464</td>\n      <td>https://64.media.tumblr.com/d5b0639155ee97c854...</td>\n      <td>Sat, 31 Jul 2021 10:02:00</td>\n      <td>[cat, cats, lol, lolcat, lolcats]</td>\n      <td>jpg</td>\n    </tr>\n    <tr>\n      <th>44</th>\n      <td>658165190497583104</td>\n      <td>https://64.media.tumblr.com/ea6ad0eae613c5f60f...</td>\n      <td>Fri, 30 Jul 2021 22:00:38</td>\n      <td>[gif, lolcat, lolcats, cat, funny]</td>\n      <td>gif</td>\n    </tr>\n    <tr>\n      <th>45</th>\n      <td>657946256220536832</td>\n      <td>https://64.media.tumblr.com/16cf3a5e394112f7d0...</td>\n      <td>Wed, 28 Jul 2021 12:00:46</td>\n      <td>[cat, cats, lol, lolcat, lolcats]</td>\n      <td>jpg</td>\n    </tr>\n    <tr>\n      <th>46</th>\n      <td>657931173576704000</td>\n      <td>https://64.media.tumblr.com/2b7dfb6b1677079a45...</td>\n      <td>Wed, 28 Jul 2021 08:01:02</td>\n      <td>[cat, cats, lol, lolcat, lolcats]</td>\n      <td>jpg</td>\n    </tr>\n    <tr>\n      <th>47</th>\n      <td>657312093673078784</td>\n      <td>https://64.media.tumblr.com/17fe9380eed8516e45...</td>\n      <td>Wed, 21 Jul 2021 12:01:01</td>\n      <td>[cat, cats, lol, lolcat, lolcats]</td>\n      <td>png</td>\n    </tr>\n    <tr>\n      <th>48</th>\n      <td>656677912834195456</td>\n      <td>https://64.media.tumblr.com/7c4e668dc5eb0e89ed...</td>\n      <td>Wed, 14 Jul 2021 12:00:59</td>\n      <td>[cat, cats, lol, lolcat, lolcats]</td>\n      <td>jpg</td>\n    </tr>\n    <tr>\n      <th>49</th>\n      <td>656647679801212928</td>\n      <td>https://64.media.tumblr.com/f411261fd1e6911697...</td>\n      <td>Wed, 14 Jul 2021 04:00:27</td>\n      <td>[cat, cats, lol, lolcat, lolcats]</td>\n      <td>jpg</td>\n    </tr>\n  </tbody>\n</table>\n</div>"
     },
     "execution_count": 77,
     "metadata": {},
     "output_type": "execute_result"
    }
   ],
   "source": [
    "#Putting a max in case the blog has millions of images\n",
    "#The given max will be rounded up to the nearest multiple of 50\n",
    "def tumblrImageScrape(blogName, maxImages = 200):\n",
    "    #Restating this here so the function isn't dependent on any external variables\n",
    "    tumblrAPItarget = 'http://{}.tumblr.com/api/read/json'\n",
    "\n",
    "    #There are a bunch of possible locations for the photo url\n",
    "    possiblePhotoSuffixes = [1280, 500, 400, 250, 100]\n",
    "\n",
    "    #These are the pieces of information we will be gathering,\n",
    "    #at the end we will convert this to a DataFrame.\n",
    "    #There are a few other datums we could gather like the captions\n",
    "    #you can read the Tumblr documentation to learn how to get them\n",
    "    #https://www.tumblr.com/docs/en/api/v1\n",
    "    postsData = {\n",
    "        'id' : [],\n",
    "        'photo-url' : [],\n",
    "        'date' : [],\n",
    "        'tags' : [],\n",
    "        'photo-type' : []\n",
    "    }\n",
    "\n",
    "    #Tumblr limits us to a max of 50 posts per request\n",
    "    for requestNum in range(maxImages // 50):\n",
    "        requestParams = {\n",
    "            'start' : requestNum * 50,\n",
    "            'num' : 50,\n",
    "            'type' : 'photo'\n",
    "        }\n",
    "        r = requests.get(tumblrAPItarget.format(blogName), params = requestParams)\n",
    "        requestDict = json.loads(r.text[len('var tumblr_api_read = '):-2])\n",
    "        for postDict in requestDict['posts']:\n",
    "            #We are dealing with uncleaned data, we can't trust it.\n",
    "            #Specifically, not all posts are guaranteed to have the fields we want\n",
    "            try:\n",
    "                postsData['id'].append(postDict['id'])\n",
    "                postsData['date'].append(postDict['date'])\n",
    "                postsData['tags'].append(postDict['tags'])\n",
    "            except KeyError as e:\n",
    "                raise KeyError(\"Post {} from {} is missing: {}\".format(postDict['id'], blogName, e))\n",
    "\n",
    "            foundSuffix = False\n",
    "            for suffix in possiblePhotoSuffixes:\n",
    "                try:\n",
    "                    photoURL = postDict['photo-url-{}'.format(suffix)]\n",
    "                    postsData['photo-url'].append(photoURL)\n",
    "                    postsData['photo-type'].append(photoURL.split('.')[-1])\n",
    "                    foundSuffix = True\n",
    "                    break\n",
    "                except KeyError:\n",
    "                    pass\n",
    "            if not foundSuffix:\n",
    "                #Make sure your error messages are useful\n",
    "                #You will be one of the users\n",
    "                raise KeyError(\"Post {} from {} is missing a photo url\".format(postDict['id'], blogName))\n",
    "\n",
    "    return pandas.DataFrame(postsData)\n",
    "tumblrImageScrape('lolcats-lol-cat', 50)"
   ]
  },
  {
   "cell_type": "markdown",
   "metadata": {},
   "source": [
    "Now we have the urls of a bunch of images and can run OCR on them to gather\n",
    "compelling meme narratives, accompanied by cats.\n",
    "\n",
    "# Files\n",
    "\n",
    "What if the text we want isn't on a webpage? There are a many other sources of\n",
    "text available, typically organized into *files*.\n",
    "\n",
    "## Raw text (and encoding)\n",
    "\n",
    "The most basic form of storing text is as a _raw text_ document. Source code\n",
    "(`.py`, `.r`, etc) is usually raw text as are text files (`.txt`) and those with\n",
    "many other extension (e.g., .csv, .dat, etc.). Opening an unknown file with a\n",
    "text editor is often a great way of learning what the file is.\n",
    "\n",
    "We can create a text file in python with the `open()` function"
   ]
  },
  {
   "cell_type": "code",
   "execution_count": 78,
   "metadata": {},
   "outputs": [],
   "source": [
    "#example_text_file = 'sometextfile.txt'\n",
    "#stringToWrite = 'A line\\nAnother line\\nA line with a few unusual symbols \\u2421 \\u241B \\u20A0 \\u20A1 \\u20A2 \\u20A3 \\u0D60\\n'\n",
    "stringToWrite = 'A line\\nAnother line\\nA line with a few unusual symbols ␡ ␛ ₠ ₡ ₢ ₣ ൠ\\n'\n",
    "\n",
    "with open(example_text_file, mode = 'w', encoding='utf-8') as f:\n",
    "    f.write(stringToWrite)"
   ]
  },
  {
   "cell_type": "markdown",
   "metadata": {},
   "source": [
    "Notice the `encoding='utf-8'` argument, which specifies how we map the bits from\n",
    "the file to the glyphs (and whitespace characters like tab (`'\\t'`) or newline\n",
    "(`'\\n'`)) on the screen. When dealing only with latin letters, arabic numerals\n",
    "and the other symbols on America keyboards you usually do not have to worry\n",
    "about encodings as the ones used today are backwards compatible with\n",
    "[ASCII](https://en.wikipedia.org/wiki/ASCII), which gives the binary\n",
    "representation of 128 characters.\n",
    "\n",
    "Some of you, however, will want to use other characters (e.g., Chinese\n",
    "characters). To solve this there is\n",
    "[Unicode](https://en.wikipedia.org/wiki/Unicode) which assigns numbers to\n",
    "symbols, e.g., 041 is `'A'` and 03A3 is `'Σ'` (numbers starting with 0 are\n",
    "hexadecimal). Often non/beyond-ASCII characters are called Unicode characters.\n",
    "Unicode contains 1,114,112 characters, about 10\\% of which have been assigned.\n",
    "Unfortunately there are many ways used to map combinations of bits to Unicode\n",
    "symbols. The ones you are likely to encounter are called by Python _utf-8_,\n",
    "_utf-16_ and _latin-1_. _utf-8_ is the standard for Linux and Mac OS while both\n",
    "_utf-16_ and _latin-1_ are used by windows. If you use the wrong encoding,\n",
    "characters can appear wrong, sometimes change in number or Python could raise an\n",
    "exception. Lets see what happens when we open the file we just created with\n",
    "different encodings."
   ]
  },
  {
   "cell_type": "code",
   "execution_count": 79,
   "metadata": {},
   "outputs": [
    {
     "name": "stdout",
     "output_type": "stream",
     "text": [
      "This is with the correct encoding:\n",
      "A line\n",
      "Another line\n",
      "A line with a few unusual symbols ␡ ␛ ₠ ₡ ₢ ₣ ൠ\n",
      "\n",
      "This is with the wrong encoding:\n",
      "A line\n",
      "Another line\n",
      "A line with a few unusual symbols â¡ â â  â¡ â¢ â£ àµ \n",
      "\n"
     ]
    }
   ],
   "source": [
    "with open(example_text_file, encoding='utf-8') as f:\n",
    "    print(\"This is with the correct encoding:\")\n",
    "    print(f.read())\n",
    "\n",
    "with open(example_text_file, encoding='latin-1') as f:\n",
    "    print(\"This is with the wrong encoding:\")\n",
    "    print(f.read())"
   ]
  },
  {
   "cell_type": "markdown",
   "metadata": {},
   "source": [
    "Notice that with _latin-1_ the unicode characters are mixed up and there are too\n",
    "many of them. You need to keep in mind encoding when obtaining text files.\n",
    "Determining the encoding can sometime involve substantial work."
   ]
  },
  {
   "cell_type": "markdown",
   "metadata": {},
   "source": [
    "We can also load many text files at once. Lets start by looking at the Shakespeare files in the `data` directory "
   ]
  },
  {
   "cell_type": "code",
   "execution_count": 80,
   "metadata": {},
   "outputs": [
    {
     "ename": "FileNotFoundError",
     "evalue": "[Errno 2] No such file or directory: './data/Shakespeare/midsummer_nights_dream.txt'",
     "output_type": "error",
     "traceback": [
      "\u001B[0;31m---------------------------------------------------------------------------\u001B[0m",
      "\u001B[0;31mFileNotFoundError\u001B[0m                         Traceback (most recent call last)",
      "\u001B[0;32m<ipython-input-80-4b47ba5edc9e>\u001B[0m in \u001B[0;36m<module>\u001B[0;34m\u001B[0m\n\u001B[0;32m----> 1\u001B[0;31m \u001B[0;32mwith\u001B[0m \u001B[0mopen\u001B[0m\u001B[0;34m(\u001B[0m\u001B[0;34m'./data/Shakespeare/midsummer_nights_dream.txt'\u001B[0m\u001B[0;34m)\u001B[0m \u001B[0;32mas\u001B[0m \u001B[0mf\u001B[0m\u001B[0;34m:\u001B[0m\u001B[0;34m\u001B[0m\u001B[0;34m\u001B[0m\u001B[0m\n\u001B[0m\u001B[1;32m      2\u001B[0m     \u001B[0mmidsummer\u001B[0m \u001B[0;34m=\u001B[0m \u001B[0mf\u001B[0m\u001B[0;34m.\u001B[0m\u001B[0mread\u001B[0m\u001B[0;34m(\u001B[0m\u001B[0;34m)\u001B[0m\u001B[0;34m\u001B[0m\u001B[0;34m\u001B[0m\u001B[0m\n\u001B[1;32m      3\u001B[0m \u001B[0mprint\u001B[0m\u001B[0;34m(\u001B[0m\u001B[0mmidsummer\u001B[0m\u001B[0;34m[\u001B[0m\u001B[0;34m-\u001B[0m\u001B[0;36m700\u001B[0m\u001B[0;34m:\u001B[0m\u001B[0;34m]\u001B[0m\u001B[0;34m)\u001B[0m\u001B[0;34m\u001B[0m\u001B[0;34m\u001B[0m\u001B[0m\n",
      "\u001B[0;31mFileNotFoundError\u001B[0m: [Errno 2] No such file or directory: './data/Shakespeare/midsummer_nights_dream.txt'"
     ]
    }
   ],
   "source": [
    "with open('./data/Shakespeare/midsummer_nights_dream.txt') as f:\n",
    "    midsummer = f.read()\n",
    "print(midsummer[-700:])"
   ]
  },
  {
   "cell_type": "markdown",
   "metadata": {},
   "source": [
    "By the way, depending on your working directory, you might get errors such as: [Errno 2] No such file or directory: '../data/Shakespeare/midsummer_nights_dream.txt.' Don't panic, it's nothing, just check your working directory. \n",
    "\n",
    "Then to load all the files in `./data/Shakespeare` we can use a for loop with `scandir`:"
   ]
  },
  {
   "cell_type": "code",
   "execution_count": 81,
   "metadata": {},
   "outputs": [
    {
     "ename": "UnicodeDecodeError",
     "evalue": "'utf-8' codec can't decode byte 0xe2 in position 8: invalid continuation byte",
     "output_type": "error",
     "traceback": [
      "\u001B[0;31m---------------------------------------------------------------------------\u001B[0m",
      "\u001B[0;31mUnicodeDecodeError\u001B[0m                        Traceback (most recent call last)",
      "\u001B[0;32m<ipython-input-81-ee621a115878>\u001B[0m in \u001B[0;36m<module>\u001B[0;34m\u001B[0m\n\u001B[1;32m      5\u001B[0m \u001B[0;32mfor\u001B[0m \u001B[0mfile\u001B[0m \u001B[0;32min\u001B[0m \u001B[0;34m(\u001B[0m\u001B[0mfile\u001B[0m \u001B[0;32mfor\u001B[0m \u001B[0mfile\u001B[0m \u001B[0;32min\u001B[0m \u001B[0mos\u001B[0m\u001B[0;34m.\u001B[0m\u001B[0mscandir\u001B[0m\u001B[0;34m(\u001B[0m\u001B[0mtargetDir\u001B[0m\u001B[0;34m)\u001B[0m \u001B[0;32mif\u001B[0m \u001B[0mfile\u001B[0m\u001B[0;34m.\u001B[0m\u001B[0mis_file\u001B[0m\u001B[0;34m(\u001B[0m\u001B[0;34m)\u001B[0m \u001B[0;32mand\u001B[0m \u001B[0;32mnot\u001B[0m \u001B[0mfile\u001B[0m\u001B[0;34m.\u001B[0m\u001B[0mname\u001B[0m\u001B[0;34m.\u001B[0m\u001B[0mstartswith\u001B[0m\u001B[0;34m(\u001B[0m\u001B[0;34m'.'\u001B[0m\u001B[0;34m)\u001B[0m\u001B[0;34m)\u001B[0m\u001B[0;34m:\u001B[0m\u001B[0;34m\u001B[0m\u001B[0;34m\u001B[0m\u001B[0m\n\u001B[1;32m      6\u001B[0m     \u001B[0;32mwith\u001B[0m \u001B[0mopen\u001B[0m\u001B[0;34m(\u001B[0m\u001B[0mfile\u001B[0m\u001B[0;34m.\u001B[0m\u001B[0mpath\u001B[0m\u001B[0;34m,\u001B[0m \u001B[0mencoding\u001B[0m\u001B[0;34m=\u001B[0m\u001B[0;34m\"utf-8\"\u001B[0m\u001B[0;34m)\u001B[0m \u001B[0;32mas\u001B[0m \u001B[0mf\u001B[0m\u001B[0;34m:\u001B[0m\u001B[0;34m\u001B[0m\u001B[0;34m\u001B[0m\u001B[0m\n\u001B[0;32m----> 7\u001B[0;31m         \u001B[0mshakespearText\u001B[0m\u001B[0;34m.\u001B[0m\u001B[0mappend\u001B[0m\u001B[0;34m(\u001B[0m\u001B[0mf\u001B[0m\u001B[0;34m.\u001B[0m\u001B[0mread\u001B[0m\u001B[0;34m(\u001B[0m\u001B[0;34m)\u001B[0m\u001B[0;34m)\u001B[0m\u001B[0;34m\u001B[0m\u001B[0;34m\u001B[0m\u001B[0m\n\u001B[0m\u001B[1;32m      8\u001B[0m     \u001B[0mshakespearFileName\u001B[0m\u001B[0;34m.\u001B[0m\u001B[0mappend\u001B[0m\u001B[0;34m(\u001B[0m\u001B[0mfile\u001B[0m\u001B[0;34m.\u001B[0m\u001B[0mname\u001B[0m\u001B[0;34m)\u001B[0m\u001B[0;34m\u001B[0m\u001B[0;34m\u001B[0m\u001B[0m\n",
      "\u001B[0;32m~/opt/anaconda3/lib/python3.8/codecs.py\u001B[0m in \u001B[0;36mdecode\u001B[0;34m(self, input, final)\u001B[0m\n\u001B[1;32m    320\u001B[0m         \u001B[0;31m# decode input (taking the buffer into account)\u001B[0m\u001B[0;34m\u001B[0m\u001B[0;34m\u001B[0m\u001B[0;34m\u001B[0m\u001B[0m\n\u001B[1;32m    321\u001B[0m         \u001B[0mdata\u001B[0m \u001B[0;34m=\u001B[0m \u001B[0mself\u001B[0m\u001B[0;34m.\u001B[0m\u001B[0mbuffer\u001B[0m \u001B[0;34m+\u001B[0m \u001B[0minput\u001B[0m\u001B[0;34m\u001B[0m\u001B[0;34m\u001B[0m\u001B[0m\n\u001B[0;32m--> 322\u001B[0;31m         \u001B[0;34m(\u001B[0m\u001B[0mresult\u001B[0m\u001B[0;34m,\u001B[0m \u001B[0mconsumed\u001B[0m\u001B[0;34m)\u001B[0m \u001B[0;34m=\u001B[0m \u001B[0mself\u001B[0m\u001B[0;34m.\u001B[0m\u001B[0m_buffer_decode\u001B[0m\u001B[0;34m(\u001B[0m\u001B[0mdata\u001B[0m\u001B[0;34m,\u001B[0m \u001B[0mself\u001B[0m\u001B[0;34m.\u001B[0m\u001B[0merrors\u001B[0m\u001B[0;34m,\u001B[0m \u001B[0mfinal\u001B[0m\u001B[0;34m)\u001B[0m\u001B[0;34m\u001B[0m\u001B[0;34m\u001B[0m\u001B[0m\n\u001B[0m\u001B[1;32m    323\u001B[0m         \u001B[0;31m# keep undecoded input until the next call\u001B[0m\u001B[0;34m\u001B[0m\u001B[0;34m\u001B[0m\u001B[0;34m\u001B[0m\u001B[0m\n\u001B[1;32m    324\u001B[0m         \u001B[0mself\u001B[0m\u001B[0;34m.\u001B[0m\u001B[0mbuffer\u001B[0m \u001B[0;34m=\u001B[0m \u001B[0mdata\u001B[0m\u001B[0;34m[\u001B[0m\u001B[0mconsumed\u001B[0m\u001B[0;34m:\u001B[0m\u001B[0;34m]\u001B[0m\u001B[0;34m\u001B[0m\u001B[0;34m\u001B[0m\u001B[0m\n",
      "\u001B[0;31mUnicodeDecodeError\u001B[0m: 'utf-8' codec can't decode byte 0xe2 in position 8: invalid continuation byte"
     ]
    }
   ],
   "source": [
    "targetDir = './' #Change this to your own directory of texts\n",
    "shakespearText = []\n",
    "shakespearFileName = []\n",
    "\n",
    "for file in (file for file in os.scandir(targetDir) if file.is_file() and not file.name.startswith('.')):\n",
    "    with open(file.path, encoding=\"utf-8\") as f:\n",
    "        shakespearText.append(f.read())\n",
    "    shakespearFileName.append(file.name)"
   ]
  },
  {
   "cell_type": "markdown",
   "metadata": {},
   "source": [
    "Then we can put them all in pandas DataFrame"
   ]
  },
  {
   "cell_type": "code",
   "execution_count": null,
   "metadata": {},
   "outputs": [],
   "source": [
    "shakespear_df = pandas.DataFrame({'text' : shakespearText}, index = shakespearFileName)\n",
    "shakespear_df"
   ]
  },
  {
   "cell_type": "markdown",
   "metadata": {},
   "source": [
    "Getting your text in a format like this is the first step of most analysis"
   ]
  },
  {
   "cell_type": "markdown",
   "metadata": {},
   "source": [
    "## PDF\n",
    "\n",
    "Another common way text will be stored is in a PDF file. First we will download\n",
    "a pdf in Python. To do that lets grab a chapter from\n",
    "_Speech and Language Processing_, chapter 21 is on Information Extraction which\n",
    "seems apt. It is stored as a pdf at [https://web.stanford.edu/~jurafsky/slp3/21.\n",
    "pdf](https://web.stanford.edu/~jurafsky/slp3/21.pdf) although we are downloading\n",
    "from a copy just in case Jurafsky changes their website."
   ]
  },
  {
   "cell_type": "code",
   "execution_count": 82,
   "metadata": {},
   "outputs": [
    {
     "name": "stdout",
     "output_type": "stream",
     "text": [
      "%PDF-1.3\n",
      "%���������\n",
      "4 0 obj\n",
      "<< /Length 5 0 R /Filter /FlateDecode >>\n",
      "stream\n",
      "x\u0001�]۶�F�}�W�c����T���\u0017C\u000F�i�\u0019<t\u001F�b\u0001\u000FM�f\n",
      "Tn�\u0006<3_�\u000B�CDf�\u001D�J�N�i�\u000F�#�%.;.\u0019���\t?\u000F߄��7�]8������ux��}\u001B޾\u000Fm����y��bǾ���\u0010�!\u001C\u000E���$�Ǯ���C�\u0007�F\u0006�����p�\u000F��5��1��1�P<�{�\u0010$�\u001A�/$�P�\fs�v��P\u001EgH?�����Q�~�*�:l��ˇ�m�ǰ��C�l����܊\u0017��E��\u001E���\u000F!�^�y��\u001Am�$�Ý���wۡل׼�6w���ī�K�~؞���r��\u0010~\u001B\u001E?�ˡkO�;6IH�9{ԡ���\u0000]?�E�E�\u0012�~���.l������+��\u001CW�\u000E\u0002_�\u000E��\u0002\u0002��C��S�|�~\u0005C��N�3ӛB`8�\u0001j9���AZ�\u0004�\u00110�d�l^�\u000E�����SY\u0012\t�Ƨ��>\u000Bq�ۇ&\n",
      "����.�����0���\u0015�;\u0000��>a8�$\fw�p��p����ST���\u000B.\u0000�7��@�\u0012���)�\u0013�&1�|���\u0002\u0004WՃ jOv�G2b�L8I��N�@\u0001\u001EgǍ�\u0004����\u0019�O�C��������IN@@���\u0002��\u0013}�8��+L����a�\u0005&�o\u0005\u0013�V(\u0019���0\f���+5\u001B�\n",
      "S\u001DfS&��<�2���\u001E��>l�V��&��=4⇤\u0019=\u001A�W��<�J\u0013Mo�\u001C���\"����d�C����[vY�|K\u001C{_ܔ\\��\u0017��%\u0001H�/@'�QA�+D�l��c��L�G�.��\t�̎�V�:f>���Aw\u0010K���o$`D\u0007��\u000BbE45�\u000B�\u0015%th6h��\u0005���>*�2vQd\u0010\u0015�+M��Y}�Q���u�[���N�o'b\u0010��/u�.r'Z�\u0017��J�\u0019e8�v\u0013\u000B��;�\u001D�{T�\t\f�����^8�\u0014 \u001A\u0018 l<�E�<���b�����C8\fj��f��xB>\u0001K\u0010���\u0019��|\u001F\u0004w��f�|?�\u0001s̭\u0018��Y�'�Ip&�\"�\u000BA���f�?!IYi���U�\"��y;�\u0007��#�\u000B\u000F�e3)�+B�&���\u001D�E9I�g�/]\"D��yfC;e����Y^�z ��s'�)/�X�-HY��<ˬ�ݰ\n"
     ]
    }
   ],
   "source": [
    "#information_extraction_pdf = 'https://github.com/KnowledgeLab/content_analysis/raw/data/21.pdf'\n",
    "\n",
    "infoExtractionRequest = requests.get(information_extraction_pdf, stream=True)\n",
    "print(infoExtractionRequest.text[:1000])"
   ]
  },
  {
   "cell_type": "markdown",
   "metadata": {},
   "source": [
    "It says `'pdf'`, so thats a good sign. The rest though looks like we are having\n",
    "issues with an encoding. The random characters are not caused by our encoding\n",
    "being wrong, however. They are cause by there not being an encoding for those\n",
    "parts at all. PDFs are nominally binary files, meaning there are sections of\n",
    "binary that are specific to pdf and nothing else so you need something that\n",
    "knows about pdf to read them. To do that we will be using\n",
    "[`PyPDF2`](https://github.com/mstamy2/PyPDF2), a PDF processing library for\n",
    "Python 3.\n",
    "\n",
    "\n",
    "Because PDFs are a very complicated file format pdfminer requires a large amount\n",
    "of boilerplate code to extract text, we have written a function that takes in an\n",
    "open PDF file and returns the text so you don't have to."
   ]
  },
  {
   "cell_type": "code",
   "execution_count": 83,
   "metadata": {},
   "outputs": [],
   "source": [
    "def readPDF(pdfFile):\n",
    "    #Based on code from http://stackoverflow.com/a/20905381/4955164\n",
    "    #Using utf-8, if there are a bunch of random symbols try changing this\n",
    "    codec = 'utf-8'\n",
    "    rsrcmgr = pdfminer.pdfinterp.PDFResourceManager()\n",
    "    retstr = io.StringIO()\n",
    "    layoutParams = pdfminer.layout.LAParams()\n",
    "    device = pdfminer.converter.TextConverter(rsrcmgr, retstr, laparams = layoutParams, codec = codec)\n",
    "    #We need a device and an interpreter\n",
    "    interpreter = pdfminer.pdfinterp.PDFPageInterpreter(rsrcmgr, device)\n",
    "    password = ''\n",
    "    maxpages = 0\n",
    "    caching = True\n",
    "    pagenos=set()\n",
    "    for page in pdfminer.pdfpage.PDFPage.get_pages(pdfFile, pagenos, maxpages=maxpages, password=password,caching=caching, check_extractable=True):\n",
    "        interpreter.process_page(page)\n",
    "    device.close()\n",
    "    returnedString = retstr.getvalue()\n",
    "    retstr.close()\n",
    "    return returnedString"
   ]
  },
  {
   "cell_type": "markdown",
   "metadata": {},
   "source": [
    "First we need to take the response object and convert it into a 'file like'\n",
    "object so that pdfminer can read it. To do this we will use `io`'s `BytesIO`."
   ]
  },
  {
   "cell_type": "code",
   "execution_count": 84,
   "metadata": {},
   "outputs": [],
   "source": [
    "infoExtractionBytes = io.BytesIO(infoExtractionRequest.content)"
   ]
  },
  {
   "cell_type": "markdown",
   "metadata": {},
   "source": [
    "Now we can give it to pdfminer."
   ]
  },
  {
   "cell_type": "code",
   "execution_count": 85,
   "metadata": {},
   "outputs": [
    {
     "name": "stdout",
     "output_type": "stream",
     "text": [
      "Department of  Sociology \n",
      "\n",
      "THE UNIVERSITY OF CHICAGO \n",
      "\n",
      "SOCIOLOGY 40133 \n",
      "\n",
      "Computational Content Analysis \n",
      "\n",
      "Friday 1:00 – 3:50pm \n",
      "Winter 2017-2018 \n",
      "Classroom: Harper Memorial 130       \n",
      "http://chalk.uchicago.edu/ \n",
      "\n",
      " \n",
      "\n",
      "                                                                                           \n",
      "\n",
      "          Office: McGiffert 210 \n",
      "                                                    Tel.: 834-3612; jevans@uchicago.edu \n",
      "                                  Office Hours: Thursday 12:30-2:30pm \n",
      "\n",
      "     \n",
      "\n",
      "        James A. Evans            \n",
      "\n",
      "    \n"
     ]
    }
   ],
   "source": [
    "print(readPDF(infoExtractionBytes)[:550])"
   ]
  },
  {
   "cell_type": "markdown",
   "metadata": {},
   "source": [
    "From here we can either look at the full text or fiddle with our PDF reader and\n",
    "get more information about individual blocks of text.\n",
    "\n",
    "## Word Docs\n",
    "\n",
    "The other type of document you are likely to encounter is the `.docx`, these are\n",
    "actually a version of [XML](https://en.wikipedia.org/wiki/Office_Open_XML), just\n",
    "like HTML, and like HTML we will use a specialized parser.\n",
    "\n",
    "For this class we will use [`python-docx`](https://python-\n",
    "docx.readthedocs.io/en/latest/) which provides a nice simple interface for\n",
    "reading `.docx` files"
   ]
  },
  {
   "cell_type": "code",
   "execution_count": 86,
   "metadata": {},
   "outputs": [
    {
     "name": "stdout",
     "output_type": "stream",
     "text": [
      " \n",
      " \n",
      "\n",
      "Accessing the Research Computing Center Resources\n",
      "\n",
      "To connect to the midway compute cluster to access your home directory and the macs60000 storage space, and utilize the HPC resources, you will either use a terminal client (with or without X11 forwarding capabilities) or the Linux remote desktop server software client (Thinlinc) to connect to the midway cluster. To submit jobs, monitor jobs, browse directories or do other computing you will need to connect through either the terminal or remote desktop. Setup and utilization of these clients will be discussed below in the context of your local platform’s architecture.\n",
      "SSH Client Setup & Remote Desktop Server\n"
     ]
    }
   ],
   "source": [
    "#example_docx = 'https://github.com/KnowledgeLab/content_analysis/raw/data/example_doc.docx'\n",
    "\n",
    "r = requests.get(example_docx, stream=True)\n",
    "d = docx.Document(io.BytesIO(r.content))\n",
    "for paragraph in d.paragraphs[:7]:\n",
    "    print(paragraph.text)"
   ]
  },
  {
   "cell_type": "markdown",
   "metadata": {},
   "source": [
    "This procedure uses the `io.BytesIO` class again, since `docx.Document` expects\n",
    "a file. Another way to do it is to save the document to a file and then read it\n",
    "like any other file. If we do this we can either delete the file afterwords, or\n",
    "save it and avoid downloading the following time.\n",
    "\n",
    "This function is useful as a part of many different tasks so it and others like it will be added to the helper package `lucem_illud` so we can use it later without having to retype it."
   ]
  },
  {
   "cell_type": "code",
   "execution_count": 88,
   "metadata": {},
   "outputs": [],
   "source": [
    "def downloadIfNeeded(targetURL, outputFile, **openkwargs):\n",
    "    if not os.path.isfile(outputFile):\n",
    "        outputDir = os.path.dirname(outputFile)\n",
    "        #This function is a more general os.mkdir()\n",
    "        if len(outputDir) > 0:\n",
    "            os.makedirs(outputDir, exist_ok = True)\n",
    "        r = requests.get(targetURL, stream=True)\n",
    "        #Using a closure like this is generally better than having to\n",
    "        #remember to close the file. There are ways to make this function\n",
    "        #work as a closure too\n",
    "        with open(outputFile, 'wb') as f:\n",
    "            f.write(r.content)\n",
    "    return open(outputFile, **openkwargs)"
   ]
  },
  {
   "cell_type": "markdown",
   "metadata": {},
   "source": [
    "This function will download, save and open `outputFile` as `outputFile` or just\n",
    "open it if `outputFile` exists. By default `open()` will open the file as read\n",
    "only text with the local encoding, which may cause issues if its not a text\n",
    "file."
   ]
  },
  {
   "cell_type": "code",
   "execution_count": 89,
   "metadata": {},
   "outputs": [
    {
     "name": "stdout",
     "output_type": "stream",
     "text": [
      "File is not a zip file\n"
     ]
    }
   ],
   "source": [
    "try:\n",
    "    d = docx.Document(downloadIfNeeded(example_docx, example_docx_save))\n",
    "except Exception as e:\n",
    "    print(e)"
   ]
  },
  {
   "cell_type": "markdown",
   "metadata": {},
   "source": [
    "We need to tell `open()` to read in binary mode (`'rb'`), this is why we added\n",
    "`**openkwargs`, this allows us to pass any keyword arguments (kwargs) from\n",
    "`downloadIfNeeded` to `open()`."
   ]
  },
  {
   "cell_type": "code",
   "execution_count": null,
   "metadata": {},
   "outputs": [],
   "source": [
    "d = docx.Document(downloadIfNeeded(example_docx, example_docx_save, mode = 'rb'))\n",
    "for paragraph in d.paragraphs[:7]:\n",
    "    print(paragraph.text)"
   ]
  },
  {
   "cell_type": "markdown",
   "metadata": {},
   "source": [
    "Now we can read the file with `docx.Document` and not have to wait for it to be\n",
    "downloaded every time."
   ]
  },
  {
   "cell_type": "markdown",
   "metadata": {},
   "source": [
    "# <font color=\"red\">Exercise 3</font>\n",
    "<font color=\"red\">Construct cells immediately below this that extract and organize textual content from text, PDF or Word into a pandas dataframe.</font>\n"
   ]
  },
  {
   "cell_type": "code",
   "execution_count": 100,
   "outputs": [],
   "source": [
    "def extract_text(file_name):\n",
    "    read_data = \"\"\n",
    "    if file_name.lower().endswith('txt'):\n",
    "        with open(file_name) as f:\n",
    "            read_data = f.read()\n",
    "\n",
    "    if file_name.lower().endswith('docx') or file_name.lower().endswith('doc'):\n",
    "        doc = docx.Document(file_name)\n",
    "        read_data = []\n",
    "        for para in doc.paragraphs:\n",
    "            read_data.append(para.text)\n",
    "        read_data = '\\n'.join(read_data)\n",
    "\n",
    "    if file_name.lower().endswith('pdf'):\n",
    "        read_data = readPDF(file_name)\n",
    "\n",
    "    return pd.DataFrame({'content': read_data}, index= [file_name])"
   ],
   "metadata": {
    "collapsed": false,
    "pycharm": {
     "name": "#%%\n"
    }
   }
  },
  {
   "cell_type": "code",
   "execution_count": 101,
   "outputs": [
    {
     "name": "stdout",
     "output_type": "stream",
     "text": [
      "                                                                  content\n",
      "hosamanesudhamshu.docx  Make sure to provide citations in text, not ju...\n"
     ]
    }
   ],
   "source": [
    "# df = extract_text('hosamanesudhamshu.docx')\n",
    "# print(df)"
   ],
   "metadata": {
    "collapsed": false,
    "pycharm": {
     "name": "#%%\n"
    }
   }
  },
  {
   "cell_type": "markdown",
   "metadata": {},
   "source": [
    "# <font color=\"red\">Exercise 4</font>\n",
    "\n",
    "<font color=\"red\">In the two cells immediately following, describe a possible project (e.g., it might end up being your final project, but need not be if you are still searching): **WHAT** you will analyze--the texts you will select and the social game, world and actors you intend to learn about through your analysis (<100 words); **WHY** you will analyze these texts to learn about that context--justify the rationale behind your proposed sample design for this project, based on the readings. What is the social game, social work, or social actors about whom you are seeking to make inferences? What are the virtues of your proposed sample with respect to your research questions? What are its limitations? What are alternatives? What would be a reasonable path to \"scale up\" your sample for further analysis (i.e., high-profile publication)? (<150 words)? [**Note**: your individual or collective project will change over the course of the quarter as new data and/or analysis opportunities arise or if old ones fade away.] "
   ]
  },
  {
   "cell_type": "markdown",
   "metadata": {},
   "source": [
    "## ***What?*** \n",
    "<100 words"
   ]
  },
  {
   "cell_type": "markdown",
   "source": [
    "I am planning to analyze the discourse of news article, the writers, the\n",
    "anchors, who they refer to and what is the sentiment they have of their\n",
    "subject (critical, empathetic, reverance, etc.). I also plan to verify if\n",
    "these players interact outside of their professional setting (on social media\n",
    " or other places)"
   ],
   "metadata": {
    "collapsed": false
   }
  },
  {
   "cell_type": "markdown",
   "metadata": {},
   "source": [
    "## ***Why?***\n",
    "<150 words"
   ]
  },
  {
   "cell_type": "markdown",
   "metadata": {},
   "source": [
    "### Sources:\n",
    "\n",
    "Other popular sources for internet data:\n",
    "\n",
    "[reddit](https://www.reddit.com/) - https://praw.readthedocs.io/en/v2.1.21/\n",
    "\n",
    "[twitter](https://twitter.com/) - https://pypi.org/project/python-twitter/\n",
    "\n",
    "[project gutenburg](https://www.gutenberg.org/) - https://github.com/ageitgey/Gutenberg \n",
    "\n"
   ]
  }
 ],
 "metadata": {
  "kernelspec": {
   "display_name": "Python 3 (ipykernel)",
   "language": "python",
   "name": "python3"
  },
  "language_info": {
   "codemirror_mode": {
    "name": "ipython",
    "version": 3
   },
   "file_extension": ".py",
   "mimetype": "text/x-python",
   "name": "python",
   "nbconvert_exporter": "python",
   "pygments_lexer": "ipython3",
   "version": "3.9.7"
  }
 },
 "nbformat": 4,
 "nbformat_minor": 2
}